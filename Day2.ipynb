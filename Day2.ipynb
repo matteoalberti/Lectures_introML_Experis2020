{
  "nbformat": 4,
  "nbformat_minor": 0,
  "metadata": {
    "colab": {
      "name": "Day2.ipynb",
      "provenance": []
    },
    "kernelspec": {
      "display_name": "Python 3",
      "language": "python",
      "name": "python3"
    },
    "language_info": {
      "codemirror_mode": {
        "name": "ipython",
        "version": 2
      },
      "file_extension": ".py",
      "mimetype": "text/x-python",
      "name": "python",
      "nbconvert_exporter": "python",
      "pygments_lexer": "ipython2",
      "version": "2.7.17"
    },
    "toc": {
      "base_numbering": 1,
      "nav_menu": {},
      "number_sections": true,
      "sideBar": true,
      "skip_h1_title": false,
      "title_cell": "Table of Contents",
      "title_sidebar": "Contents",
      "toc_cell": false,
      "toc_position": {},
      "toc_section_display": true,
      "toc_window_display": false
    },
    "varInspector": {
      "cols": {
        "lenName": 16,
        "lenType": 16,
        "lenVar": 40
      },
      "kernels_config": {
        "python": {
          "delete_cmd_postfix": "",
          "delete_cmd_prefix": "del ",
          "library": "var_list.py",
          "varRefreshCmd": "print(var_dic_list())"
        },
        "r": {
          "delete_cmd_postfix": ") ",
          "delete_cmd_prefix": "rm(",
          "library": "var_list.r",
          "varRefreshCmd": "cat(var_dic_list()) "
        }
      },
      "types_to_exclude": [
        "module",
        "function",
        "builtin_function_or_method",
        "instance",
        "_Feature"
      ],
      "window_display": true
    }
  },
  "cells": [
    {
      "cell_type": "markdown",
      "metadata": {
        "id": "NEnwnRhNRRyx"
      },
      "source": [
        "# **Welcome Again!**\n",
        "\n",
        "## Introduction to Machine Learning Pt.2\n",
        "\n",
        "\n",
        "\n",
        "## **Lecturer :** Matteo Alberti\n",
        "\n",
        "![](data:image/jpeg;base64,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)\n",
        "\n",
        "*Contacts :* https://www.linkedin.com/in/matteo-alberti-170493/\n"
      ]
    },
    {
      "cell_type": "markdown",
      "metadata": {
        "id": "sibE43BKRVLV"
      },
      "source": [
        "## Introduction to Supervised and Unsupervised Machine Learning\n",
        "\n",
        "![](https://www.diegocalvo.es/wp-content/uploads/2018/09/machine-learning-classification.png)\n",
        "\n",
        "\n"
      ]
    },
    {
      "cell_type": "markdown",
      "metadata": {
        "id": "VraWNaq_RdBU"
      },
      "source": [
        "## What if ..\n",
        "\n",
        "$y=f(x)$\n",
        "\n",
        "### y is not a quantitative variable?\n",
        "\n",
        "![](https://whataftercollege.com/wp-content/uploads/2020/05/Classification-of-Machine-Learning.jpg)"
      ]
    },
    {
      "cell_type": "markdown",
      "metadata": {
        "id": "6HVXpqQxRs9D"
      },
      "source": [
        "# Logistic Regression\n",
        "\n",
        "A solution for classification is logistic regression. Instead of fitting a straight line or hyperplane, the logistic regression model uses the logistic function to squeeze the output of a linear equation between 0 and 1. The logistic function is defined as:\n",
        "\n",
        "$$logistic(η) = \\frac{1}{1+ exp(-η)}$$"
      ]
    },
    {
      "cell_type": "markdown",
      "metadata": {
        "id": "UIt0TRdHnjCz"
      },
      "source": [
        "![](https://www.graphpad.com/guides/prism/8/curve-fitting/images/hmfile_hash_38a8acae.png)"
      ]
    },
    {
      "cell_type": "markdown",
      "metadata": {
        "id": "sa9iLkBSnp7h"
      },
      "source": [
        " In the linear regression model, we have modelled the relationship between outcome and features with a linear equation:\n",
        "\n",
        " $yhat = alfa + beta_1 * x_1 + beta_2 * x_2 + … + beta_p * x_p + error$\n",
        "\n",
        "\n",
        " For classification, we prefer probabilities between 0 and 1\n",
        "\n",
        " $$logistic(η) = \\frac{1}{1+ exp(-(alfa + beta_1 * x_1 + beta_2 * x_2 + … + beta_p * x_p + error) )}$$\n",
        "\n"
      ]
    },
    {
      "cell_type": "markdown",
      "metadata": {
        "id": "lOSCehzwoqUp"
      },
      "source": [
        "# Metrics for binary classification"
      ]
    },
    {
      "cell_type": "markdown",
      "metadata": {
        "id": "Zya01K73p5ho"
      },
      "source": [
        "## Confusion Matrix\n",
        "\n",
        "Confusion Matrix is a tool to determine the performance of classifier. It contains information about actual and predicted classifications. The below table shows confusion matrix of two-class, spam and non-spam classifier.\n",
        "\n",
        "![](https://glassboxmedicine.files.wordpress.com/2019/02/confusion-matrix.png?w=816)"
      ]
    },
    {
      "cell_type": "markdown",
      "metadata": {
        "id": "elyC9h5aqs__"
      },
      "source": [
        "### We can develop several metrics based on CM\n",
        "\n",
        "**Sensitivity** is also referred as True Positive Rate or Recall. It is measure of positive examples labeled as positive by classifier. It should be higher. For instance, proportion of emails which are spam among all spam emails.  \n",
        "\n",
        "$$TP/(TP+FP)$$\n",
        "\n",
        "*Example* : SPAM detection, Breast Cancer detection, ect ect\n"
      ]
    },
    {
      "cell_type": "markdown",
      "metadata": {
        "id": "yaXm-5GvrglB"
      },
      "source": [
        "**Specificity** is also know as True Negative Rate. It is measure of negative examples labeled as negative by classifier. \n",
        "\n",
        "$$TN/(TN+FN)$$"
      ]
    },
    {
      "cell_type": "markdown",
      "metadata": {
        "id": "1ref1_hgr4Jw"
      },
      "source": [
        "**Precision** is ratio of total number of correctly classified positive examples and the total number of predicted positive examples\n",
        "\n",
        "\n",
        "$$TP/(TP+FN)$$\n"
      ]
    },
    {
      "cell_type": "markdown",
      "metadata": {
        "id": "OH5Qc322sJOW"
      },
      "source": [
        "**Accuracy** \n",
        "\n",
        "$$\\frac{(TP+TN)}{(ALL)}$$\n",
        "\n",
        "0 : $\\frac{(0)}{(ALL)}$\n",
        "\n",
        "1 : $\\frac{(ALL)}{(ALL)}$"
      ]
    },
    {
      "cell_type": "markdown",
      "metadata": {
        "id": "6qJxjaH7qVWq"
      },
      "source": [
        "## Summary \n",
        "\n",
        "![](https://2.bp.blogspot.com/-EvSXDotTOwc/XMfeOGZ-CVI/AAAAAAAAEiE/oePFfvhfOQM11dgRn9FkPxlegCXbgOF4QCLcBGAs/s1600/confusionMatrxiUpdated.jpg)"
      ]
    },
    {
      "cell_type": "markdown",
      "metadata": {
        "id": "hermyPaJscB6"
      },
      "source": [
        "**F1 score** : weighted average of the recall (sensitivity) and precision.\n",
        "\n",
        "$$F1_{score} = 2* \\frac{Precision * Recall}{Precision + Recall}$$"
      ]
    },
    {
      "cell_type": "markdown",
      "source": [
        "**We use precision when we want the prediction of 1 to be as correct as possible and we use recall when we want our model to spot as many real 1 as possible**\n"
      ],
      "metadata": {
        "id": "_YBCeImtX8e9"
      }
    },
    {
      "cell_type": "markdown",
      "metadata": {
        "id": "EfLY36nRtANp"
      },
      "source": [
        "## ROC Curve"
      ]
    },
    {
      "cell_type": "markdown",
      "metadata": {
        "id": "KtHMvCH9tDfT"
      },
      "source": [
        "**An ROC curve (or receiver operating characteristic curve) is a plot that summarizes the performance of a binary classification model on the positive class.**\n",
        "\n",
        "*AUC - ROC curve is a performance measurement for classification problem at various thresholds settings. ROC is a probability curve and AUC represents degree or measure of separability. It tells how much model is capable of distinguishing between classes.*\n",
        "\n",
        "The x-axis : **FPr** \n",
        "\n",
        "The y-axis : **TPr**\n",
        "\n",
        "ROC Curve: Plot of False Positive Rate (x) vs. True Positive Rate (y).\n",
        "\n",
        "The **true positive rate** is a fraction calculated as the total number of true positive predictions divided by the sum of the true positives and the false negatives (e.g. all examples in the positive class). The true positive rate is referred to as the **sensitivity** or the **recall**.\n",
        "\n",
        "**TruePositiveRate = TruePositives / (TruePositives + False Negatives)**\n",
        "\n",
        "The **false positive** rate is calculated as the total number of false positive predictions divided by the sum of the false positives and true negatives (e.g. all examples in the negative class).\n",
        "\n",
        "**FalsePositiveRate = FalsePositives / (FalsePositives + TrueNegatives)**\n",
        "\n",
        "We can think of the plot as the fraction of correct predictions for the positive class (y-axis) versus the fraction of errors for the negative class (x-axis).\n",
        "\n",
        "![](https://els-jbs-prod-cdn.jbs.elsevierhealth.com/cms/attachment/36cdb4ec-0c7d-48cb-9a4d-7cb463f8b7c3/gr1.jpg)"
      ]
    },
    {
      "cell_type": "markdown",
      "metadata": {
        "id": "AKCba-QNorT-"
      },
      "source": [
        "# Imbalanced Classification\n",
        "\n",
        "![](https://arc-anglerfish-washpost-prod-washpost.s3.amazonaws.com/public/QFE3K6B2QE4I5FJDTVOVGC7M5M.png)\n",
        "\n",
        "\n",
        "\n",
        "For imbalanced classification problems, the majority class is typically referred to as the negative outcome (e.g. such as “no change” or “negative test result“), and the minority class is typically referred to as the positive outcome (e.g. “change” or “positive test result“)."
      ]
    },
    {
      "cell_type": "markdown",
      "metadata": {
        "id": "EVnsMzkooVSv"
      },
      "source": [
        "# Multi Class Classification\n",
        "\n",
        " A classification task with more than two classes\n",
        "\n",
        " We have to adapt our *Logistic Function* to a new tasks . . . multi-class classification\n",
        "\n",
        " **Multinomial Logistic Regression** \n",
        "\n",
        "It uses **softmax function** instead of the sigmoid function the cross entropy loss function. **Softmax is a generalization of the sigmoid function.**\n",
        "\n",
        "![](https://wikimedia.org/api/rest_v1/media/math/render/svg/bdc1f8eaa8064d15893f1ba6426f20ff8e7149c5)\n",
        "\n",
        "\n",
        "*Steps :*\n",
        "\n",
        "- Raise e (the mathematical constant) to the power of each of those numbers.\n",
        "- Sum up all the exponentials (powers of ee). This result is the denominator.\n",
        "- Use each number’s exponential as its numerator.\n",
        "- $Probability=\\frac{Numerator}{Denominator}$\n",
        "\n",
        "\n",
        "The softmax function squashes all values to the range [0,1] and the sum of the elements is 1.\n",
        "\n",
        "\n",
        "*Example* : \n",
        "\n",
        "Given : -1, 0, 3, 5\n",
        "\n",
        "*We calculate Denominator :* $e^{-1}+e^{0} + e^{3} + e^{5}$ = 169.87\n",
        "\n",
        "*We calculate each Numerator $e^{x}$: * $e^{-1}=0.368, e^{}=1 . . . $\n",
        "\n",
        "*We calculate single probabilities :* $ P( \\frac{e^{x}}{{Denominator}})$ : 0.368/169.87 = 0.002, 1/169.87= 0.006 . . \n",
        "\n",
        "**Bigger x : bigger Probability**\n",
        "\n",
        "*Try to calculate all values probabilities and sum each other, what is the final number?*\n",
        "\n"
      ]
    },
    {
      "cell_type": "markdown",
      "metadata": {
        "id": "CqGS96r1B2Kf"
      },
      "source": []
    },
    {
      "cell_type": "code",
      "metadata": {
        "id": "GlN5gTcleqjW",
        "outputId": "5014422b-732c-4340-ed3a-5309307d86cf",
        "colab": {
          "base_uri": "https://localhost:8080/"
        }
      },
      "source": [
        "# Fuck paper and pen, use numpy!\n",
        "\n",
        "import numpy as np\n",
        "\n",
        "def softmax(xs):\n",
        "    return np.exp(xs) / sum(np.exp(xs))\n",
        "\n",
        "xs = np.array([-1,0,3,5])\n",
        "print(softmax(xs))"
      ],
      "execution_count": 1,
      "outputs": [
        {
          "output_type": "stream",
          "name": "stdout",
          "text": [
            "[0.0021657  0.00588697 0.11824302 0.87370431]\n"
          ]
        }
      ]
    },
    {
      "cell_type": "markdown",
      "metadata": {
        "id": "lB5Cg1KjquAT"
      },
      "source": [
        "## Confusion Matrix for multi-class classification\n",
        "\n",
        "\n",
        "![](https://miro.medium.com/max/2228/1*yH2SM0DIUQlEiveK42NnBg.png)\n",
        "\n",
        "\n",
        "\n",
        "### Any problem with that? discuss together!\n",
        "\n"
      ]
    },
    {
      "cell_type": "markdown",
      "metadata": {
        "id": "Me1ZIJjLh0Qe"
      },
      "source": [
        "- TP = \n",
        "- TN = \n",
        "- FP = \n",
        "- FN = \n",
        "\n",
        "\n",
        "*per la classe Apple*"
      ]
    },
    {
      "cell_type": "markdown",
      "metadata": {
        "id": "W6zzeRGOwl_w"
      },
      "source": [
        "# Load Packages"
      ]
    },
    {
      "cell_type": "code",
      "metadata": {
        "id": "LZ-sP6xvwmJ5"
      },
      "source": [
        "import time\n",
        "import pandas as pd\n",
        "import matplotlib.pyplot as plt\n",
        "import seaborn as sns\n",
        "import numpy as np\n",
        "\n",
        "from sklearn.preprocessing import StandardScaler\n",
        "from sklearn.preprocessing import LabelEncoder\n",
        "from sklearn.linear_model import LogisticRegression\n",
        "from sklearn.model_selection import train_test_split\n",
        "from sklearn.compose import ColumnTransformer\n",
        "from sklearn.metrics import classification_report\n",
        "from sklearn.metrics import roc_auc_score\n",
        "\n",
        "from sklearn.pipeline import Pipeline\n",
        "\n",
        "%matplotlib inline"
      ],
      "execution_count": null,
      "outputs": []
    },
    {
      "cell_type": "markdown",
      "metadata": {
        "id": "L3tWxJL9weeb"
      },
      "source": [
        "### Wine quality Dataset\n",
        "\n",
        "- Fixed acidity\n",
        " -Volatile acidity\n",
        "- Citric acid\n",
        "- Residual sugar\n",
        "- Chlorides\n",
        "- Free sulfur dioxide\n",
        "- Total sulfur dioxide\n",
        "- Density\n",
        "- pH\n",
        "- Sulfates\n",
        "- Alcohol"
      ]
    },
    {
      "cell_type": "code",
      "metadata": {
        "id": "SGsrtJlmet-k"
      },
      "source": [
        "df_wine = pd.read_csv('http://archive.ics.uci.edu/ml/machine-learning-databases/wine-quality/winequality-white.csv', delimiter=\";\")"
      ],
      "execution_count": null,
      "outputs": []
    },
    {
      "cell_type": "code",
      "metadata": {
        "id": "tkJodmqzLVvg",
        "outputId": "5a548933-ec4a-4bc4-e85b-8f4890cc16eb",
        "colab": {
          "base_uri": "https://localhost:8080/",
          "height": 348
        }
      },
      "source": [
        "# show dataset first 10 rows\n",
        "\n",
        "df_wine.head(10)"
      ],
      "execution_count": null,
      "outputs": [
        {
          "output_type": "execute_result",
          "data": {
            "text/html": [
              "<div>\n",
              "<style scoped>\n",
              "    .dataframe tbody tr th:only-of-type {\n",
              "        vertical-align: middle;\n",
              "    }\n",
              "\n",
              "    .dataframe tbody tr th {\n",
              "        vertical-align: top;\n",
              "    }\n",
              "\n",
              "    .dataframe thead th {\n",
              "        text-align: right;\n",
              "    }\n",
              "</style>\n",
              "<table border=\"1\" class=\"dataframe\">\n",
              "  <thead>\n",
              "    <tr style=\"text-align: right;\">\n",
              "      <th></th>\n",
              "      <th>fixed acidity</th>\n",
              "      <th>volatile acidity</th>\n",
              "      <th>citric acid</th>\n",
              "      <th>residual sugar</th>\n",
              "      <th>chlorides</th>\n",
              "      <th>free sulfur dioxide</th>\n",
              "      <th>total sulfur dioxide</th>\n",
              "      <th>density</th>\n",
              "      <th>pH</th>\n",
              "      <th>sulphates</th>\n",
              "      <th>alcohol</th>\n",
              "      <th>quality</th>\n",
              "    </tr>\n",
              "  </thead>\n",
              "  <tbody>\n",
              "    <tr>\n",
              "      <th>0</th>\n",
              "      <td>7.0</td>\n",
              "      <td>0.27</td>\n",
              "      <td>0.36</td>\n",
              "      <td>20.7</td>\n",
              "      <td>0.045</td>\n",
              "      <td>45.0</td>\n",
              "      <td>170.0</td>\n",
              "      <td>1.0010</td>\n",
              "      <td>3.00</td>\n",
              "      <td>0.45</td>\n",
              "      <td>8.8</td>\n",
              "      <td>6</td>\n",
              "    </tr>\n",
              "    <tr>\n",
              "      <th>1</th>\n",
              "      <td>6.3</td>\n",
              "      <td>0.30</td>\n",
              "      <td>0.34</td>\n",
              "      <td>1.6</td>\n",
              "      <td>0.049</td>\n",
              "      <td>14.0</td>\n",
              "      <td>132.0</td>\n",
              "      <td>0.9940</td>\n",
              "      <td>3.30</td>\n",
              "      <td>0.49</td>\n",
              "      <td>9.5</td>\n",
              "      <td>6</td>\n",
              "    </tr>\n",
              "    <tr>\n",
              "      <th>2</th>\n",
              "      <td>8.1</td>\n",
              "      <td>0.28</td>\n",
              "      <td>0.40</td>\n",
              "      <td>6.9</td>\n",
              "      <td>0.050</td>\n",
              "      <td>30.0</td>\n",
              "      <td>97.0</td>\n",
              "      <td>0.9951</td>\n",
              "      <td>3.26</td>\n",
              "      <td>0.44</td>\n",
              "      <td>10.1</td>\n",
              "      <td>6</td>\n",
              "    </tr>\n",
              "    <tr>\n",
              "      <th>3</th>\n",
              "      <td>7.2</td>\n",
              "      <td>0.23</td>\n",
              "      <td>0.32</td>\n",
              "      <td>8.5</td>\n",
              "      <td>0.058</td>\n",
              "      <td>47.0</td>\n",
              "      <td>186.0</td>\n",
              "      <td>0.9956</td>\n",
              "      <td>3.19</td>\n",
              "      <td>0.40</td>\n",
              "      <td>9.9</td>\n",
              "      <td>6</td>\n",
              "    </tr>\n",
              "    <tr>\n",
              "      <th>4</th>\n",
              "      <td>7.2</td>\n",
              "      <td>0.23</td>\n",
              "      <td>0.32</td>\n",
              "      <td>8.5</td>\n",
              "      <td>0.058</td>\n",
              "      <td>47.0</td>\n",
              "      <td>186.0</td>\n",
              "      <td>0.9956</td>\n",
              "      <td>3.19</td>\n",
              "      <td>0.40</td>\n",
              "      <td>9.9</td>\n",
              "      <td>6</td>\n",
              "    </tr>\n",
              "    <tr>\n",
              "      <th>5</th>\n",
              "      <td>8.1</td>\n",
              "      <td>0.28</td>\n",
              "      <td>0.40</td>\n",
              "      <td>6.9</td>\n",
              "      <td>0.050</td>\n",
              "      <td>30.0</td>\n",
              "      <td>97.0</td>\n",
              "      <td>0.9951</td>\n",
              "      <td>3.26</td>\n",
              "      <td>0.44</td>\n",
              "      <td>10.1</td>\n",
              "      <td>6</td>\n",
              "    </tr>\n",
              "    <tr>\n",
              "      <th>6</th>\n",
              "      <td>6.2</td>\n",
              "      <td>0.32</td>\n",
              "      <td>0.16</td>\n",
              "      <td>7.0</td>\n",
              "      <td>0.045</td>\n",
              "      <td>30.0</td>\n",
              "      <td>136.0</td>\n",
              "      <td>0.9949</td>\n",
              "      <td>3.18</td>\n",
              "      <td>0.47</td>\n",
              "      <td>9.6</td>\n",
              "      <td>6</td>\n",
              "    </tr>\n",
              "    <tr>\n",
              "      <th>7</th>\n",
              "      <td>7.0</td>\n",
              "      <td>0.27</td>\n",
              "      <td>0.36</td>\n",
              "      <td>20.7</td>\n",
              "      <td>0.045</td>\n",
              "      <td>45.0</td>\n",
              "      <td>170.0</td>\n",
              "      <td>1.0010</td>\n",
              "      <td>3.00</td>\n",
              "      <td>0.45</td>\n",
              "      <td>8.8</td>\n",
              "      <td>6</td>\n",
              "    </tr>\n",
              "    <tr>\n",
              "      <th>8</th>\n",
              "      <td>6.3</td>\n",
              "      <td>0.30</td>\n",
              "      <td>0.34</td>\n",
              "      <td>1.6</td>\n",
              "      <td>0.049</td>\n",
              "      <td>14.0</td>\n",
              "      <td>132.0</td>\n",
              "      <td>0.9940</td>\n",
              "      <td>3.30</td>\n",
              "      <td>0.49</td>\n",
              "      <td>9.5</td>\n",
              "      <td>6</td>\n",
              "    </tr>\n",
              "    <tr>\n",
              "      <th>9</th>\n",
              "      <td>8.1</td>\n",
              "      <td>0.22</td>\n",
              "      <td>0.43</td>\n",
              "      <td>1.5</td>\n",
              "      <td>0.044</td>\n",
              "      <td>28.0</td>\n",
              "      <td>129.0</td>\n",
              "      <td>0.9938</td>\n",
              "      <td>3.22</td>\n",
              "      <td>0.45</td>\n",
              "      <td>11.0</td>\n",
              "      <td>6</td>\n",
              "    </tr>\n",
              "  </tbody>\n",
              "</table>\n",
              "</div>"
            ],
            "text/plain": [
              "   fixed acidity  volatile acidity  citric acid  ...  sulphates  alcohol  quality\n",
              "0            7.0              0.27         0.36  ...       0.45      8.8        6\n",
              "1            6.3              0.30         0.34  ...       0.49      9.5        6\n",
              "2            8.1              0.28         0.40  ...       0.44     10.1        6\n",
              "3            7.2              0.23         0.32  ...       0.40      9.9        6\n",
              "4            7.2              0.23         0.32  ...       0.40      9.9        6\n",
              "5            8.1              0.28         0.40  ...       0.44     10.1        6\n",
              "6            6.2              0.32         0.16  ...       0.47      9.6        6\n",
              "7            7.0              0.27         0.36  ...       0.45      8.8        6\n",
              "8            6.3              0.30         0.34  ...       0.49      9.5        6\n",
              "9            8.1              0.22         0.43  ...       0.45     11.0        6\n",
              "\n",
              "[10 rows x 12 columns]"
            ]
          },
          "metadata": {
            "tags": []
          },
          "execution_count": 7
        }
      ]
    },
    {
      "cell_type": "code",
      "metadata": {
        "id": "ZTx4QDuXGJqm",
        "outputId": "62666062-37f5-4589-ac6e-21c24c7dfb79",
        "colab": {
          "base_uri": "https://localhost:8080/",
          "height": 348
        }
      },
      "source": [
        "# show dataset last 10 rows\n",
        "\n",
        "df_wine.tail(10)"
      ],
      "execution_count": null,
      "outputs": [
        {
          "output_type": "execute_result",
          "data": {
            "text/html": [
              "<div>\n",
              "<style scoped>\n",
              "    .dataframe tbody tr th:only-of-type {\n",
              "        vertical-align: middle;\n",
              "    }\n",
              "\n",
              "    .dataframe tbody tr th {\n",
              "        vertical-align: top;\n",
              "    }\n",
              "\n",
              "    .dataframe thead th {\n",
              "        text-align: right;\n",
              "    }\n",
              "</style>\n",
              "<table border=\"1\" class=\"dataframe\">\n",
              "  <thead>\n",
              "    <tr style=\"text-align: right;\">\n",
              "      <th></th>\n",
              "      <th>fixed acidity</th>\n",
              "      <th>volatile acidity</th>\n",
              "      <th>citric acid</th>\n",
              "      <th>residual sugar</th>\n",
              "      <th>chlorides</th>\n",
              "      <th>free sulfur dioxide</th>\n",
              "      <th>total sulfur dioxide</th>\n",
              "      <th>density</th>\n",
              "      <th>pH</th>\n",
              "      <th>sulphates</th>\n",
              "      <th>alcohol</th>\n",
              "      <th>quality</th>\n",
              "    </tr>\n",
              "  </thead>\n",
              "  <tbody>\n",
              "    <tr>\n",
              "      <th>4888</th>\n",
              "      <td>6.8</td>\n",
              "      <td>0.220</td>\n",
              "      <td>0.36</td>\n",
              "      <td>1.20</td>\n",
              "      <td>0.052</td>\n",
              "      <td>38.0</td>\n",
              "      <td>127.0</td>\n",
              "      <td>0.99330</td>\n",
              "      <td>3.04</td>\n",
              "      <td>0.54</td>\n",
              "      <td>9.2</td>\n",
              "      <td>5</td>\n",
              "    </tr>\n",
              "    <tr>\n",
              "      <th>4889</th>\n",
              "      <td>4.9</td>\n",
              "      <td>0.235</td>\n",
              "      <td>0.27</td>\n",
              "      <td>11.75</td>\n",
              "      <td>0.030</td>\n",
              "      <td>34.0</td>\n",
              "      <td>118.0</td>\n",
              "      <td>0.99540</td>\n",
              "      <td>3.07</td>\n",
              "      <td>0.50</td>\n",
              "      <td>9.4</td>\n",
              "      <td>6</td>\n",
              "    </tr>\n",
              "    <tr>\n",
              "      <th>4890</th>\n",
              "      <td>6.1</td>\n",
              "      <td>0.340</td>\n",
              "      <td>0.29</td>\n",
              "      <td>2.20</td>\n",
              "      <td>0.036</td>\n",
              "      <td>25.0</td>\n",
              "      <td>100.0</td>\n",
              "      <td>0.98938</td>\n",
              "      <td>3.06</td>\n",
              "      <td>0.44</td>\n",
              "      <td>11.8</td>\n",
              "      <td>6</td>\n",
              "    </tr>\n",
              "    <tr>\n",
              "      <th>4891</th>\n",
              "      <td>5.7</td>\n",
              "      <td>0.210</td>\n",
              "      <td>0.32</td>\n",
              "      <td>0.90</td>\n",
              "      <td>0.038</td>\n",
              "      <td>38.0</td>\n",
              "      <td>121.0</td>\n",
              "      <td>0.99074</td>\n",
              "      <td>3.24</td>\n",
              "      <td>0.46</td>\n",
              "      <td>10.6</td>\n",
              "      <td>6</td>\n",
              "    </tr>\n",
              "    <tr>\n",
              "      <th>4892</th>\n",
              "      <td>6.5</td>\n",
              "      <td>0.230</td>\n",
              "      <td>0.38</td>\n",
              "      <td>1.30</td>\n",
              "      <td>0.032</td>\n",
              "      <td>29.0</td>\n",
              "      <td>112.0</td>\n",
              "      <td>0.99298</td>\n",
              "      <td>3.29</td>\n",
              "      <td>0.54</td>\n",
              "      <td>9.7</td>\n",
              "      <td>5</td>\n",
              "    </tr>\n",
              "    <tr>\n",
              "      <th>4893</th>\n",
              "      <td>6.2</td>\n",
              "      <td>0.210</td>\n",
              "      <td>0.29</td>\n",
              "      <td>1.60</td>\n",
              "      <td>0.039</td>\n",
              "      <td>24.0</td>\n",
              "      <td>92.0</td>\n",
              "      <td>0.99114</td>\n",
              "      <td>3.27</td>\n",
              "      <td>0.50</td>\n",
              "      <td>11.2</td>\n",
              "      <td>6</td>\n",
              "    </tr>\n",
              "    <tr>\n",
              "      <th>4894</th>\n",
              "      <td>6.6</td>\n",
              "      <td>0.320</td>\n",
              "      <td>0.36</td>\n",
              "      <td>8.00</td>\n",
              "      <td>0.047</td>\n",
              "      <td>57.0</td>\n",
              "      <td>168.0</td>\n",
              "      <td>0.99490</td>\n",
              "      <td>3.15</td>\n",
              "      <td>0.46</td>\n",
              "      <td>9.6</td>\n",
              "      <td>5</td>\n",
              "    </tr>\n",
              "    <tr>\n",
              "      <th>4895</th>\n",
              "      <td>6.5</td>\n",
              "      <td>0.240</td>\n",
              "      <td>0.19</td>\n",
              "      <td>1.20</td>\n",
              "      <td>0.041</td>\n",
              "      <td>30.0</td>\n",
              "      <td>111.0</td>\n",
              "      <td>0.99254</td>\n",
              "      <td>2.99</td>\n",
              "      <td>0.46</td>\n",
              "      <td>9.4</td>\n",
              "      <td>6</td>\n",
              "    </tr>\n",
              "    <tr>\n",
              "      <th>4896</th>\n",
              "      <td>5.5</td>\n",
              "      <td>0.290</td>\n",
              "      <td>0.30</td>\n",
              "      <td>1.10</td>\n",
              "      <td>0.022</td>\n",
              "      <td>20.0</td>\n",
              "      <td>110.0</td>\n",
              "      <td>0.98869</td>\n",
              "      <td>3.34</td>\n",
              "      <td>0.38</td>\n",
              "      <td>12.8</td>\n",
              "      <td>7</td>\n",
              "    </tr>\n",
              "    <tr>\n",
              "      <th>4897</th>\n",
              "      <td>6.0</td>\n",
              "      <td>0.210</td>\n",
              "      <td>0.38</td>\n",
              "      <td>0.80</td>\n",
              "      <td>0.020</td>\n",
              "      <td>22.0</td>\n",
              "      <td>98.0</td>\n",
              "      <td>0.98941</td>\n",
              "      <td>3.26</td>\n",
              "      <td>0.32</td>\n",
              "      <td>11.8</td>\n",
              "      <td>6</td>\n",
              "    </tr>\n",
              "  </tbody>\n",
              "</table>\n",
              "</div>"
            ],
            "text/plain": [
              "      fixed acidity  volatile acidity  citric acid  ...  sulphates  alcohol  quality\n",
              "4888            6.8             0.220         0.36  ...       0.54      9.2        5\n",
              "4889            4.9             0.235         0.27  ...       0.50      9.4        6\n",
              "4890            6.1             0.340         0.29  ...       0.44     11.8        6\n",
              "4891            5.7             0.210         0.32  ...       0.46     10.6        6\n",
              "4892            6.5             0.230         0.38  ...       0.54      9.7        5\n",
              "4893            6.2             0.210         0.29  ...       0.50     11.2        6\n",
              "4894            6.6             0.320         0.36  ...       0.46      9.6        5\n",
              "4895            6.5             0.240         0.19  ...       0.46      9.4        6\n",
              "4896            5.5             0.290         0.30  ...       0.38     12.8        7\n",
              "4897            6.0             0.210         0.38  ...       0.32     11.8        6\n",
              "\n",
              "[10 rows x 12 columns]"
            ]
          },
          "metadata": {
            "tags": []
          },
          "execution_count": 8
        }
      ]
    },
    {
      "cell_type": "markdown",
      "metadata": {
        "id": "Gp5W8byexYs3"
      },
      "source": [
        "# EDA"
      ]
    },
    {
      "cell_type": "code",
      "metadata": {
        "id": "mxb6aCnVMtUU",
        "outputId": "958202ec-ecdf-4b3b-a257-6de7cd1f915b",
        "colab": {
          "base_uri": "https://localhost:8080/"
        }
      },
      "source": [
        "# how many classes has the target?\n",
        "\n",
        "df_wine.quality.unique()\n"
      ],
      "execution_count": null,
      "outputs": [
        {
          "output_type": "execute_result",
          "data": {
            "text/plain": [
              "array([6, 5, 7, 8, 4, 3, 9])"
            ]
          },
          "metadata": {
            "tags": []
          },
          "execution_count": 9
        }
      ]
    },
    {
      "cell_type": "code",
      "metadata": {
        "id": "KWmOX3gQxS2s",
        "outputId": "f783b674-04f4-45fc-962d-212a1ea7887f",
        "colab": {
          "base_uri": "https://localhost:8080/"
        }
      },
      "source": [
        "# check df dimensions, how many rows? columns?\n",
        "df_wine.shape"
      ],
      "execution_count": null,
      "outputs": [
        {
          "output_type": "execute_result",
          "data": {
            "text/plain": [
              "(4898, 12)"
            ]
          },
          "metadata": {
            "tags": []
          },
          "execution_count": 10
        }
      ]
    },
    {
      "cell_type": "code",
      "metadata": {
        "id": "098kg_wCxEVX",
        "outputId": "e56bc139-ce5a-4c59-e76b-85cd2cca78a2",
        "colab": {
          "base_uri": "https://localhost:8080/"
        }
      },
      "source": [
        "# check how big is our dataset in KB/MB/GB\n",
        "df_wine.info()"
      ],
      "execution_count": null,
      "outputs": [
        {
          "output_type": "stream",
          "text": [
            "<class 'pandas.core.frame.DataFrame'>\n",
            "RangeIndex: 4898 entries, 0 to 4897\n",
            "Data columns (total 12 columns):\n",
            " #   Column                Non-Null Count  Dtype  \n",
            "---  ------                --------------  -----  \n",
            " 0   fixed acidity         4898 non-null   float64\n",
            " 1   volatile acidity      4898 non-null   float64\n",
            " 2   citric acid           4898 non-null   float64\n",
            " 3   residual sugar        4898 non-null   float64\n",
            " 4   chlorides             4898 non-null   float64\n",
            " 5   free sulfur dioxide   4898 non-null   float64\n",
            " 6   total sulfur dioxide  4898 non-null   float64\n",
            " 7   density               4898 non-null   float64\n",
            " 8   pH                    4898 non-null   float64\n",
            " 9   sulphates             4898 non-null   float64\n",
            " 10  alcohol               4898 non-null   float64\n",
            " 11  quality               4898 non-null   int64  \n",
            "dtypes: float64(11), int64(1)\n",
            "memory usage: 459.3 KB\n"
          ],
          "name": "stdout"
        }
      ]
    },
    {
      "cell_type": "code",
      "metadata": {
        "id": "e6a4BG1puSVJ",
        "outputId": "c6d9b770-85ca-4fb8-f36c-f8b0ca09220c",
        "colab": {
          "base_uri": "https://localhost:8080/"
        }
      },
      "source": [
        "# Describe\n",
        "df_wine.describe"
      ],
      "execution_count": null,
      "outputs": [
        {
          "output_type": "execute_result",
          "data": {
            "text/plain": [
              "<bound method NDFrame.describe of       fixed acidity  volatile acidity  citric acid  ...  sulphates  alcohol  quality\n",
              "0               7.0              0.27         0.36  ...       0.45      8.8        6\n",
              "1               6.3              0.30         0.34  ...       0.49      9.5        6\n",
              "2               8.1              0.28         0.40  ...       0.44     10.1        6\n",
              "3               7.2              0.23         0.32  ...       0.40      9.9        6\n",
              "4               7.2              0.23         0.32  ...       0.40      9.9        6\n",
              "...             ...               ...          ...  ...        ...      ...      ...\n",
              "4893            6.2              0.21         0.29  ...       0.50     11.2        6\n",
              "4894            6.6              0.32         0.36  ...       0.46      9.6        5\n",
              "4895            6.5              0.24         0.19  ...       0.46      9.4        6\n",
              "4896            5.5              0.29         0.30  ...       0.38     12.8        7\n",
              "4897            6.0              0.21         0.38  ...       0.32     11.8        6\n",
              "\n",
              "[4898 rows x 12 columns]>"
            ]
          },
          "metadata": {
            "tags": []
          },
          "execution_count": 12
        }
      ]
    },
    {
      "cell_type": "code",
      "metadata": {
        "id": "OkP69rRAO_gX",
        "outputId": "cddee24f-5489-4076-cf9b-395698d7a8ab",
        "colab": {
          "base_uri": "https://localhost:8080/"
        }
      },
      "source": [
        "# missing values?\n",
        "df_wine.isna().sum()"
      ],
      "execution_count": null,
      "outputs": [
        {
          "output_type": "execute_result",
          "data": {
            "text/plain": [
              "fixed acidity           0\n",
              "volatile acidity        0\n",
              "citric acid             0\n",
              "residual sugar          0\n",
              "chlorides               0\n",
              "free sulfur dioxide     0\n",
              "total sulfur dioxide    0\n",
              "density                 0\n",
              "pH                      0\n",
              "sulphates               0\n",
              "alcohol                 0\n",
              "quality                 0\n",
              "dtype: int64"
            ]
          },
          "metadata": {
            "tags": []
          },
          "execution_count": 13
        }
      ]
    },
    {
      "cell_type": "code",
      "metadata": {
        "id": "2KGyEwH1Pu10",
        "outputId": "1b9b003b-8034-426c-f518-8c21da3d0888",
        "colab": {
          "base_uri": "https://localhost:8080/",
          "height": 679
        }
      },
      "source": [
        "# correlation matrix\n",
        "\n",
        "corr = df_wine.corr()\n",
        "plt.subplots(figsize=(15,10))\n",
        "sns.heatmap(corr, xticklabels=corr.columns, yticklabels=corr.columns, annot=True, cmap=sns.diverging_palette(220, 20, as_cmap=True))\n",
        "plt.show()\n",
        "\n",
        "# which variables are the most correlated?"
      ],
      "execution_count": null,
      "outputs": [
        {
          "output_type": "display_data",
          "data": {
            "image/png": "[encoded data removed]",
            "text/plain": [
              "<Figure size 1080x720 with 2 Axes>"
            ]
          },
          "metadata": {
            "tags": [],
            "needs_background": "light"
          }
        }
      ]
    },
    {
      "cell_type": "code",
      "metadata": {
        "id": "YW_PpLRkq4UN",
        "outputId": "098c0783-7380-4887-dbbe-47baa28a97ca",
        "colab": {
          "base_uri": "https://localhost:8080/",
          "height": 596
        }
      },
      "source": [
        "\n",
        "df_wine_bkp = df_wine.copy()\n",
        "\n",
        "del df_wine['residual sugar']  # vs density\n",
        "del df_wine['free sulfur dioxide'] # vs total sulfur dioxide\n",
        "del df_wine['total sulfur dioxide'] # density\n",
        "\n",
        "corr = df_wine.corr()\n",
        "plt.subplots(figsize=(15,10))\n",
        "sns.heatmap(corr, xticklabels=corr.columns, yticklabels=corr.columns, annot=True, cmap=sns.diverging_palette(220, 20, as_cmap=True))\n",
        "plt.show()\n",
        "\n",
        "# do it again only with most relevant variables"
      ],
      "execution_count": null,
      "outputs": [
        {
          "output_type": "display_data",
          "data": {
            "image/png": "[encoded data removed]",
            "text/plain": [
              "<Figure size 1080x720 with 2 Axes>"
            ]
          },
          "metadata": {
            "tags": [],
            "needs_background": "light"
          }
        }
      ]
    },
    {
      "cell_type": "markdown",
      "metadata": {
        "id": "NeKtE2oDq_Wz"
      },
      "source": [
        "## Now the hard part : TO SUPERVISED"
      ]
    },
    {
      "cell_type": "code",
      "metadata": {
        "id": "Tc7jc-omxY1F",
        "outputId": "f8c049e1-0da9-41cf-c5b2-e85709b65c09",
        "colab": {
          "base_uri": "https://localhost:8080/",
          "height": 335
        }
      },
      "source": [
        "# EXTRA : barplot of quality.  TIPS : use sns.countplot(dataset['name of the column'])\n",
        "\n",
        "sns.countplot(df_wine['quality'])\n",
        "plt.show()"
      ],
      "execution_count": null,
      "outputs": [
        {
          "output_type": "stream",
          "text": [
            "/usr/local/lib/python3.6/dist-packages/seaborn/_decorators.py:43: FutureWarning: Pass the following variable as a keyword arg: x. From version 0.12, the only valid positional argument will be `data`, and passing other arguments without an explicit keyword will result in an error or misinterpretation.\n",
            "  FutureWarning\n"
          ],
          "name": "stderr"
        },
        {
          "output_type": "display_data",
          "data": {
            "image/png": "[encoded data removed]",
            "text/plain": [
              "<Figure size 432x288 with 1 Axes>"
            ]
          },
          "metadata": {
            "tags": [],
            "needs_background": "light"
          }
        }
      ]
    },
    {
      "cell_type": "code",
      "metadata": {
        "id": "fNsPk99arknI"
      },
      "source": [
        "## We will come back soon . . . ."
      ],
      "execution_count": null,
      "outputs": []
    },
    {
      "cell_type": "code",
      "metadata": {
        "id": "rrwcwl-lR9AO",
        "outputId": "9696e7ee-fe61-48ea-d5db-96c5bfbadb96",
        "colab": {
          "base_uri": "https://localhost:8080/",
          "height": 198
        }
      },
      "source": [
        "category = []\n",
        "\n",
        "for qual in df_wine.quality.values:\n",
        "  if qual < 6:\n",
        "    category.append(1)\n",
        "  elif qual > 6:\n",
        "    category.append(3)\n",
        "  else:\n",
        "    category.append(2)\n",
        "\n",
        "df_wine['category'] = category\n",
        "\n",
        "del df_wine['quality']\n",
        "\n",
        "df_wine.head()\n",
        "\n"
      ],
      "execution_count": null,
      "outputs": [
        {
          "output_type": "execute_result",
          "data": {
            "text/html": [
              "<div>\n",
              "<style scoped>\n",
              "    .dataframe tbody tr th:only-of-type {\n",
              "        vertical-align: middle;\n",
              "    }\n",
              "\n",
              "    .dataframe tbody tr th {\n",
              "        vertical-align: top;\n",
              "    }\n",
              "\n",
              "    .dataframe thead th {\n",
              "        text-align: right;\n",
              "    }\n",
              "</style>\n",
              "<table border=\"1\" class=\"dataframe\">\n",
              "  <thead>\n",
              "    <tr style=\"text-align: right;\">\n",
              "      <th></th>\n",
              "      <th>fixed acidity</th>\n",
              "      <th>volatile acidity</th>\n",
              "      <th>citric acid</th>\n",
              "      <th>chlorides</th>\n",
              "      <th>density</th>\n",
              "      <th>pH</th>\n",
              "      <th>sulphates</th>\n",
              "      <th>alcohol</th>\n",
              "      <th>category</th>\n",
              "    </tr>\n",
              "  </thead>\n",
              "  <tbody>\n",
              "    <tr>\n",
              "      <th>0</th>\n",
              "      <td>7.0</td>\n",
              "      <td>0.27</td>\n",
              "      <td>0.36</td>\n",
              "      <td>0.045</td>\n",
              "      <td>1.0010</td>\n",
              "      <td>3.00</td>\n",
              "      <td>0.45</td>\n",
              "      <td>8.8</td>\n",
              "      <td>2</td>\n",
              "    </tr>\n",
              "    <tr>\n",
              "      <th>1</th>\n",
              "      <td>6.3</td>\n",
              "      <td>0.30</td>\n",
              "      <td>0.34</td>\n",
              "      <td>0.049</td>\n",
              "      <td>0.9940</td>\n",
              "      <td>3.30</td>\n",
              "      <td>0.49</td>\n",
              "      <td>9.5</td>\n",
              "      <td>2</td>\n",
              "    </tr>\n",
              "    <tr>\n",
              "      <th>2</th>\n",
              "      <td>8.1</td>\n",
              "      <td>0.28</td>\n",
              "      <td>0.40</td>\n",
              "      <td>0.050</td>\n",
              "      <td>0.9951</td>\n",
              "      <td>3.26</td>\n",
              "      <td>0.44</td>\n",
              "      <td>10.1</td>\n",
              "      <td>2</td>\n",
              "    </tr>\n",
              "    <tr>\n",
              "      <th>3</th>\n",
              "      <td>7.2</td>\n",
              "      <td>0.23</td>\n",
              "      <td>0.32</td>\n",
              "      <td>0.058</td>\n",
              "      <td>0.9956</td>\n",
              "      <td>3.19</td>\n",
              "      <td>0.40</td>\n",
              "      <td>9.9</td>\n",
              "      <td>2</td>\n",
              "    </tr>\n",
              "    <tr>\n",
              "      <th>4</th>\n",
              "      <td>7.2</td>\n",
              "      <td>0.23</td>\n",
              "      <td>0.32</td>\n",
              "      <td>0.058</td>\n",
              "      <td>0.9956</td>\n",
              "      <td>3.19</td>\n",
              "      <td>0.40</td>\n",
              "      <td>9.9</td>\n",
              "      <td>2</td>\n",
              "    </tr>\n",
              "  </tbody>\n",
              "</table>\n",
              "</div>"
            ],
            "text/plain": [
              "   fixed acidity  volatile acidity  citric acid  ...  sulphates  alcohol  category\n",
              "0            7.0              0.27         0.36  ...       0.45      8.8         2\n",
              "1            6.3              0.30         0.34  ...       0.49      9.5         2\n",
              "2            8.1              0.28         0.40  ...       0.44     10.1         2\n",
              "3            7.2              0.23         0.32  ...       0.40      9.9         2\n",
              "4            7.2              0.23         0.32  ...       0.40      9.9         2\n",
              "\n",
              "[5 rows x 9 columns]"
            ]
          },
          "metadata": {
            "tags": []
          },
          "execution_count": 50
        }
      ]
    },
    {
      "cell_type": "code",
      "metadata": {
        "id": "l9NkE4TE2Xay",
        "outputId": "109b1b73-c2e0-4280-812e-9701b4320204",
        "colab": {
          "base_uri": "https://localhost:8080/"
        }
      },
      "source": [
        "df_wine.category.unique()"
      ],
      "execution_count": null,
      "outputs": [
        {
          "output_type": "execute_result",
          "data": {
            "text/plain": [
              "array([2, 1, 3])"
            ]
          },
          "metadata": {
            "tags": []
          },
          "execution_count": 19
        }
      ]
    },
    {
      "cell_type": "code",
      "metadata": {
        "id": "ZNjsyX672iJM",
        "outputId": "05289f97-e9a8-4c4a-c132-c2de735314af",
        "colab": {
          "base_uri": "https://localhost:8080/",
          "height": 335
        }
      },
      "source": [
        "# EXTRA : barplot of quality.  TIPS : use sns.countplot(dataset['name of the column'])\n",
        "\n",
        "sns.countplot(df_wine['category'])\n",
        "plt.show()"
      ],
      "execution_count": null,
      "outputs": [
        {
          "output_type": "stream",
          "text": [
            "/usr/local/lib/python3.6/dist-packages/seaborn/_decorators.py:43: FutureWarning: Pass the following variable as a keyword arg: x. From version 0.12, the only valid positional argument will be `data`, and passing other arguments without an explicit keyword will result in an error or misinterpretation.\n",
            "  FutureWarning\n"
          ],
          "name": "stderr"
        },
        {
          "output_type": "display_data",
          "data": {
            "image/png": "[encoded data removed]",
            "text/plain": [
              "<Figure size 432x288 with 1 Axes>"
            ]
          },
          "metadata": {
            "tags": [],
            "needs_background": "light"
          }
        }
      ]
    },
    {
      "cell_type": "code",
      "metadata": {
        "id": "VGo5EqgRSgeE",
        "outputId": "30a11160-f1a2-4b3f-fb40-e11bb17b2f0d",
        "colab": {
          "base_uri": "https://localhost:8080/"
        }
      },
      "source": [
        "# Data Splitting. TIPS : use train_test_split function\n",
        "\n",
        "# - 70/30\n",
        "# - add shuffle=True\n",
        "\n",
        "X_train,X_test,Y_train,Y_test=train_test_split(df_wine.drop(['category'], axis=1),df_wine['category'],test_size=0.30, shuffle=True)\n",
        "print(X_train.shape, X_test.shape, Y_train.shape, Y_test.shape)"
      ],
      "execution_count": null,
      "outputs": [
        {
          "output_type": "stream",
          "text": [
            "(3428, 8) (1470, 8) (3428,) (1470,)\n"
          ],
          "name": "stdout"
        }
      ]
    },
    {
      "cell_type": "code",
      "metadata": {
        "id": "nlSlibmotjBP"
      },
      "source": [
        "# Are we ready for that??\n",
        "\n",
        "scalar=StandardScaler()\n",
        "X_train=scalar.fit_transform(X_train)\n",
        "X_test=scalar.fit_transform(X_test)"
      ],
      "execution_count": null,
      "outputs": []
    },
    {
      "cell_type": "code",
      "metadata": {
        "id": "48k9V5Z8VTZZ",
        "outputId": "e0398d56-f373-4d4d-faff-0da41a46d39e",
        "colab": {
          "base_uri": "https://localhost:8080/"
        }
      },
      "source": [
        "# Logistic Regression\n",
        "\n",
        "%%time\n",
        "log_regressor=LogisticRegression(multi_class='multinomial') \n",
        "\n",
        "# FIT\n",
        "\n",
        "log_regressor.fit(X_train, Y_train)"
      ],
      "execution_count": null,
      "outputs": [
        {
          "output_type": "stream",
          "text": [
            "CPU times: user 34.3 ms, sys: 973 µs, total: 35.2 ms\n",
            "Wall time: 35.9 ms\n"
          ],
          "name": "stdout"
        }
      ]
    },
    {
      "cell_type": "code",
      "metadata": {
        "id": "TYPacrMqx5gs",
        "outputId": "fc319ad3-8955-482b-f668-6ec53aecc46d",
        "colab": {
          "base_uri": "https://localhost:8080/"
        }
      },
      "source": [
        "# Score!\n",
        "\n",
        "score=log_regressor.score(X_test,Y_test)\n",
        "print('accuracy = {}'.format(score))\n",
        "\n",
        "# Write the accuracy formula TP, TN, ect ect"
      ],
      "execution_count": null,
      "outputs": [
        {
          "output_type": "stream",
          "text": [
            "accuracy = 0.5741496598639456\n"
          ],
          "name": "stdout"
        }
      ]
    },
    {
      "cell_type": "code",
      "metadata": {
        "id": "FF38wW5uXMmz",
        "outputId": "b4c23a08-6f39-4ee6-f104-fd27b1d0df7e",
        "colab": {
          "base_uri": "https://localhost:8080/"
        }
      },
      "source": [
        "# Confusion Matrix\n",
        "\n",
        "y_pred_log = log_regressor.predict(X_test)\n",
        "    \n",
        "print(classification_report(Y_test, y_pred_log))"
      ],
      "execution_count": null,
      "outputs": [
        {
          "output_type": "stream",
          "text": [
            "              precision    recall  f1-score   support\n",
            "\n",
            "           1       0.63      0.60      0.62       490\n",
            "           2       0.53      0.69      0.60       647\n",
            "           3       0.65      0.31      0.42       333\n",
            "\n",
            "    accuracy                           0.57      1470\n",
            "   macro avg       0.60      0.53      0.54      1470\n",
            "weighted avg       0.59      0.57      0.56      1470\n",
            "\n"
          ],
          "name": "stdout"
        }
      ]
    },
    {
      "cell_type": "code",
      "metadata": {
        "id": "jl2QawYlhtNF",
        "outputId": "cf26b9b8-8c70-41e3-8e62-614d4ff9b222",
        "colab": {
          "base_uri": "https://localhost:8080/",
          "height": 467
        }
      },
      "source": [
        "# features importance\n",
        "\n",
        "importance = log_regressor.coef_\n",
        "\n",
        "# summarize feature importance\n",
        "for i,v in enumerate(importance[0]):\n",
        "    print('Feature: %0d, Score: %.5f' % (i,v))\n",
        "# plot feature importance\n",
        "plt.bar([x for x in range(len(importance[0]))], importance[0])\n",
        "plt.show()\n",
        "\n",
        "print(df_wine.columns[:7])"
      ],
      "execution_count": null,
      "outputs": [
        {
          "output_type": "stream",
          "text": [
            "Feature: 0, Score: 0.17811\n",
            "Feature: 1, Score: 0.53570\n",
            "Feature: 2, Score: -0.01778\n",
            "Feature: 3, Score: 0.17587\n",
            "Feature: 4, Score: -0.30061\n",
            "Feature: 5, Score: 0.00650\n",
            "Feature: 6, Score: -0.10914\n",
            "Feature: 7, Score: -1.09294\n"
          ],
          "name": "stdout"
        },
        {
          "output_type": "display_data",
          "data": {
            "image/png": "[encoded data removed]",
            "text/plain": [
              "<Figure size 432x288 with 1 Axes>"
            ]
          },
          "metadata": {
            "tags": [],
            "needs_background": "light"
          }
        },
        {
          "output_type": "stream",
          "text": [
            "Index(['fixed acidity', 'volatile acidity', 'citric acid', 'chlorides',\n",
            "       'density', 'pH', 'sulphates'],\n",
            "      dtype='object')\n"
          ],
          "name": "stdout"
        }
      ]
    },
    {
      "cell_type": "markdown",
      "metadata": {
        "id": "VviUd6d-xcPV"
      },
      "source": [
        "# STOP!"
      ]
    },
    {
      "cell_type": "markdown",
      "metadata": {
        "id": "F7LNy3BlxO7H"
      },
      "source": [
        "## Learn how to Pipeline"
      ]
    },
    {
      "cell_type": "code",
      "metadata": {
        "id": "scchrRCu2m_c"
      },
      "source": [
        "# define which features\n",
        "numeric_features = ['fixed acidity', 'volatile acidity', 'citric acid']"
      ],
      "execution_count": null,
      "outputs": []
    },
    {
      "cell_type": "code",
      "metadata": {
        "id": "GBDtsG462GvU",
        "outputId": "5f57c1ac-7805-401e-b51a-34df2be2e7b4",
        "colab": {
          "base_uri": "https://localhost:8080/"
        }
      },
      "source": [
        "df_wine2 = df_wine[['fixed acidity', 'volatile acidity', 'citric acid', 'category']]\n",
        "X_train,X_test,Y_train,Y_test=train_test_split(df_wine2.drop(['category'], axis=1),df_wine2['category'],test_size=0.30, shuffle=True)\n",
        "print(X_train.shape, X_test.shape, Y_train.shape, Y_test.shape)\n"
      ],
      "execution_count": null,
      "outputs": [
        {
          "output_type": "stream",
          "text": [
            "(3428, 3) (1470, 3) (3428,) (1470,)\n"
          ],
          "name": "stdout"
        }
      ]
    },
    {
      "cell_type": "code",
      "metadata": {
        "id": "fNkcjFw7zui7"
      },
      "source": [
        "numeric_transformer = Pipeline(steps=[('scaler', StandardScaler())])\n",
        "\n",
        "\n",
        "preprocessor = ColumnTransformer(\n",
        "    transformers=[\n",
        "                  ('num', numeric_transformer, numeric_features)])\n",
        "\n",
        "\n",
        "lor = LogisticRegression()\n",
        "\n",
        "clf = Pipeline([('preprocessor', preprocessor), \n",
        "                ('lor',lor)])"
      ],
      "execution_count": null,
      "outputs": []
    },
    {
      "cell_type": "code",
      "metadata": {
        "id": "Hv32p8wBvi4h",
        "outputId": "d9c6817b-14b2-4aef-c618-6d82f069eb66",
        "colab": {
          "base_uri": "https://localhost:8080/"
        }
      },
      "source": [
        "clf.fit(X_train, Y_train)"
      ],
      "execution_count": null,
      "outputs": [
        {
          "output_type": "execute_result",
          "data": {
            "text/plain": [
              "Pipeline(memory=None,\n",
              "         steps=[('preprocessor',\n",
              "                 ColumnTransformer(n_jobs=None, remainder='drop',\n",
              "                                   sparse_threshold=0.3,\n",
              "                                   transformer_weights=None,\n",
              "                                   transformers=[('num',\n",
              "                                                  Pipeline(memory=None,\n",
              "                                                           steps=[('scaler',\n",
              "                                                                   StandardScaler(copy=True,\n",
              "                                                                                  with_mean=True,\n",
              "                                                                                  with_std=True))],\n",
              "                                                           verbose=False),\n",
              "                                                  ['fixed acidity',\n",
              "                                                   'volatile acidity',\n",
              "                                                   'citric acid'])],\n",
              "                                   verbose=False)),\n",
              "                ('lor',\n",
              "                 LogisticRegression(C=1.0, class_weight=None, dual=False,\n",
              "                                    fit_intercept=True, intercept_scaling=1,\n",
              "                                    l1_ratio=None, max_iter=100,\n",
              "                                    multi_class='auto', n_jobs=None,\n",
              "                                    penalty='l2', random_state=None,\n",
              "                                    solver='lbfgs', tol=0.0001, verbose=0,\n",
              "                                    warm_start=False))],\n",
              "         verbose=False)"
            ]
          },
          "metadata": {
            "tags": []
          },
          "execution_count": 30
        }
      ]
    },
    {
      "cell_type": "code",
      "metadata": {
        "id": "F7GHbxn6vjsE",
        "outputId": "ba650fc0-9e15-4b13-a940-495b1ba30dc5",
        "colab": {
          "base_uri": "https://localhost:8080/"
        }
      },
      "source": [
        "clf.score(X_test, Y_test)"
      ],
      "execution_count": null,
      "outputs": [
        {
          "output_type": "execute_result",
          "data": {
            "text/plain": [
              "0.48775510204081635"
            ]
          },
          "metadata": {
            "tags": []
          },
          "execution_count": 31
        }
      ]
    },
    {
      "cell_type": "markdown",
      "metadata": {
        "id": "sGY9wBaP9x9V"
      },
      "source": [
        "# This is a real exercise . . . take your time ;)\n",
        "\n",
        "    I'd like to plot ROC curve for my model. After some online checks I found the following code with an error. What happened? How can I solve? \n",
        "\n",
        "*TIPS : questo non è un esercizio semplice. Cio che vorrei mettere in mostra è la reale esigenza di capire cosa si stia scrivendo in uno scenario reale e comune. INIZIATE DAL RESTO E LASCIATE QUESTO PER ULTIMO*"
      ]
    },
    {
      "cell_type": "markdown",
      "metadata": {
        "id": "SV_WMeeo3tGk"
      },
      "source": [
        "    import sklearn.metrics as metrics\n",
        "    roc = metrics.roc_curve(Y_test,log_regressor.predict_proba(X_test)[:,1])\n",
        "    pr  = precision_recall_curve(Y_test,log_regressor.predict_proba(X_test)[:,1])\n",
        "\n",
        "\n",
        "    f = plt.figure(figsize=(20,7))\n",
        "    ax = f.add_subplot(121)\n",
        "    ax.plot(roc[0],roc[1])\n",
        "    ax.set_ylabel('True Positive Rate')\n",
        "    ax.set_xlabel('False Positive Rate')\n",
        "    ax.set_title('ROC Curve')\n",
        "    ax.grid(which='both')\n",
        "    ax = f.add_subplot(122)\n",
        "    ax.plot(pr[1],pr[0])\n",
        "    ax.set_ylabel('Precision')\n",
        "    ax.set_xlabel('Recall')\n",
        "    ax.set_title('PR-curve')\n",
        "    \n",
        "    ax.grid(which='both')\n",
        "    plt.show()\n",
        "\n",
        "With the following error :\n",
        "\n",
        "\n",
        "    ---------------------------------------------------------------------------\n",
        "    ValueError                                Traceback (most recent call last)\n",
        "    <ipython-input-32-c19f8fea09b6> in <module>()\n",
        "          1 import sklearn.metrics as metrics\n",
        "    ----> 2 roc = metrics.roc_curve(Y_test,log_regressor.predict_proba(X_test)[:,1])\n",
        "          3 pr  = precision_recall_curve(Y_test,log_regressor.predict_proba(X_test)[:,1])\n",
        "          4 \n",
        "          5 \n",
        "\n",
        "    1 frames\n",
        "    /usr/local/lib/python3.6/dist-packages/sklearn/linear_model/_base.py in decision_function(self, X)\n",
        "        271         if X.shape[1] != n_features:\n",
        "        272             raise ValueError(\"X has %d features per sample; expecting %d\"\n",
        "    --> 273                              % (X.shape[1], n_features))\n",
        "        274 \n",
        "        275         scores = safe_sparse_dot(X, self.coef_.T,\n",
        "\n",
        "    ValueError: X has 3 features per sample; expecting 8"
      ]
    },
    {
      "cell_type": "markdown",
      "metadata": {
        "id": "DeWZnKDNWjlz"
      },
      "source": [
        "# Decision Tree \n",
        "\n",
        "Classification and Regression Trees or CART for short is a term introduced by Leo Breiman to refer to Decision Tree algorithms that can be used for classification or regression predictive modeling problems.\n",
        "\n",
        "\n",
        "![](https://cdn-images-1.medium.com/max/688/0*pb-1ufHK-OmR8k7r.png)\n",
        "\n",
        "- Decision Trees (DTs) are a **non-parametric** supervised learning method used for classification and regression.\n",
        "\n",
        "\n",
        "*What does it means??*\n",
        "\n",
        "    EXPLAIN together:\n",
        "\n",
        "\n",
        "\n"
      ]
    },
    {
      "cell_type": "markdown",
      "metadata": {
        "id": "mS9bv6G5B2Mj"
      },
      "source": [
        "- no-parametric : no assumptions!\n",
        "- both classifications and regression\n",
        "\n"
      ]
    },
    {
      "cell_type": "markdown",
      "metadata": {
        "id": "aWkODQ_EB2Mk"
      },
      "source": [
        "**What about features and preprocessing?**\n",
        "\n",
        "- Feature values are preferred to be categorical. If the values are continuous then they are discretized prior to building the model.\n",
        "\n",
        "- Does not require special preprocessing of:\n",
        "    - missing data\n",
        "    - outliers\n",
        "    \n",
        "Why?"
      ]
    },
    {
      "cell_type": "markdown",
      "metadata": {
        "id": "uTG136qFB2Ml"
      },
      "source": [
        "## Splitting\n",
        "\n",
        "\n",
        "- The process of partitioning the data set into subsets\n",
        "\n",
        "![](https://cdn.educba.com/academy/wp-content/uploads/2019/05/splitting.png)\n",
        "\n",
        "\n",
        "## Pruning\n",
        "\n",
        "- Pruning is the process of reducing the size of the tree by turning some branch nodes into leaf nodes\n",
        "\n",
        "![](https://www.cs.cmu.edu/~bhiksha/courses/10-601/decisiontrees/DTprune.png)"
      ]
    },
    {
      "cell_type": "markdown",
      "metadata": {
        "id": "6CYWpnZtB2Ml"
      },
      "source": [
        "## How do we split?\n",
        "\n",
        "\n",
        "### CART \n",
        "\n",
        "(Classification and Regression Tree) uses the Gini index method to create split points.\n",
        "\n",
        "### GINI INDEX\n",
        "\n",
        "Gini Index, also known as Gini impurity, calculates the amount of probability of a specific feature that is classified incorrectly when selected randomly. \n",
        "\n",
        "\n",
        "$$ Gini = 1 - \\sum_jp_j^2 $$\n",
        "\n",
        "\n",
        "*If all the elements are linked with a single class then it can be called pure.*\n",
        "\n",
        "    total students = 10\n",
        "    \n",
        "    \n",
        "    Example (1):    \n",
        "    \n",
        "    good students = 10\n",
        "    bad students = 0 \n",
        "    \n",
        "$$ Gini = 1 - [ P(goodstudents)^2 + P(badstudents)^2] = 1 - (1^2 +0) = 0 $$\n",
        "\n",
        "\n",
        "    Example (2):\n",
        "    \n",
        "    good students = 5\n",
        "    bad students = 5\n",
        "    \n",
        "$$ Gini = 1 - [ P(goodstudents)^2 + P(badstudents)^2] = 1 - (0.5^2 +0.5^2) = 0.5 $$\n",
        "\n",
        "    Example (3):\n",
        "\n",
        "    good students = 7\n",
        "    bad students = 3\n",
        "    \n",
        "$$ Gini = 1 - [ P(goodstudents)^2 + P(badstudents)^2] = 1 - (0.75^2 +0.25^2) = 0.375 $$\n",
        "\n"
      ]
    },
    {
      "cell_type": "code",
      "metadata": {
        "ExecuteTime": {
          "end_time": "2020-11-16T16:40:47.506285Z",
          "start_time": "2020-11-16T16:40:47.371807Z"
        },
        "id": "4nPVTq08B2Mm",
        "outputId": "af72e6b0-7c18-41d6-9151-2c932e8b5a96",
        "colab": {
          "base_uri": "https://localhost:8080/",
          "height": 198
        }
      },
      "source": [
        "#Numerical example :\n",
        "\n",
        "\n",
        "def gini(a,b):\n",
        "    a1 = (a/(a+b))**2\n",
        "    b1 = (b/(a+b))**2\n",
        "    return 1 - (a1 + b1)\n",
        "\n",
        "\n",
        "gini_list = []\n",
        "blue_list = []\n",
        "red_list = []\n",
        "blue_prob_list = []\n",
        "#Looping Gini function on random blue and red float amounts\n",
        "for x in range (10000):\n",
        "    blue = np.random.uniform(0, 4)\n",
        "    red = abs(4-blue)\n",
        "    a = gini(red,blue)\n",
        "    b = blue/(blue+red)\n",
        "    gini_list.append(a)\n",
        "    blue_list.append(blue)\n",
        "    red_list.append(red)\n",
        "    blue_prob_list.append(b)\n",
        "    \n",
        "df = pd.DataFrame({\"Blue\": blue_list, \"Red\": red_list,\"Gini Score\": gini_list, \"Probability of Blue\": blue_prob_list})\n",
        "df = df[[\"Red\", \"Blue\", \"Probability of Blue\", \"Gini Score\"]]\n",
        "df.head()"
      ],
      "execution_count": null,
      "outputs": [
        {
          "output_type": "execute_result",
          "data": {
            "text/html": [
              "<div>\n",
              "<style scoped>\n",
              "    .dataframe tbody tr th:only-of-type {\n",
              "        vertical-align: middle;\n",
              "    }\n",
              "\n",
              "    .dataframe tbody tr th {\n",
              "        vertical-align: top;\n",
              "    }\n",
              "\n",
              "    .dataframe thead th {\n",
              "        text-align: right;\n",
              "    }\n",
              "</style>\n",
              "<table border=\"1\" class=\"dataframe\">\n",
              "  <thead>\n",
              "    <tr style=\"text-align: right;\">\n",
              "      <th></th>\n",
              "      <th>Red</th>\n",
              "      <th>Blue</th>\n",
              "      <th>Probability of Blue</th>\n",
              "      <th>Gini Score</th>\n",
              "    </tr>\n",
              "  </thead>\n",
              "  <tbody>\n",
              "    <tr>\n",
              "      <th>0</th>\n",
              "      <td>2.237649</td>\n",
              "      <td>1.762351</td>\n",
              "      <td>0.440588</td>\n",
              "      <td>0.492940</td>\n",
              "    </tr>\n",
              "    <tr>\n",
              "      <th>1</th>\n",
              "      <td>2.586486</td>\n",
              "      <td>1.413514</td>\n",
              "      <td>0.353378</td>\n",
              "      <td>0.457004</td>\n",
              "    </tr>\n",
              "    <tr>\n",
              "      <th>2</th>\n",
              "      <td>2.355677</td>\n",
              "      <td>1.644323</td>\n",
              "      <td>0.411081</td>\n",
              "      <td>0.484187</td>\n",
              "    </tr>\n",
              "    <tr>\n",
              "      <th>3</th>\n",
              "      <td>3.431490</td>\n",
              "      <td>0.568510</td>\n",
              "      <td>0.142128</td>\n",
              "      <td>0.243855</td>\n",
              "    </tr>\n",
              "    <tr>\n",
              "      <th>4</th>\n",
              "      <td>3.061181</td>\n",
              "      <td>0.938819</td>\n",
              "      <td>0.234705</td>\n",
              "      <td>0.359237</td>\n",
              "    </tr>\n",
              "  </tbody>\n",
              "</table>\n",
              "</div>"
            ],
            "text/plain": [
              "        Red      Blue  Probability of Blue  Gini Score\n",
              "0  2.237649  1.762351             0.440588    0.492940\n",
              "1  2.586486  1.413514             0.353378    0.457004\n",
              "2  2.355677  1.644323             0.411081    0.484187\n",
              "3  3.431490  0.568510             0.142128    0.243855\n",
              "4  3.061181  0.938819             0.234705    0.359237"
            ]
          },
          "metadata": {
            "tags": []
          },
          "execution_count": 33
        }
      ]
    },
    {
      "cell_type": "code",
      "metadata": {
        "ExecuteTime": {
          "end_time": "2020-11-16T16:43:07.751962Z",
          "start_time": "2020-11-16T16:43:07.325972Z"
        },
        "id": "TpClk065B2Ms",
        "outputId": "0d38d308-1d6f-49a7-a670-2ffd9d862a9b",
        "colab": {
          "base_uri": "https://localhost:8080/",
          "height": 295
        }
      },
      "source": [
        "plt.scatter(blue_prob_list,gini_list)\n",
        "plt.xlabel('Probability of Blue Gumball %')\n",
        "plt.ylabel('Gini')\n",
        "plt.title('Gini Curve')\n",
        "plt.show()"
      ],
      "execution_count": null,
      "outputs": [
        {
          "output_type": "display_data",
          "data": {
            "image/png": "[encoded data removed]",
            "text/plain": [
              "<Figure size 432x288 with 1 Axes>"
            ]
          },
          "metadata": {
            "tags": [],
            "needs_background": "light"
          }
        }
      ]
    },
    {
      "cell_type": "markdown",
      "metadata": {
        "id": "x2c3rmo4B2Mz"
      },
      "source": [
        "### How can we interpret the following picture?\n",
        "\n",
        "\n",
        "*Analogue to gini one*\n",
        "\n",
        "![](https://miro.medium.com/max/500/1*M15RZMSk8nGEyOnD8haF-A.png)\n",
        "\n",
        "\n",
        "Where :\n",
        "\n",
        "- The x-axis measures the proportion of data points belonging to the positive class in each bubble"
      ]
    },
    {
      "cell_type": "markdown",
      "metadata": {
        "id": "3ycu2Z0PB2Mz"
      },
      "source": [
        "### INFORMATION ENTROPY\n",
        "\n",
        "\n",
        "*This will be a bit more complex*\n",
        "\n",
        "$$ Entropy = - \\sum_j p_j * log_2(p_j) $$\n",
        "\n",
        "\n",
        "    Example (1) = 0 / (2)=1 \n",
        "    \n",
        "    (3)\n",
        "    \n",
        "\n",
        "$$ Entr = [(3/10)* log_2(3/10)]-[(7/10)* log_2(7/10)] = 0.811 $$"
      ]
    },
    {
      "cell_type": "markdown",
      "metadata": {
        "id": "PF1D5SRnB2M0"
      },
      "source": [
        "there are several ways to split : Entropy,\n",
        "Information gain,\n",
        "Gini index,\n",
        "Gain Ratio,\n",
        "Reduction in Variance\n",
        "Chi-Square"
      ]
    },
    {
      "cell_type": "markdown",
      "metadata": {
        "id": "eF4PYtT9B2M0"
      },
      "source": [
        "## Summarize\n",
        "\n",
        "\n",
        "- It begins with the original set S as the root node.\n",
        "\n",
        "- On each iteration of the algorithm, it iterates through the very unused attribute of the set S and calculates Entropy(H) and Information gain(IG) of this attribute.\n",
        "\n",
        "- It then selects the attribute which has the smallest Entropy or Largest Information gain.\n",
        "\n",
        "- The set S is then split by the selected attribute to produce a subset of the data.\n",
        "\n",
        "- The algorithm continues to recur on each subset, considering only attributes never selected before."
      ]
    },
    {
      "cell_type": "markdown",
      "metadata": {
        "id": "Klq1ImC5B2M1"
      },
      "source": [
        "## Ok . . . let's come back to our original task!"
      ]
    },
    {
      "cell_type": "code",
      "metadata": {
        "id": "xbrcaEGoyGS8",
        "outputId": "e6c57760-34b7-47ae-8d38-70222d38ed8f",
        "colab": {
          "base_uri": "https://localhost:8080/"
        }
      },
      "source": [
        "from sklearn.metrics import classification_report\n",
        "from sklearn.tree import DecisionTreeClassifier\n",
        "\n",
        "DT_class = DecisionTreeClassifier(random_state=1) #unecessary\n",
        "\n",
        "DT_class.fit(X_train, Y_train)\n",
        "\n",
        "y_pred_dt = DT_class.predict(X_test)\n",
        "print(classification_report(Y_test, y_pred_dt))"
      ],
      "execution_count": null,
      "outputs": [
        {
          "output_type": "stream",
          "text": [
            "              precision    recall  f1-score   support\n",
            "\n",
            "           1       0.63      0.60      0.62       490\n",
            "           2       0.57      0.57      0.57       647\n",
            "           3       0.54      0.56      0.55       333\n",
            "\n",
            "    accuracy                           0.58      1470\n",
            "   macro avg       0.58      0.58      0.58      1470\n",
            "weighted avg       0.58      0.58      0.58      1470\n",
            "\n"
          ],
          "name": "stdout"
        }
      ]
    },
    {
      "cell_type": "code",
      "metadata": {
        "id": "rNCd2VQEfwGU",
        "outputId": "3531f728-b133-455b-9655-34fdbbf45738",
        "colab": {
          "base_uri": "https://localhost:8080/",
          "height": 72
        }
      },
      "source": [
        "# Guided analysis\n",
        "\n",
        "\"\"\"\n",
        "Logistic\n",
        " \n",
        "              precision    recall  f1-score   support\n",
        "\n",
        "           1       0.70      0.57      0.63       512\n",
        "           2       0.55      0.70      0.62       673\n",
        "           3       0.52      0.35      0.42       285\n",
        "\n",
        "    accuracy                         **0.59**    1470\n",
        "   macro avg       0.59      0.54      0.56      1470\n",
        "weighted avg       0.60      0.59      0.58      1470\n",
        "\n",
        "\"\"\""
      ],
      "execution_count": null,
      "outputs": [
        {
          "output_type": "execute_result",
          "data": {
            "application/vnd.google.colaboratory.intrinsic+json": {
              "type": "string"
            },
            "text/plain": [
              "'\\nLogistic\\n \\n              precision    recall  f1-score   support\\n\\n           1       0.70      0.57      0.63       512\\n           2       0.55      0.70      0.62       673\\n           3       0.52      0.35      0.42       285\\n\\n    accuracy                         **0.59**    1470\\n   macro avg       0.59      0.54      0.56      1470\\nweighted avg       0.60      0.59      0.58      1470\\n\\n'"
            ]
          },
          "metadata": {
            "tags": []
          },
          "execution_count": 36
        }
      ]
    },
    {
      "cell_type": "markdown",
      "metadata": {
        "id": "7jKRpFxbB2M7"
      },
      "source": [
        "## Which is better Linear or tree-based models?\n",
        " \n",
        "*Well, it depends on the kind of problem you are solving.*\n",
        "\n",
        "- If the relationship between dependent & independent variables is well approximated by a linear model, linear regression will outperform the tree-based model.\n",
        "- If there is a high non-linearity & complex relationship between dependent & independent variables, a tree model will outperform a classical regression method.\n",
        "- If you need to build a model that is easy to explain to people, a decision tree model will always do better than a linear model. Decision tree models are even simpler to interpret than linear regression!\n",
        "- Missing data? Outliers?"
      ]
    },
    {
      "cell_type": "markdown",
      "metadata": {
        "id": "6VmlGqEjaKMJ"
      },
      "source": [
        "# Random Forest\n",
        "\n",
        "Random forests are an ensemble learning technique that builds off of decision trees.\n",
        "\n",
        "***Ensemble methods**, which combines several decision trees to produce better predictive performance than utilizing a single decision tree. The main principle behind the ensemble model is that a group of weak learners come together to form a strong learner.*\n",
        "\n",
        "![](https://www.researchgate.net/profile/Evaldas_Vaiciukynas/publication/301638643/figure/fig1/AS:355471899807744@1461762513154/Architecture-of-the-random-forest-model.png)\n",
        "\n",
        "\n",
        "### Why Random?\n",
        "\n",
        "Two key concepts that give it the name random:\n",
        "\n",
        "- A random sampling of training data set when building trees.\n",
        "  **(do you remember anything?)**\n",
        "\n",
        "- Random subsets of features considered when splitting nodes.\n",
        "\n",
        "\n",
        "\n",
        "We'll not discuss about :\n",
        "\n",
        "- Bagging\n",
        "- Boosting\n",
        "\n",
        "\n",
        "I'll give to you some material if you want to know more about this!\n",
        "\n",
        "We'll say that genereally speaking we would reduce the variance of a decision tree\n",
        "\n",
        "- Random sub-set of data\n",
        "- Random sub-set of features with replacement\n"
      ]
    },
    {
      "cell_type": "code",
      "metadata": {
        "id": "n-9gahCTyGP3",
        "outputId": "ecf03f2e-3cb9-442b-c3bc-c729a61629d2",
        "colab": {
          "base_uri": "https://localhost:8080/"
        }
      },
      "source": [
        "from sklearn.ensemble import RandomForestClassifier\n",
        "\n",
        "RF_class = RandomForestClassifier(random_state=1)\n",
        "\n",
        "RF_class.fit(X_train, Y_train)\n",
        "\n",
        "y_pred_rf = RF_class.predict(X_test)\n",
        "print(classification_report(Y_test, y_pred_rf))\n"
      ],
      "execution_count": null,
      "outputs": [
        {
          "output_type": "stream",
          "text": [
            "              precision    recall  f1-score   support\n",
            "\n",
            "           1       0.75      0.67      0.71       490\n",
            "           2       0.63      0.76      0.69       647\n",
            "           3       0.74      0.56      0.64       333\n",
            "\n",
            "    accuracy                           0.69      1470\n",
            "   macro avg       0.71      0.66      0.68      1470\n",
            "weighted avg       0.70      0.69      0.68      1470\n",
            "\n"
          ],
          "name": "stdout"
        }
      ]
    },
    {
      "cell_type": "code",
      "metadata": {
        "id": "gYQ5Rm5nhgcg",
        "outputId": "7f6b667b-797b-4467-d3f0-64df77ac92ef",
        "colab": {
          "base_uri": "https://localhost:8080/",
          "height": 72
        }
      },
      "source": [
        "# Interested in the complex version with K-fold and grid search?\n",
        "\"\"\"\n",
        "from sklearn.model_selection import StratifiedKFold\n",
        "from sklearn.model_selection import GridSearchCV\n",
        "\n",
        "clf = RandomForestClassifier(random_state=2018, oob_score=True)\n",
        "\n",
        "param_dist = {\"n_estimators\": [50, 100, 150, 200, 250],\n",
        "              'min_samples_leaf': [1, 2, 4]}\n",
        "\n",
        "rfc_gs = GridSearchCV(clf, param_grid=param_dist, scoring='accuracy', cv=5)\n",
        "\n",
        "rfc_gs.fit(X_train, Y_train)\n",
        "\"\"\""
      ],
      "execution_count": null,
      "outputs": [
        {
          "output_type": "execute_result",
          "data": {
            "application/vnd.google.colaboratory.intrinsic+json": {
              "type": "string"
            },
            "text/plain": [
              "'\\nfrom sklearn.model_selection import StratifiedKFold\\nfrom sklearn.model_selection import GridSearchCV\\n\\nclf = RandomForestClassifier(random_state=2018, oob_score=True)\\n\\nparam_dist = {\"n_estimators\": [50, 100, 150, 200, 250],\\n              \\'min_samples_leaf\\': [1, 2, 4]}\\n\\nrfc_gs = GridSearchCV(clf, param_grid=param_dist, scoring=\\'accuracy\\', cv=5)\\n\\nrfc_gs.fit(X_train, Y_train)\\n'"
            ]
          },
          "metadata": {
            "tags": []
          },
          "execution_count": 38
        }
      ]
    },
    {
      "cell_type": "markdown",
      "metadata": {
        "id": "LdYfKabBbVF-"
      },
      "source": [
        "# XGBoost\n",
        "\n",
        "XGBoost provides a parallel tree boosting\n",
        "\n",
        "The two reasons to use XGBoost are also the two goals of the project:\n",
        "\n",
        "- Execution Speed.\n",
        "- Model Performance.\n",
        "\n"
      ]
    },
    {
      "cell_type": "code",
      "metadata": {
        "id": "VoXE6G6dyLEj",
        "outputId": "8033d9c2-37da-4b99-ae19-31073f376de4",
        "colab": {
          "base_uri": "https://localhost:8080/"
        }
      },
      "source": [
        "import xgboost as xgb\n",
        "XGB_class = xgb.XGBClassifier(random_state=1)\n",
        "\n",
        "XGB_class.fit(X_train, Y_train)\n",
        "\n",
        "y_pred_xgb = XGB_class.predict(X_test)\n",
        "print(classification_report(Y_test, y_pred_xgb))"
      ],
      "execution_count": null,
      "outputs": [
        {
          "output_type": "stream",
          "text": [
            "              precision    recall  f1-score   support\n",
            "\n",
            "           1       0.66      0.63      0.64       490\n",
            "           2       0.55      0.68      0.61       647\n",
            "           3       0.61      0.38      0.47       333\n",
            "\n",
            "    accuracy                           0.59      1470\n",
            "   macro avg       0.61      0.56      0.57      1470\n",
            "weighted avg       0.60      0.59      0.59      1470\n",
            "\n"
          ],
          "name": "stdout"
        }
      ]
    },
    {
      "cell_type": "markdown",
      "metadata": {
        "id": "kUmZVoEYKBYV"
      },
      "source": [
        "## BREAK!"
      ]
    },
    {
      "cell_type": "markdown",
      "metadata": {
        "id": "EuoL9yrHB2NK"
      },
      "source": [
        "## Execises :\n",
        "\n",
        "You have several models :\n",
        "\n",
        "- Make a report explaining why you should chose a model instead of another based on metrics\n",
        "\n",
        "- are you able to plot a ROC Curve for each model? If yes, make a plot for each feature / model\n",
        "\n",
        "\n",
        "Extra :\n",
        "- look at pandas available datasets, load data (choose 1), and make some assumptions :\n",
        "    - which kind of ML is for? classification or regression?\n",
        "    - which models should I use?\n",
        "    - which model propably will perform better? why? (assumption, parametric or not, missing values? outliers? . . . )"
      ]
    },
    {
      "cell_type": "markdown",
      "metadata": {
        "id": "ujVAyWi0vU8j"
      },
      "source": [
        "## Analyze Results"
      ]
    },
    {
      "cell_type": "code",
      "metadata": {
        "id": "8BwqEkPtvVFP",
        "outputId": "2e34b86a-d878-4716-cb98-de5f51f072c8",
        "colab": {
          "base_uri": "https://localhost:8080/"
        }
      },
      "source": [
        "# Confusion Matrix\n",
        "\n",
        "y_pred_log = log_regressor.predict(X_test)\n",
        "y_pred_dt = DT_class.predict(X_test)\n",
        "y_pred_rf = RF_class.predict(X_test)\n",
        "y_pred_xgb = XGB_class.predict(X_test)\n",
        "\n",
        "confusion_matrix_logreg = classification_report(Y_test, y_pred_log)\n",
        "confusion_matrix_dt = classification_report(Y_test, y_pred_dt)\n",
        "confusion_matrix_rf = classification_report(Y_test, y_pred_rf)\n",
        "confusion_matrix_xgb = classification_report(Y_test, y_pred_xgb)\n",
        "\n",
        "print(\"**Logistic Regression** : \\n\\n\", confusion_matrix_logreg)\n",
        "print(\"**Decision Tree** : \\n\\n\", confusion_matrix_dt)\n",
        "print(\"**Random Forest** : \\n\\n\", confusion_matrix_rf)\n",
        "print(\"**Xgboost** : \\n\\n\", confusion_matrix_xgb)"
      ],
      "execution_count": null,
      "outputs": [
        {
          "output_type": "stream",
          "text": [
            "**Logistic Regression** : \n",
            "\n",
            "               precision    recall  f1-score   support\n",
            "\n",
            "           1       0.63      0.60      0.62       490\n",
            "           2       0.53      0.69      0.60       647\n",
            "           3       0.65      0.31      0.42       333\n",
            "\n",
            "    accuracy                           0.57      1470\n",
            "   macro avg       0.60      0.53      0.54      1470\n",
            "weighted avg       0.59      0.57      0.56      1470\n",
            "\n",
            "**Decision Tree** : \n",
            "\n",
            "               precision    recall  f1-score   support\n",
            "\n",
            "           1       0.63      0.60      0.62       490\n",
            "           2       0.57      0.57      0.57       647\n",
            "           3       0.54      0.56      0.55       333\n",
            "\n",
            "    accuracy                           0.58      1470\n",
            "   macro avg       0.58      0.58      0.58      1470\n",
            "weighted avg       0.58      0.58      0.58      1470\n",
            "\n",
            "**Random Forest** : \n",
            "\n",
            "               precision    recall  f1-score   support\n",
            "\n",
            "           1       0.75      0.67      0.71       490\n",
            "           2       0.63      0.76      0.69       647\n",
            "           3       0.74      0.56      0.64       333\n",
            "\n",
            "    accuracy                           0.69      1470\n",
            "   macro avg       0.71      0.66      0.68      1470\n",
            "weighted avg       0.70      0.69      0.68      1470\n",
            "\n",
            "**Xgboost** : \n",
            "\n",
            "               precision    recall  f1-score   support\n",
            "\n",
            "           1       0.66      0.63      0.64       490\n",
            "           2       0.55      0.68      0.61       647\n",
            "           3       0.61      0.38      0.47       333\n",
            "\n",
            "    accuracy                           0.59      1470\n",
            "   macro avg       0.61      0.56      0.57      1470\n",
            "weighted avg       0.60      0.59      0.59      1470\n",
            "\n"
          ],
          "name": "stdout"
        }
      ]
    },
    {
      "cell_type": "markdown",
      "metadata": {
        "id": "Fw7GEDS04qGm"
      },
      "source": [
        "*Comment* :\n",
        "\n",
        "    - Why Precision :\n",
        "    - Why Recall :\n",
        "    - Why Accuracy :\n",
        "    - Why F1 Score :\n",
        "    "
      ]
    },
    {
      "cell_type": "markdown",
      "metadata": {
        "id": "SAOgiyVSuezt"
      },
      "source": [
        "## Define ROC curve\n"
      ]
    },
    {
      "cell_type": "markdown",
      "metadata": {
        "id": "GFw5eSY14FoO"
      },
      "source": [
        "### Plot features x model\n"
      ]
    },
    {
      "cell_type": "markdown",
      "metadata": {
        "id": "PDwPyyf2BRmQ"
      },
      "source": [
        "How to solve this problem? a step at a time!\n",
        "\n",
        "- I see what function I need\n",
        "- I understand from the documentation what it needs\n",
        "- I build the necessary features backwards\n",
        "- Apply!\n"
      ]
    },
    {
      "cell_type": "code",
      "metadata": {
        "id": "j3USw2i794sl",
        "outputId": "1faba110-fe93-40bc-bfbb-da9ee2ae4847",
        "colab": {
          "base_uri": "https://localhost:8080/"
        }
      },
      "source": [
        "Y_test"
      ],
      "execution_count": null,
      "outputs": [
        {
          "output_type": "execute_result",
          "data": {
            "text/plain": [
              "1459    2\n",
              "1615    2\n",
              "257     3\n",
              "475     1\n",
              "2047    1\n",
              "       ..\n",
              "3121    1\n",
              "829     3\n",
              "1341    1\n",
              "3668    1\n",
              "2168    3\n",
              "Name: category, Length: 1470, dtype: int64"
            ]
          },
          "metadata": {
            "tags": []
          },
          "execution_count": 95
        }
      ]
    },
    {
      "cell_type": "code",
      "metadata": {
        "id": "x8s8rR8y9E6R",
        "outputId": "e8f3a150-a82c-4033-bfc7-9b4c1493c09e",
        "colab": {
          "base_uri": "https://localhost:8080/"
        }
      },
      "source": [
        "#Encoding : one-hot encoding\n",
        "\n",
        "y_test_dummies = pd.get_dummies(Y_test, drop_first=False).values\n",
        "y_test_dummies[:, :]"
      ],
      "execution_count": null,
      "outputs": [
        {
          "output_type": "execute_result",
          "data": {
            "text/plain": [
              "array([[0, 1, 0],\n",
              "       [0, 1, 0],\n",
              "       [0, 0, 1],\n",
              "       ...,\n",
              "       [1, 0, 0],\n",
              "       [1, 0, 0],\n",
              "       [0, 0, 1]], dtype=uint8)"
            ]
          },
          "metadata": {
            "tags": []
          },
          "execution_count": 90
        }
      ]
    },
    {
      "cell_type": "code",
      "metadata": {
        "id": "2JSxKgNe8rIM",
        "outputId": "39d01c74-4629-494f-cfe8-8221f6166f29",
        "colab": {
          "base_uri": "https://localhost:8080/"
        }
      },
      "source": [
        "y_score2 = log_regressor.predict_proba(X_test)\n",
        "y_score2"
      ],
      "execution_count": null,
      "outputs": [
        {
          "output_type": "execute_result",
          "data": {
            "text/plain": [
              "array([[0.15562927, 0.6266959 , 0.21767482],\n",
              "       [0.23187088, 0.55538452, 0.21274459],\n",
              "       [0.30887165, 0.47647704, 0.21465131],\n",
              "       ...,\n",
              "       [0.81819825, 0.1467935 , 0.03500825],\n",
              "       [0.14737466, 0.54631949, 0.30630585],\n",
              "       [0.42973017, 0.49454831, 0.07572153]])"
            ]
          },
          "metadata": {
            "tags": []
          },
          "execution_count": 102
        }
      ]
    },
    {
      "cell_type": "code",
      "metadata": {
        "id": "jSVD3LwHAogs",
        "outputId": "f968a859-2312-487c-bace-1b85ea132214",
        "colab": {
          "base_uri": "https://localhost:8080/"
        }
      },
      "source": [
        "fpr2, tpr2, threshold2 = metrics.roc_curve(y_test_dummies[:, :1], y_score2[:, :1]) \n",
        "roc_auc2 = metrics.auc(fpr2, tpr2)\n",
        "roc_auc2"
      ],
      "execution_count": null,
      "outputs": [
        {
          "output_type": "execute_result",
          "data": {
            "text/plain": [
              "0.7997688463140358"
            ]
          },
          "metadata": {
            "tags": []
          },
          "execution_count": 107
        }
      ]
    },
    {
      "cell_type": "code",
      "metadata": {
        "id": "mKjuHLuXtbJ6"
      },
      "source": [
        "import sklearn.metrics as metrics\n",
        "\n",
        "def plot_multiclass_roc(model, X_test, y_test, n_classes, model_name, figsize=(17, 6)):\n",
        "    y_score = model.predict_proba(X_test)\n",
        "\n",
        "    # structures\n",
        "    fpr = dict()\n",
        "    tpr = dict()\n",
        "    roc_auc = dict()\n",
        "    threshold = dict()\n",
        "\n",
        "    # calculate dummies once\n",
        "    y_test_dummies = pd.get_dummies(y_test, drop_first=False).values\n",
        "    for i in range(n_classes):\n",
        "        fpr[i], tpr[i], threshold[i] = metrics.roc_curve(y_test_dummies[:, i], y_score[:, i])\n",
        "        roc_auc[i] = metrics.auc(fpr[i], tpr[i])\n",
        "\n",
        "        \n",
        "    # roc for each class\n",
        "    fig, ax = plt.subplots(figsize=figsize)\n",
        "    ax.plot([0, 1], [0, 1], 'k--')\n",
        "    ax.set_xlim([0.0, 1.0])\n",
        "    ax.set_ylim([0.0, 1.05])\n",
        "    ax.set_xlabel('False Positive Rate')\n",
        "    ax.set_ylabel('True Positive Rate')\n",
        "    ax.set_title('Receiver operating characteristic example for {}'.format(str(model_name)))\n",
        "    for i in range(n_classes):\n",
        "        ax.plot(fpr[i], tpr[i], label='ROC curve (area = %0.2f) for label %i' % (roc_auc[i], i))\n",
        "    ax.legend(loc=\"best\")\n",
        "    ax.grid(alpha=.4)\n",
        "    sns.despine()\n",
        "    plt.show()"
      ],
      "execution_count": null,
      "outputs": []
    },
    {
      "cell_type": "code",
      "metadata": {
        "id": "R3j17DVFuaHl",
        "outputId": "1d38905a-62fb-47ab-9896-c27320a5e57f",
        "colab": {
          "base_uri": "https://localhost:8080/",
          "height": 621
        }
      },
      "source": [
        "plot_multiclass_roc(log_regressor, X_test, Y_test, n_classes=3, model_name='Logistic Regression', figsize=(16, 10))"
      ],
      "execution_count": null,
      "outputs": [
        {
          "output_type": "display_data",
          "data": {
            "image/png": "[encoded data removed]",
            "text/plain": [
              "<Figure size 1152x720 with 1 Axes>"
            ]
          },
          "metadata": {
            "tags": [],
            "needs_background": "light"
          }
        }
      ]
    },
    {
      "cell_type": "code",
      "metadata": {
        "id": "uqDKjtfc4NfF",
        "outputId": "c7a45cde-c3e0-48af-a470-af422e473232",
        "colab": {
          "base_uri": "https://localhost:8080/",
          "height": 621
        }
      },
      "source": [
        "plot_multiclass_roc(RF_class, X_test, Y_test, n_classes=3, model_name='Random Forest', figsize=(16, 10))"
      ],
      "execution_count": null,
      "outputs": [
        {
          "output_type": "display_data",
          "data": {
            "image/png": "[encoded data removed]",
            "text/plain": [
              "<Figure size 1152x720 with 1 Axes>"
            ]
          },
          "metadata": {
            "tags": [],
            "needs_background": "light"
          }
        }
      ]
    },
    {
      "cell_type": "code",
      "metadata": {
        "id": "rT1SB8Wy4n2E"
      },
      "source": [
        "import sklearn.metrics as metrics\n",
        "\n",
        "def plot_multi_class_models_roc(model1, model2, X_test, y_test, n_classes, model_name1,model_name2, figsize=(17, 6)):\n",
        "    \n",
        "    y_score = model1.predict_proba(X_test)\n",
        "    y_score2 = model2.predict_proba(X_test)\n",
        "\n",
        "    # structures 1\n",
        "    fpr = dict()\n",
        "    tpr = dict()\n",
        "    roc_auc = dict()\n",
        "    threshold = dict()\n",
        "\n",
        "    # structures 2\n",
        "    fpr2 = dict()\n",
        "    tpr2 = dict()\n",
        "    roc_auc2 = dict()\n",
        "    threshold2 = dict()\n",
        "\n",
        "\n",
        "    # calculate dummies once\n",
        "    y_test_dummies = pd.get_dummies(y_test, drop_first=False).values\n",
        "\n",
        "    for i in range(n_classes):\n",
        "        fpr[i], tpr[i], threshold[i] = metrics.roc_curve(y_test_dummies[:, i], y_score[:, i])\n",
        "        roc_auc[i] = metrics.auc(fpr[i], tpr[i])\n",
        "        fpr2[i], tpr2[i], threshold2[i] = metrics.roc_curve(y_test_dummies[:, i], y_score2[:, i])\n",
        "        roc_auc2[i] = metrics.auc(fpr2[i], tpr2[i])\n",
        "\n",
        "\n",
        "    # roc for each class\n",
        "\n",
        "    for i in range(n_classes):\n",
        "      \n",
        "      fig, ax = plt.subplots(figsize=(10,5))\n",
        "      ax.plot([0, 1], [0, 1], 'k--')\n",
        "      ax.set_xlim([0.0, 1.0])\n",
        "      ax.set_ylim([0.0, 1.05])\n",
        "      ax.set_xlabel('False Positive Rate')\n",
        "      ax.set_ylabel('True Positive Rate')\n",
        "      ax.set_title('ROC for {} and class : {}'.format(str(model_name1 + \" & \" + model_name2), i), fontsize=16)\n",
        "    \n",
        "      ax.plot(fpr[i], tpr[i], label =model_name1)\n",
        "      ax.plot(fpr2[i], tpr2[i],label =model_name2)\n",
        "\n",
        "      ax.legend(loc=\"best\")\n",
        "      ax.grid(alpha=.4)\n",
        "      sns.despine()\n",
        "  \n",
        "    plt.show()"
      ],
      "execution_count": null,
      "outputs": []
    },
    {
      "cell_type": "code",
      "metadata": {
        "id": "AyhG0erk5RQX",
        "outputId": "10b4ee17-d7be-41ef-87da-0ad2e80d37a0",
        "colab": {
          "base_uri": "https://localhost:8080/",
          "height": 1000
        }
      },
      "source": [
        "plot_multi_class_models_roc(log_regressor, RF_class, X_test, Y_test, n_classes=3, model_name1='LogisticReg', model_name2='Random Forest', figsize=(16, 10))"
      ],
      "execution_count": null,
      "outputs": [
        {
          "output_type": "display_data",
          "data": {
            "image/png": "[encoded data removed]",
            "text/plain": [
              "<Figure size 720x360 with 1 Axes>"
            ]
          },
          "metadata": {
            "tags": [],
            "needs_background": "light"
          }
        },
        {
          "output_type": "display_data",
          "data": {
            "image/png": "[encoded data removed]",
            "text/plain": [
              "<Figure size 720x360 with 1 Axes>"
            ]
          },
          "metadata": {
            "tags": [],
            "needs_background": "light"
          }
        },
        {
          "output_type": "display_data",
          "data": {
            "image/png": "[encoded data removed]",
            "text/plain": [
              "<Figure size 720x360 with 1 Axes>"
            ]
          },
          "metadata": {
            "tags": [],
            "needs_background": "light"
          }
        }
      ]
    }
  ]
}