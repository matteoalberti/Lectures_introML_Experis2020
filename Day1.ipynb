{
  "nbformat": 4,
  "nbformat_minor": 0,
  "metadata": {
    "colab": {
      "name": "Day1.ipynb",
      "provenance": []
    },
    "kernelspec": {
      "name": "python3",
      "display_name": "Python 3"
    },
    "accelerator": "GPU"
  },
  "cells": [
    {
      "cell_type": "markdown",
      "metadata": {
        "id": "ExXS3Y0zvYBm"
      },
      "source": [
        "# **Welcome!**\n",
        "\n",
        "## Introduction to Machine Learning\n",
        "\n",
        "\n",
        "\n",
        "## **Lecturer :** Matteo Alberti\n",
        "\n",
        "![](data:image/jpeg;base64,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)\n",
        "\n",
        "*Contacts :* https://www.linkedin.com/in/matteo-alberti-170493/\n"
      ]
    },
    {
      "cell_type": "markdown",
      "metadata": {
        "id": "p1q8Z0nT_lf2"
      },
      "source": [
        "## Introduction to Supervised and Unsupervised Machine Learning"
      ]
    },
    {
      "cell_type": "markdown",
      "metadata": {
        "id": "OoLsN_emxn-X"
      },
      "source": [
        "![](https://www.diegocalvo.es/wp-content/uploads/2018/09/machine-learning-classification.png)\n"
      ]
    },
    {
      "cell_type": "markdown",
      "metadata": {
        "id": "OOK-Vucc_ejk"
      },
      "source": [
        "## Introduction to Linear and Logistic Regression Problem\n",
        "\n",
        "***Don't worry.. this will be the only formula that we'll use today***\n",
        "\n",
        "$$y=f(x)$$\n",
        "\n",
        "technically :\n",
        "\n",
        "$$y=a + b*X + e$$"
      ]
    },
    {
      "cell_type": "markdown",
      "metadata": {
        "id": "yLaDD2MfyJc5"
      },
      "source": [
        "The model is defined in terms of parameters called coefficients (beta), where there is one coefficient per input and an additional coefficient that provides the intercept or bias.\n",
        "\n",
        "For example, a problem with inputs X with m variables x1, x2, …, xm will have coefficients beta1, beta2, …, betam and beta0. A given input is predicted as the weighted sum of the inputs for the example and the coefficients.\n"
      ]
    },
    {
      "cell_type": "markdown",
      "metadata": {
        "id": "lCH-qMWc57xT"
      },
      "source": [
        "$$yhat = alfa + beta_1 * x_1 + beta_2 * x_2 + … + beta_p * x_p + error$$"
      ]
    },
    {
      "cell_type": "markdown",
      "metadata": {
        "id": "v5fgUZls2oTW"
      },
      "source": [
        "## An example of linear regression\n",
        "\n",
        "![](https://miro.medium.com/max/700/1*2VBMHbTdBI4cNozHhpTa0Q.png)\n",
        "\n",
        "*More realistic one (2-d)*\n",
        "![](https://upload.wikimedia.org/wikipedia/commons/thumb/3/3a/Linear_regression.svg/1200px-Linear_regression.svg.png)\n",
        "\n",
        "## what do we minimize?\n",
        "\n",
        "![](https://www.statisticshowto.com/wp-content/uploads/2015/03/residual.png)\n",
        "\n",
        "* the idea of Simple Linear Regression is finding those parameters α and β for which the error term is minimized. (**squared errors**)*\n",
        "\n",
        "![](https://miro.medium.com/max/443/1*7rSwjrW1pDS0V-Ag-zNL-Q.png)\n",
        "\n",
        "\n",
        "\n",
        "## When don't we have a linear relationship between variables?\n",
        "\n",
        "![](https://i.stack.imgur.com/uB7pm.png)\n",
        "\n"
      ]
    },
    {
      "cell_type": "markdown",
      "metadata": {
        "id": "TmcMITLKpOVB"
      },
      "source": [
        "$$y=f(x)$$\n",
        "\n",
        "$$y= alfa + beta_1 * x^2 +. . . .e$$"
      ]
    },
    {
      "cell_type": "markdown",
      "metadata": {
        "id": "ObSFqVcaADch"
      },
      "source": [
        "### Models too simple or too complex?\n",
        "\n",
        "![](https://miro.medium.com/max/1125/1*_7OPgojau8hkiPUiHoGK_w.png)"
      ]
    },
    {
      "cell_type": "markdown",
      "metadata": {
        "id": "8t7Ejz1p36WS"
      },
      "source": [
        "## Variance vs Bias\n",
        "\n",
        "- **High variance** means that your estimator (or learning algorithm) varies a lot depending on the data that you give it. If you algorithm is able to fit your data extremely well every single time and even a single data point perturbation changes the algorithm a lot then the algorithm is has high variance. This type of high variance is called **overfitting**.\n",
        "\n",
        "  - your algorithm is probably not robust to noise (**low bias**)\n",
        "\n",
        "- **Underfitting** usually arises because you want your algorithm to be somewhat stable. (**High bias and low variance**)\n",
        "\n",
        "  - This usually results in bad train and test errors (BOTH!)\n"
      ]
    },
    {
      "cell_type": "markdown",
      "metadata": {
        "id": "Wdr9A87awnpw"
      },
      "source": [
        "### Load Packages"
      ]
    },
    {
      "cell_type": "code",
      "metadata": {
        "id": "ZotsUUqDwn01"
      },
      "source": [
        "import numpy as np\n",
        "import pandas as pd\n",
        "\n",
        "import matplotlib.pyplot as plt \n",
        "import seaborn as sns \n",
        "\n",
        "import sklearn.model_selection as model_selection\n",
        "from sklearn.preprocessing import StandardScaler\n",
        "\n",
        "%matplotlib inline"
      ],
      "execution_count": null,
      "outputs": []
    },
    {
      "cell_type": "markdown",
      "metadata": {
        "id": "0SD9SUXWvP1w"
      },
      "source": [
        "## From zero to Linear Regression \n",
        "\n",
        "- Data Loading\n",
        "\n",
        "- Data Preparation\n",
        "\n",
        "- Understand the task! Supervised, Unsupervised Learning?\n",
        "\n",
        "- Assumptions & Models\n",
        "\n",
        "- Metrics and Evaluation\n",
        "\n",
        "- Test yourself!\n",
        "\n"
      ]
    },
    {
      "cell_type": "markdown",
      "metadata": {
        "id": "m3mrHa7Lv5Mu"
      },
      "source": [
        "## First Exapled (GUIDED!)\n",
        "\n",
        "*The Boston Housing Dataset consists of price of houses in various places in Boston. Alongside with price, the dataset also provide information such as Crime (CRIM), areas of non-retail business in the town (INDUS), the age of people who own the house (AGE), and there are many other attributes that available here*\n",
        "\n",
        "### Boston house dataset\n",
        "\n",
        "- CRIM: Per capita crime rate by town\n",
        "- ZN: Proportion of residential land zoned for lots over 25,000 sq. ft\n",
        "- INDUS: Proportion of non-retail business acres per town\n",
        "- CHAS: Charles River dummy variable (= 1 if tract bounds river; 0 otherwise)\n",
        "- NOX: Nitric oxide concentration (parts per 10 million)\n",
        "- RM: Average number of rooms per dwelling\n",
        "- AGE: Proportion of owner-occupied units built prior to 1940\n",
        "- DIS: Weighted distances to five Boston employment centers\n",
        "- RAD: Index of accessibility to radial highways\n",
        "- TAX: Full-value property tax rate per 10,000$$\n",
        "- PTRATIO: Pupil-teacher ratio by town\n",
        "- B: 1000(Bk — 0.63)², where Bk is the proportion of [people of African American descent] by town\n",
        "- LSTAT: Percentage of lower status of the population\n",
        "- MEDV: Median value of owner-occupied homes in $1000s\n",
        "\n",
        "### Translated\n",
        "\n",
        "- CRIM: tasso di criminalità pro capite per città\n",
        "- ZN: Proporzione di terreno residenziale suddiviso in zone per lotti superiori a 25.000 piedi quadrati\n",
        "- INDUS: proporzione di acri di attività commerciali non al dettaglio per città\n",
        "- CHAS: variabile fittizia Charles River (= 1 se il tratto confina con il fiume; 0 altrimenti)\n",
        "- NOX: concentrazione di ossido nitrico (parti per 10 milioni)\n",
        "- RM: numero medio di stanze per abitazione\n",
        "- ETÀ: Proporzione di unità abitate dai proprietari costruite prima del 1940\n",
        "- DIS: distanze ponderate da cinque centri per l'impiego di Boston\n",
        "- RAD: Indice di accessibilità alle autostrade radiali\n",
        "- TASSA: aliquota dell'imposta sulla proprietà a valore intero per 10.000 $$\n",
        "- PTRATIO: rapporto alunni-insegnanti per città\n",
        "- B: 1000 (Bk - 0.63) ², dove Bk è la proporzione di [persone di discendenza afroamericana] per città\n",
        "- LSTAT: percentuale di status inferiore della popolazione\n",
        "- MEDV: valore medio delle case occupate dai proprietari in $ 1000"
      ]
    },
    {
      "cell_type": "code",
      "metadata": {
        "id": "Xovd4vE_uUu0"
      },
      "source": [
        "from sklearn.datasets import load_boston\n",
        "boston_dataset = load_boston()"
      ],
      "execution_count": null,
      "outputs": []
    },
    {
      "cell_type": "code",
      "metadata": {
        "id": "LHJ9hjCNuZfZ",
        "outputId": "9335ed75-77b7-4474-d519-473d0c67722c",
        "colab": {
          "base_uri": "https://localhost:8080/"
        }
      },
      "source": [
        "print(boston_dataset.keys())"
      ],
      "execution_count": null,
      "outputs": [
        {
          "output_type": "stream",
          "text": [
            "dict_keys(['data', 'target', 'feature_names', 'DESCR', 'filename'])\n"
          ],
          "name": "stdout"
        }
      ]
    },
    {
      "cell_type": "code",
      "metadata": {
        "id": "dRJiTH9nw_Lk",
        "outputId": "5339a787-5f49-472d-e0c6-0c8ace1a3af9",
        "colab": {
          "base_uri": "https://localhost:8080/",
          "height": 195
        }
      },
      "source": [
        "boston = pd.DataFrame(boston_dataset.data, columns=boston_dataset.feature_names)\n",
        "boston.head()"
      ],
      "execution_count": null,
      "outputs": [
        {
          "output_type": "execute_result",
          "data": {
            "text/html": [
              "<div>\n",
              "<style scoped>\n",
              "    .dataframe tbody tr th:only-of-type {\n",
              "        vertical-align: middle;\n",
              "    }\n",
              "\n",
              "    .dataframe tbody tr th {\n",
              "        vertical-align: top;\n",
              "    }\n",
              "\n",
              "    .dataframe thead th {\n",
              "        text-align: right;\n",
              "    }\n",
              "</style>\n",
              "<table border=\"1\" class=\"dataframe\">\n",
              "  <thead>\n",
              "    <tr style=\"text-align: right;\">\n",
              "      <th></th>\n",
              "      <th>CRIM</th>\n",
              "      <th>ZN</th>\n",
              "      <th>INDUS</th>\n",
              "      <th>CHAS</th>\n",
              "      <th>NOX</th>\n",
              "      <th>RM</th>\n",
              "      <th>AGE</th>\n",
              "      <th>DIS</th>\n",
              "      <th>RAD</th>\n",
              "      <th>TAX</th>\n",
              "      <th>PTRATIO</th>\n",
              "      <th>B</th>\n",
              "      <th>LSTAT</th>\n",
              "    </tr>\n",
              "  </thead>\n",
              "  <tbody>\n",
              "    <tr>\n",
              "      <th>0</th>\n",
              "      <td>0.00632</td>\n",
              "      <td>18.0</td>\n",
              "      <td>2.31</td>\n",
              "      <td>0.0</td>\n",
              "      <td>0.538</td>\n",
              "      <td>6.575</td>\n",
              "      <td>65.2</td>\n",
              "      <td>4.0900</td>\n",
              "      <td>1.0</td>\n",
              "      <td>296.0</td>\n",
              "      <td>15.3</td>\n",
              "      <td>396.90</td>\n",
              "      <td>4.98</td>\n",
              "    </tr>\n",
              "    <tr>\n",
              "      <th>1</th>\n",
              "      <td>0.02731</td>\n",
              "      <td>0.0</td>\n",
              "      <td>7.07</td>\n",
              "      <td>0.0</td>\n",
              "      <td>0.469</td>\n",
              "      <td>6.421</td>\n",
              "      <td>78.9</td>\n",
              "      <td>4.9671</td>\n",
              "      <td>2.0</td>\n",
              "      <td>242.0</td>\n",
              "      <td>17.8</td>\n",
              "      <td>396.90</td>\n",
              "      <td>9.14</td>\n",
              "    </tr>\n",
              "    <tr>\n",
              "      <th>2</th>\n",
              "      <td>0.02729</td>\n",
              "      <td>0.0</td>\n",
              "      <td>7.07</td>\n",
              "      <td>0.0</td>\n",
              "      <td>0.469</td>\n",
              "      <td>7.185</td>\n",
              "      <td>61.1</td>\n",
              "      <td>4.9671</td>\n",
              "      <td>2.0</td>\n",
              "      <td>242.0</td>\n",
              "      <td>17.8</td>\n",
              "      <td>392.83</td>\n",
              "      <td>4.03</td>\n",
              "    </tr>\n",
              "    <tr>\n",
              "      <th>3</th>\n",
              "      <td>0.03237</td>\n",
              "      <td>0.0</td>\n",
              "      <td>2.18</td>\n",
              "      <td>0.0</td>\n",
              "      <td>0.458</td>\n",
              "      <td>6.998</td>\n",
              "      <td>45.8</td>\n",
              "      <td>6.0622</td>\n",
              "      <td>3.0</td>\n",
              "      <td>222.0</td>\n",
              "      <td>18.7</td>\n",
              "      <td>394.63</td>\n",
              "      <td>2.94</td>\n",
              "    </tr>\n",
              "    <tr>\n",
              "      <th>4</th>\n",
              "      <td>0.06905</td>\n",
              "      <td>0.0</td>\n",
              "      <td>2.18</td>\n",
              "      <td>0.0</td>\n",
              "      <td>0.458</td>\n",
              "      <td>7.147</td>\n",
              "      <td>54.2</td>\n",
              "      <td>6.0622</td>\n",
              "      <td>3.0</td>\n",
              "      <td>222.0</td>\n",
              "      <td>18.7</td>\n",
              "      <td>396.90</td>\n",
              "      <td>5.33</td>\n",
              "    </tr>\n",
              "  </tbody>\n",
              "</table>\n",
              "</div>"
            ],
            "text/plain": [
              "      CRIM    ZN  INDUS  CHAS    NOX  ...  RAD    TAX  PTRATIO       B  LSTAT\n",
              "0  0.00632  18.0   2.31   0.0  0.538  ...  1.0  296.0     15.3  396.90   4.98\n",
              "1  0.02731   0.0   7.07   0.0  0.469  ...  2.0  242.0     17.8  396.90   9.14\n",
              "2  0.02729   0.0   7.07   0.0  0.469  ...  2.0  242.0     17.8  392.83   4.03\n",
              "3  0.03237   0.0   2.18   0.0  0.458  ...  3.0  222.0     18.7  394.63   2.94\n",
              "4  0.06905   0.0   2.18   0.0  0.458  ...  3.0  222.0     18.7  396.90   5.33\n",
              "\n",
              "[5 rows x 13 columns]"
            ]
          },
          "metadata": {
            "tags": []
          },
          "execution_count": 11
        }
      ]
    },
    {
      "cell_type": "code",
      "metadata": {
        "id": "Jt_z9JvXw_PB",
        "outputId": "dad8bb91-2ef0-4953-9abe-aea788d8ebe6",
        "colab": {
          "base_uri": "https://localhost:8080/"
        }
      },
      "source": [
        "# Which is the shape of our data?\n",
        "\n",
        "boston.shape"
      ],
      "execution_count": null,
      "outputs": [
        {
          "output_type": "execute_result",
          "data": {
            "text/plain": [
              "(506, 13)"
            ]
          },
          "metadata": {
            "tags": []
          },
          "execution_count": 12
        }
      ]
    },
    {
      "cell_type": "code",
      "metadata": {
        "id": "jjUdWfGjw_VV",
        "outputId": "78217853-f343-4d59-d12a-e9b879588030",
        "colab": {
          "base_uri": "https://localhost:8080/",
          "height": 195
        }
      },
      "source": [
        "# What about the target?\n",
        "\n",
        "boston['MEDV'] = boston_dataset.target\n",
        "boston.head()"
      ],
      "execution_count": null,
      "outputs": [
        {
          "output_type": "execute_result",
          "data": {
            "text/html": [
              "<div>\n",
              "<style scoped>\n",
              "    .dataframe tbody tr th:only-of-type {\n",
              "        vertical-align: middle;\n",
              "    }\n",
              "\n",
              "    .dataframe tbody tr th {\n",
              "        vertical-align: top;\n",
              "    }\n",
              "\n",
              "    .dataframe thead th {\n",
              "        text-align: right;\n",
              "    }\n",
              "</style>\n",
              "<table border=\"1\" class=\"dataframe\">\n",
              "  <thead>\n",
              "    <tr style=\"text-align: right;\">\n",
              "      <th></th>\n",
              "      <th>CRIM</th>\n",
              "      <th>ZN</th>\n",
              "      <th>INDUS</th>\n",
              "      <th>CHAS</th>\n",
              "      <th>NOX</th>\n",
              "      <th>RM</th>\n",
              "      <th>AGE</th>\n",
              "      <th>DIS</th>\n",
              "      <th>RAD</th>\n",
              "      <th>TAX</th>\n",
              "      <th>PTRATIO</th>\n",
              "      <th>B</th>\n",
              "      <th>LSTAT</th>\n",
              "      <th>MEDV</th>\n",
              "    </tr>\n",
              "  </thead>\n",
              "  <tbody>\n",
              "    <tr>\n",
              "      <th>0</th>\n",
              "      <td>0.00632</td>\n",
              "      <td>18.0</td>\n",
              "      <td>2.31</td>\n",
              "      <td>0.0</td>\n",
              "      <td>0.538</td>\n",
              "      <td>6.575</td>\n",
              "      <td>65.2</td>\n",
              "      <td>4.0900</td>\n",
              "      <td>1.0</td>\n",
              "      <td>296.0</td>\n",
              "      <td>15.3</td>\n",
              "      <td>396.90</td>\n",
              "      <td>4.98</td>\n",
              "      <td>24.0</td>\n",
              "    </tr>\n",
              "    <tr>\n",
              "      <th>1</th>\n",
              "      <td>0.02731</td>\n",
              "      <td>0.0</td>\n",
              "      <td>7.07</td>\n",
              "      <td>0.0</td>\n",
              "      <td>0.469</td>\n",
              "      <td>6.421</td>\n",
              "      <td>78.9</td>\n",
              "      <td>4.9671</td>\n",
              "      <td>2.0</td>\n",
              "      <td>242.0</td>\n",
              "      <td>17.8</td>\n",
              "      <td>396.90</td>\n",
              "      <td>9.14</td>\n",
              "      <td>21.6</td>\n",
              "    </tr>\n",
              "    <tr>\n",
              "      <th>2</th>\n",
              "      <td>0.02729</td>\n",
              "      <td>0.0</td>\n",
              "      <td>7.07</td>\n",
              "      <td>0.0</td>\n",
              "      <td>0.469</td>\n",
              "      <td>7.185</td>\n",
              "      <td>61.1</td>\n",
              "      <td>4.9671</td>\n",
              "      <td>2.0</td>\n",
              "      <td>242.0</td>\n",
              "      <td>17.8</td>\n",
              "      <td>392.83</td>\n",
              "      <td>4.03</td>\n",
              "      <td>34.7</td>\n",
              "    </tr>\n",
              "    <tr>\n",
              "      <th>3</th>\n",
              "      <td>0.03237</td>\n",
              "      <td>0.0</td>\n",
              "      <td>2.18</td>\n",
              "      <td>0.0</td>\n",
              "      <td>0.458</td>\n",
              "      <td>6.998</td>\n",
              "      <td>45.8</td>\n",
              "      <td>6.0622</td>\n",
              "      <td>3.0</td>\n",
              "      <td>222.0</td>\n",
              "      <td>18.7</td>\n",
              "      <td>394.63</td>\n",
              "      <td>2.94</td>\n",
              "      <td>33.4</td>\n",
              "    </tr>\n",
              "    <tr>\n",
              "      <th>4</th>\n",
              "      <td>0.06905</td>\n",
              "      <td>0.0</td>\n",
              "      <td>2.18</td>\n",
              "      <td>0.0</td>\n",
              "      <td>0.458</td>\n",
              "      <td>7.147</td>\n",
              "      <td>54.2</td>\n",
              "      <td>6.0622</td>\n",
              "      <td>3.0</td>\n",
              "      <td>222.0</td>\n",
              "      <td>18.7</td>\n",
              "      <td>396.90</td>\n",
              "      <td>5.33</td>\n",
              "      <td>36.2</td>\n",
              "    </tr>\n",
              "  </tbody>\n",
              "</table>\n",
              "</div>"
            ],
            "text/plain": [
              "      CRIM    ZN  INDUS  CHAS    NOX  ...    TAX  PTRATIO       B  LSTAT  MEDV\n",
              "0  0.00632  18.0   2.31   0.0  0.538  ...  296.0     15.3  396.90   4.98  24.0\n",
              "1  0.02731   0.0   7.07   0.0  0.469  ...  242.0     17.8  396.90   9.14  21.6\n",
              "2  0.02729   0.0   7.07   0.0  0.469  ...  242.0     17.8  392.83   4.03  34.7\n",
              "3  0.03237   0.0   2.18   0.0  0.458  ...  222.0     18.7  394.63   2.94  33.4\n",
              "4  0.06905   0.0   2.18   0.0  0.458  ...  222.0     18.7  396.90   5.33  36.2\n",
              "\n",
              "[5 rows x 14 columns]"
            ]
          },
          "metadata": {
            "tags": []
          },
          "execution_count": 17
        }
      ]
    },
    {
      "cell_type": "markdown",
      "metadata": {
        "id": "XKAaIyUnxqzX"
      },
      "source": [
        "### Data Preprocessing\n",
        "\n",
        "***what should I check about my data?***\n"
      ]
    },
    {
      "cell_type": "code",
      "metadata": {
        "id": "sfjxoLzqw_Sq",
        "outputId": "aa3742f8-85db-4b33-8188-956f31d5c596",
        "colab": {
          "base_uri": "https://localhost:8080/"
        }
      },
      "source": [
        "# There are any missing values? Look dropna function!\n",
        "\n",
        "boston.isnull().sum()"
      ],
      "execution_count": null,
      "outputs": [
        {
          "output_type": "execute_result",
          "data": {
            "text/plain": [
              "CRIM       0\n",
              "ZN         0\n",
              "INDUS      0\n",
              "CHAS       0\n",
              "NOX        0\n",
              "RM         0\n",
              "AGE        0\n",
              "DIS        0\n",
              "RAD        0\n",
              "TAX        0\n",
              "PTRATIO    0\n",
              "B          0\n",
              "LSTAT      0\n",
              "MEDV       0\n",
              "dtype: int64"
            ]
          },
          "metadata": {
            "tags": []
          },
          "execution_count": 19
        }
      ]
    },
    {
      "cell_type": "markdown",
      "metadata": {
        "id": "KOzXr5gQ4ci5"
      },
      "source": [
        "## EDA and Assumptions\n",
        "\n",
        "- Most statistical tests rest upon the assumption of normality.\n",
        "- Tests that rely upon the assumption or normality are called parametric tests\n",
        "\n",
        "*We can easly say that this is parametric . . .*\n",
        "- $y=a + b*X + e$\n"
      ]
    },
    {
      "cell_type": "code",
      "metadata": {
        "id": "wHsJaUYw4cuD",
        "outputId": "b39182d2-e7ac-4825-abaf-0a67b1331cbc",
        "colab": {
          "base_uri": "https://localhost:8080/",
          "height": 570
        }
      },
      "source": [
        "\n",
        "# What is EDA? Exploratory Data Analysis, in this case : looking for the relationship of the target variable with other features.\n",
        "\n",
        "sns.set(rc={'figure.figsize':(11.7,8.27)})\n",
        "sns.distplot(boston['MEDV'], bins=30)\n",
        "plt.show()"
      ],
      "execution_count": null,
      "outputs": [
        {
          "output_type": "stream",
          "text": [
            "/usr/local/lib/python3.6/dist-packages/seaborn/distributions.py:2551: FutureWarning: `distplot` is a deprecated function and will be removed in a future version. Please adapt your code to use either `displot` (a figure-level function with similar flexibility) or `histplot` (an axes-level function for histograms).\n",
            "  warnings.warn(msg, FutureWarning)\n"
          ],
          "name": "stderr"
        },
        {
          "output_type": "display_data",
          "data": {
            "image/png": "[encoded data removed]",
            "text/plain": [
              "<Figure size 842.4x595.44 with 1 Axes>"
            ]
          },
          "metadata": {
            "tags": []
          }
        }
      ]
    },
    {
      "cell_type": "markdown",
      "metadata": {
        "id": "SJCF5IYrztx7"
      },
      "source": [
        "*What Should I see from this plot??*\n",
        "\n",
        "- Data distribution!\n"
      ]
    },
    {
      "cell_type": "markdown",
      "metadata": {
        "id": "nJQFE8xd0lZ2"
      },
      "source": [
        "### Normal Distribution"
      ]
    },
    {
      "cell_type": "code",
      "metadata": {
        "id": "eW5YGKjY0Jhn",
        "outputId": "37da04f1-d976-4747-875e-518ca2464dd7",
        "colab": {
          "base_uri": "https://localhost:8080/",
          "height": 587
        }
      },
      "source": [
        "from scipy.stats import norm\n",
        "\n",
        "# generate random numbers from N(0,1)\n",
        "data_normal = norm.rvs(size=10000,loc=0,scale=1)\n",
        "\n",
        "ax = sns.distplot(data_normal,\n",
        "                  bins=100,\n",
        "                  kde=True,\n",
        "                  color='green',\n",
        "                  hist_kws={\"linewidth\": 15,'alpha':1})\n",
        "\n",
        "ax.set(xlabel='Normal Distribution', ylabel='Frequency')"
      ],
      "execution_count": null,
      "outputs": [
        {
          "output_type": "stream",
          "text": [
            "/usr/local/lib/python3.6/dist-packages/seaborn/distributions.py:2551: FutureWarning: `distplot` is a deprecated function and will be removed in a future version. Please adapt your code to use either `displot` (a figure-level function with similar flexibility) or `histplot` (an axes-level function for histograms).\n",
            "  warnings.warn(msg, FutureWarning)\n"
          ],
          "name": "stderr"
        },
        {
          "output_type": "execute_result",
          "data": {
            "text/plain": [
              "[Text(0, 0.5, 'Frequency'), Text(0.5, 0, 'Normal Distribution')]"
            ]
          },
          "metadata": {
            "tags": []
          },
          "execution_count": 21
        },
        {
          "output_type": "display_data",
          "data": {
            "image/png": "[encoded data removed]",
            "text/plain": [
              "<Figure size 842.4x595.44 with 1 Axes>"
            ]
          },
          "metadata": {
            "tags": []
          }
        }
      ]
    },
    {
      "cell_type": "markdown",
      "metadata": {
        "id": "e3tsNgr_1RAe"
      },
      "source": [
        "There are many other distributions...\n",
        "\n",
        "*Poisson, Binomial, Trinomial, Gamma, Exponential, Bernulli, . . . .*\n",
        "\n",
        "**But what does it mean converge into a distribution?**"
      ]
    },
    {
      "cell_type": "code",
      "metadata": {
        "id": "b5bH2kdQysDw",
        "outputId": "e39f345b-e70b-414f-9bf1-d0b59aef5d94",
        "colab": {
          "base_uri": "https://localhost:8080/",
          "height": 587
        }
      },
      "source": [
        "# Bernulli Example\n",
        "\n",
        "# A Bernoulli distribution has only two possible outcomes, namely 1 (success) and 0 (failure)  | TESTA O CROCE!\n",
        "\n",
        "from scipy.stats import bernoulli\n",
        "data_bern = bernoulli.rvs(size=10000,p=0.5)\n",
        "\n",
        "ax= sns.distplot(data_bern,\n",
        "                 kde=False,\n",
        "                 color=\"skyblue\",\n",
        "                 hist_kws={\"linewidth\": 15,'alpha':1})\n",
        "\n",
        "ax.set(xlabel='Bernoulli Distribution', ylabel='Frequency')\n",
        "\n"
      ],
      "execution_count": null,
      "outputs": [
        {
          "output_type": "stream",
          "text": [
            "/usr/local/lib/python3.6/dist-packages/seaborn/distributions.py:2551: FutureWarning: `distplot` is a deprecated function and will be removed in a future version. Please adapt your code to use either `displot` (a figure-level function with similar flexibility) or `histplot` (an axes-level function for histograms).\n",
            "  warnings.warn(msg, FutureWarning)\n"
          ],
          "name": "stderr"
        },
        {
          "output_type": "execute_result",
          "data": {
            "text/plain": [
              "[Text(0, 0.5, 'Frequency'), Text(0.5, 0, 'Bernoulli Distribution')]"
            ]
          },
          "metadata": {
            "tags": []
          },
          "execution_count": 24
        },
        {
          "output_type": "display_data",
          "data": {
            "image/png": "[encoded data removed]",
            "text/plain": [
              "<Figure size 842.4x595.44 with 1 Axes>"
            ]
          },
          "metadata": {
            "tags": []
          }
        }
      ]
    },
    {
      "cell_type": "markdown",
      "metadata": {
        "id": "twV2v7Ca1-Hs"
      },
      "source": [
        "Come back to our Boston Data set!\n",
        "\n",
        "\n",
        "***How can I check if normality is satisfied?***\n",
        "\n",
        "- Graphical tests\n",
        "- Shapiro Wilk test\n",
        "\n"
      ]
    },
    {
      "cell_type": "code",
      "metadata": {
        "id": "PQWxvjJi2ENE",
        "outputId": "d782b803-c176-48d1-aeef-88228b404286",
        "colab": {
          "base_uri": "https://localhost:8080/",
          "height": 570
        }
      },
      "source": [
        "from statsmodels.graphics.gofplots import qqplot\n",
        "\n",
        "qqplot(boston['MEDV'], line='s')\n",
        "plt.show()"
      ],
      "execution_count": null,
      "outputs": [
        {
          "output_type": "stream",
          "text": [
            "/usr/local/lib/python3.6/dist-packages/statsmodels/tools/_testing.py:19: FutureWarning: pandas.util.testing is deprecated. Use the functions in the public API at pandas.testing instead.\n",
            "  import pandas.util.testing as tm\n"
          ],
          "name": "stderr"
        },
        {
          "output_type": "display_data",
          "data": {
            "image/png": "[encoded data removed]",
            "text/plain": [
              "<Figure size 842.4x595.44 with 1 Axes>"
            ]
          },
          "metadata": {
            "tags": []
          }
        }
      ]
    },
    {
      "cell_type": "markdown",
      "metadata": {
        "id": "a2zNTwvp_FLe"
      },
      "source": [
        "### Which are our Outliers?"
      ]
    },
    {
      "cell_type": "code",
      "metadata": {
        "id": "1-hZ_90I-w4J",
        "outputId": "e988acd5-bbf8-4988-de88-2ee90b1a8c84",
        "colab": {
          "base_uri": "https://localhost:8080/",
          "height": 534
        }
      },
      "source": [
        "## Suggestion! But consider that creativity is your best tool!\n",
        "\n",
        "sns.boxplot(x=boston['MEDV']) \n"
      ],
      "execution_count": null,
      "outputs": [
        {
          "output_type": "execute_result",
          "data": {
            "text/plain": [
              "<matplotlib.axes._subplots.AxesSubplot at 0x7f0ea7fb3fd0>"
            ]
          },
          "metadata": {
            "tags": []
          },
          "execution_count": 26
        },
        {
          "output_type": "display_data",
          "data": {
            "image/png": "[encoded data removed]",
            "text/plain": [
              "<Figure size 842.4x595.44 with 1 Axes>"
            ]
          },
          "metadata": {
            "tags": []
          }
        }
      ]
    },
    {
      "cell_type": "markdown",
      "metadata": {
        "id": "ltHSjFY9_kGM"
      },
      "source": [
        "#### When you finish you can test with the above functions or use the a no-grafical test"
      ]
    },
    {
      "cell_type": "code",
      "metadata": {
        "id": "VywnRRFo3oDa",
        "outputId": "b2f1375c-1239-4bd1-ea6a-4b738a1d393c",
        "colab": {
          "base_uri": "https://localhost:8080/"
        }
      },
      "source": [
        "# Shapiro-Wilk Test\n",
        "\n",
        "from scipy.stats import shapiro\n",
        "\n",
        "stat, p = shapiro(boston['MEDV'])\n",
        "print('Statistics=%.3f, p=%.3f' % (stat, p))\n",
        "# interpret\n",
        "alpha = 0.05\n",
        "if p > alpha:\n",
        "\tprint('Sample looks Gaussian (fail to reject H0)')\n",
        "else:\n",
        "\tprint('Sample does not look Gaussian (reject H0)')"
      ],
      "execution_count": null,
      "outputs": [
        {
          "output_type": "stream",
          "text": [
            "Statistics=0.917, p=0.000\n",
            "Sample does not look Gaussian (reject H0)\n"
          ],
          "name": "stdout"
        }
      ]
    },
    {
      "cell_type": "markdown",
      "metadata": {
        "id": "Wx4bDQ5u-dQ9"
      },
      "source": [
        "*We will came back later on this . . .*"
      ]
    },
    {
      "cell_type": "markdown",
      "metadata": {
        "id": "-kcko3KcBdTu"
      },
      "source": [
        "## Multi-collinearity\n",
        "\n",
        "Multicollinearity happens when independent variables in the regression model are highly correlated to each other. It makes it hard for interpretation of model and also creates overfitting problem.\n",
        "\n",
        "**But the main problem is the following :**\n",
        "\n",
        "- When independent variables are highly correlated, change in one variable would cause change to another and so the model results fluctuate significantly.\n",
        "\n",
        "\n",
        "### Correlation Matrix\n",
        "\n",
        "Next, we create a correlation matrix that measures the linear relationships between the variables. The correlation matrix can be formed by using the corr function from the pandas dataframe library. We will use the heatmap function from the seaborn library to plot the correlation matrix.\n"
      ]
    },
    {
      "cell_type": "code",
      "metadata": {
        "id": "WGJk7OYYBdps",
        "outputId": "b88be3a6-a489-492a-d2f1-e4681d9d6184",
        "colab": {
          "base_uri": "https://localhost:8080/",
          "height": 521
        }
      },
      "source": [
        "correlation_matrix = boston.corr().round(2)\n",
        "# annot = True to print the values inside the square\n",
        "sns.heatmap(data=correlation_matrix, annot=True)"
      ],
      "execution_count": null,
      "outputs": [
        {
          "output_type": "execute_result",
          "data": {
            "text/plain": [
              "<matplotlib.axes._subplots.AxesSubplot at 0x7f0ea7f3a8d0>"
            ]
          },
          "metadata": {
            "tags": []
          },
          "execution_count": 28
        },
        {
          "output_type": "display_data",
          "data": {
            "image/png": "[encoded data removed]",
            "text/plain": [
              "<Figure size 842.4x595.44 with 2 Axes>"
            ]
          },
          "metadata": {
            "tags": []
          }
        }
      ]
    },
    {
      "cell_type": "markdown",
      "metadata": {
        "id": "XgKZzKh2CLsp"
      },
      "source": [
        "*Which is the Correlation Matrix range?*\n",
        "\n",
        "- from : -1\n",
        "- to : 1\n",
        "\n",
        "\n",
        "\n",
        "\n",
        "*Which features will we select?*\n",
        "\n",
        "*Multi-Collinearity?*\n"
      ]
    },
    {
      "cell_type": "markdown",
      "metadata": {
        "id": "KxCKuGDLFVtJ"
      },
      "source": [
        "## Homoschedasticity\n",
        "\n",
        "![](https://miro.medium.com/max/700/1*V-ZwpBFum-jP710q_fyjBA.png)\n",
        "\n",
        "- Often occurs in those data sets which have a large range between the largest and the smallest observed values i.e. when there are outliers.\n",
        "- When model is not correctly specified.\n",
        "- If observations are mixed with different measures of scale.\n",
        "- When incorrect transformation of data is used to perform the regression.\n",
        "Skewness in the distribution of a regressor, and may be some other sources."
      ]
    },
    {
      "cell_type": "markdown",
      "metadata": {
        "id": "wETLuaR_CMdC"
      },
      "source": [
        "### Show the final Dataframe with all the selected columns"
      ]
    },
    {
      "cell_type": "code",
      "metadata": {
        "id": "eVY03Pk8CUXK",
        "outputId": "a2edc8d3-f1ba-4b94-ce13-8d8a363bce8d",
        "colab": {
          "base_uri": "https://localhost:8080/",
          "height": 195
        }
      },
      "source": [
        "# select by name df=[[]] | select by .iloc func\n",
        "\n",
        "boston2 = boston.copy()\n",
        "\n",
        "boston2 = boston2[['LSTAT', 'PTRATIO', 'RM', 'INDUS', 'CRIM', 'MEDV']]\n",
        "\n",
        "boston2.head()"
      ],
      "execution_count": null,
      "outputs": [
        {
          "output_type": "execute_result",
          "data": {
            "text/html": [
              "<div>\n",
              "<style scoped>\n",
              "    .dataframe tbody tr th:only-of-type {\n",
              "        vertical-align: middle;\n",
              "    }\n",
              "\n",
              "    .dataframe tbody tr th {\n",
              "        vertical-align: top;\n",
              "    }\n",
              "\n",
              "    .dataframe thead th {\n",
              "        text-align: right;\n",
              "    }\n",
              "</style>\n",
              "<table border=\"1\" class=\"dataframe\">\n",
              "  <thead>\n",
              "    <tr style=\"text-align: right;\">\n",
              "      <th></th>\n",
              "      <th>LSTAT</th>\n",
              "      <th>PTRATIO</th>\n",
              "      <th>RM</th>\n",
              "      <th>INDUS</th>\n",
              "      <th>CRIM</th>\n",
              "      <th>MEDV</th>\n",
              "    </tr>\n",
              "  </thead>\n",
              "  <tbody>\n",
              "    <tr>\n",
              "      <th>0</th>\n",
              "      <td>4.98</td>\n",
              "      <td>15.3</td>\n",
              "      <td>6.575</td>\n",
              "      <td>2.31</td>\n",
              "      <td>0.00632</td>\n",
              "      <td>24.0</td>\n",
              "    </tr>\n",
              "    <tr>\n",
              "      <th>1</th>\n",
              "      <td>9.14</td>\n",
              "      <td>17.8</td>\n",
              "      <td>6.421</td>\n",
              "      <td>7.07</td>\n",
              "      <td>0.02731</td>\n",
              "      <td>21.6</td>\n",
              "    </tr>\n",
              "    <tr>\n",
              "      <th>2</th>\n",
              "      <td>4.03</td>\n",
              "      <td>17.8</td>\n",
              "      <td>7.185</td>\n",
              "      <td>7.07</td>\n",
              "      <td>0.02729</td>\n",
              "      <td>34.7</td>\n",
              "    </tr>\n",
              "    <tr>\n",
              "      <th>3</th>\n",
              "      <td>2.94</td>\n",
              "      <td>18.7</td>\n",
              "      <td>6.998</td>\n",
              "      <td>2.18</td>\n",
              "      <td>0.03237</td>\n",
              "      <td>33.4</td>\n",
              "    </tr>\n",
              "    <tr>\n",
              "      <th>4</th>\n",
              "      <td>5.33</td>\n",
              "      <td>18.7</td>\n",
              "      <td>7.147</td>\n",
              "      <td>2.18</td>\n",
              "      <td>0.06905</td>\n",
              "      <td>36.2</td>\n",
              "    </tr>\n",
              "  </tbody>\n",
              "</table>\n",
              "</div>"
            ],
            "text/plain": [
              "   LSTAT  PTRATIO     RM  INDUS     CRIM  MEDV\n",
              "0   4.98     15.3  6.575   2.31  0.00632  24.0\n",
              "1   9.14     17.8  6.421   7.07  0.02731  21.6\n",
              "2   4.03     17.8  7.185   7.07  0.02729  34.7\n",
              "3   2.94     18.7  6.998   2.18  0.03237  33.4\n",
              "4   5.33     18.7  7.147   2.18  0.06905  36.2"
            ]
          },
          "metadata": {
            "tags": []
          },
          "execution_count": 29
        }
      ]
    },
    {
      "cell_type": "markdown",
      "metadata": {
        "id": "crfXpzjB6rwZ"
      },
      "source": [
        "## Data Splitting\n",
        "\n",
        "There are lots of ways to split our data and lots of packages\n",
        "\n",
        "- Divided manually\n",
        "- build-in function inside sklearn\n",
        "  - train_test_val\n",
        "  - . . . \n",
        "\n",
        "\n",
        "And also depend on data type / dataset size\n"
      ]
    },
    {
      "cell_type": "code",
      "metadata": {
        "id": "1jBrwyLrBo8J"
      },
      "source": [
        "training = boston2[:round(boston2.shape[0]/100*70),:]\n",
        "test = boston2[round(boston2.shape[0]/100*70)+1:,:]"
      ],
      "execution_count": null,
      "outputs": []
    },
    {
      "cell_type": "code",
      "metadata": {
        "id": "lJELnyecCWFD",
        "outputId": "1a496cdc-7a49-4b76-c668-f054f4786749",
        "colab": {
          "base_uri": "https://localhost:8080/",
          "height": 34
        }
      },
      "source": [
        "print(training.shape, test.shape, training.shape[0] + test.shape[0])"
      ],
      "execution_count": null,
      "outputs": [
        {
          "output_type": "stream",
          "text": [
            "(354, 6) (152, 6) 506\n"
          ],
          "name": "stdout"
        }
      ]
    },
    {
      "cell_type": "code",
      "metadata": {
        "id": "McgotHDkEbkC"
      },
      "source": [
        "#boston2.iloc[:,-1]\n",
        "\n",
        "#boston2[['MEDV']]"
      ],
      "execution_count": null,
      "outputs": []
    },
    {
      "cell_type": "code",
      "metadata": {
        "id": "qU6ewkcJ6r9A"
      },
      "source": [
        "X_train, X_test, y_train, y_test = model_selection.train_test_split(boston2[['LSTAT', 'PTRATIO', 'RM', 'INDUS', 'CRIM']], \n",
        "                                                                    boston2.iloc[:,-1], \n",
        "                                                                    train_size=0.7,\n",
        "                                                                    test_size=0.3, random_state=10)"
      ],
      "execution_count": null,
      "outputs": []
    },
    {
      "cell_type": "code",
      "metadata": {
        "id": "n4gd7jHDDQ7O",
        "outputId": "eda093f4-a1f0-4fa2-f9c2-1cff40237964",
        "colab": {
          "base_uri": "https://localhost:8080/"
        }
      },
      "source": [
        "print (\"Original: \", boston2.shape, \"\\n\")\n",
        "\n",
        "print (\"X_train: \", X_train.shape)\n",
        "print (\"y_train: \", y_train.shape)\n",
        "\n",
        "print(\"X_test: \", X_test.shape)\n",
        "print (\"y_test: {} \\n \".format(y_test.shape))\n",
        "\n",
        "print (\"Reconstruct X : \", X_train.shape[0] + X_test.shape[0])\n",
        "\n",
        "# Check also Y"
      ],
      "execution_count": null,
      "outputs": [
        {
          "output_type": "stream",
          "text": [
            "Original:  (506, 6) \n",
            "\n",
            "X_train:  (354, 5)\n",
            "y_train:  (354,)\n",
            "X_test:  (152, 5)\n",
            "y_test: (152,) \n",
            " \n",
            "Reconstruct X :  506\n"
          ],
          "name": "stdout"
        }
      ]
    },
    {
      "cell_type": "markdown",
      "metadata": {
        "id": "6EfpFrc3EUsL"
      },
      "source": [
        "### K-fold cross-validation\n",
        "\n",
        "![](https://static.packt-cdn.com/products/9781789617740/graphics/b04c27c5-7e3f-428a-9aa6-bb3ebcd3584c.png)"
      ]
    },
    {
      "cell_type": "markdown",
      "metadata": {
        "id": "hw8SHcfd9EtF"
      },
      "source": [
        "## Model Definition & Traning"
      ]
    },
    {
      "cell_type": "code",
      "metadata": {
        "id": "MPx4In6-IAYk",
        "outputId": "b010279c-f0fe-4895-c826-e47615f5925d",
        "colab": {
          "base_uri": "https://localhost:8080/",
          "height": 195
        }
      },
      "source": [
        "boston2.head()"
      ],
      "execution_count": null,
      "outputs": [
        {
          "output_type": "execute_result",
          "data": {
            "text/html": [
              "<div>\n",
              "<style scoped>\n",
              "    .dataframe tbody tr th:only-of-type {\n",
              "        vertical-align: middle;\n",
              "    }\n",
              "\n",
              "    .dataframe tbody tr th {\n",
              "        vertical-align: top;\n",
              "    }\n",
              "\n",
              "    .dataframe thead th {\n",
              "        text-align: right;\n",
              "    }\n",
              "</style>\n",
              "<table border=\"1\" class=\"dataframe\">\n",
              "  <thead>\n",
              "    <tr style=\"text-align: right;\">\n",
              "      <th></th>\n",
              "      <th>LSTAT</th>\n",
              "      <th>PTRATIO</th>\n",
              "      <th>RM</th>\n",
              "      <th>INDUS</th>\n",
              "      <th>CRIM</th>\n",
              "      <th>MEDV</th>\n",
              "    </tr>\n",
              "  </thead>\n",
              "  <tbody>\n",
              "    <tr>\n",
              "      <th>0</th>\n",
              "      <td>4.98</td>\n",
              "      <td>15.3</td>\n",
              "      <td>6.575</td>\n",
              "      <td>2.31</td>\n",
              "      <td>0.00632</td>\n",
              "      <td>24.0</td>\n",
              "    </tr>\n",
              "    <tr>\n",
              "      <th>1</th>\n",
              "      <td>9.14</td>\n",
              "      <td>17.8</td>\n",
              "      <td>6.421</td>\n",
              "      <td>7.07</td>\n",
              "      <td>0.02731</td>\n",
              "      <td>21.6</td>\n",
              "    </tr>\n",
              "    <tr>\n",
              "      <th>2</th>\n",
              "      <td>4.03</td>\n",
              "      <td>17.8</td>\n",
              "      <td>7.185</td>\n",
              "      <td>7.07</td>\n",
              "      <td>0.02729</td>\n",
              "      <td>34.7</td>\n",
              "    </tr>\n",
              "    <tr>\n",
              "      <th>3</th>\n",
              "      <td>2.94</td>\n",
              "      <td>18.7</td>\n",
              "      <td>6.998</td>\n",
              "      <td>2.18</td>\n",
              "      <td>0.03237</td>\n",
              "      <td>33.4</td>\n",
              "    </tr>\n",
              "    <tr>\n",
              "      <th>4</th>\n",
              "      <td>5.33</td>\n",
              "      <td>18.7</td>\n",
              "      <td>7.147</td>\n",
              "      <td>2.18</td>\n",
              "      <td>0.06905</td>\n",
              "      <td>36.2</td>\n",
              "    </tr>\n",
              "  </tbody>\n",
              "</table>\n",
              "</div>"
            ],
            "text/plain": [
              "   LSTAT  PTRATIO     RM  INDUS     CRIM  MEDV\n",
              "0   4.98     15.3  6.575   2.31  0.00632  24.0\n",
              "1   9.14     17.8  6.421   7.07  0.02731  21.6\n",
              "2   4.03     17.8  7.185   7.07  0.02729  34.7\n",
              "3   2.94     18.7  6.998   2.18  0.03237  33.4\n",
              "4   5.33     18.7  7.147   2.18  0.06905  36.2"
            ]
          },
          "metadata": {
            "tags": []
          },
          "execution_count": 23
        }
      ]
    },
    {
      "cell_type": "code",
      "metadata": {
        "id": "XhMGd4P39E29",
        "outputId": "573a4459-9115-4bd0-cf0e-9ce98dfa05b2",
        "colab": {
          "base_uri": "https://localhost:8080/"
        }
      },
      "source": [
        "from sklearn.linear_model import LinearRegression\n",
        "\n",
        "# Fitting the model\n",
        "boston_model = LinearRegression()\n",
        "\n",
        "boston_model.fit(X_train, y_train)"
      ],
      "execution_count": null,
      "outputs": [
        {
          "output_type": "execute_result",
          "data": {
            "text/plain": [
              "LinearRegression(copy_X=True, fit_intercept=True, n_jobs=None, normalize=False)"
            ]
          },
          "metadata": {
            "tags": []
          },
          "execution_count": 51
        }
      ]
    },
    {
      "cell_type": "code",
      "metadata": {
        "id": "DMjAji9O_OOo",
        "outputId": "ac166a50-63a9-42ad-8bd3-51ee8a50a6c6",
        "colab": {
          "base_uri": "https://localhost:8080/"
        }
      },
      "source": [
        "### How do I evaluate my model?  P.s. look at .score funcion ok sklearn!\n",
        "\n",
        "# Returning the R^2 for the model\n",
        "\n",
        "boston_r2 = boston_model.score(X_test, y_test)\n",
        "\n",
        "\n",
        "print('R^2: {0}'.format(boston_r2))"
      ],
      "execution_count": null,
      "outputs": [
        {
          "output_type": "stream",
          "text": [
            "R^2: 0.6730386181763135\n"
          ],
          "name": "stdout"
        }
      ]
    },
    {
      "cell_type": "markdown",
      "metadata": {
        "id": "jmVxDrueHJAB"
      },
      "source": [
        "### We have lots of metrics of evaluation \n",
        "\n",
        "*Let me show you the most relevant*\n",
        "\n",
        "- Mean Squared Error**(MSE)**        \n",
        "\n",
        "$$ MSE = \\frac {\\sum (y - y_{hat})^2}{N} $$\n",
        "\n",
        "it penalizes even a small error which leads to over-estimation of how bad the model is\n",
        "\n",
        "- Root-Mean-Squared-Error**(RMSE)**\n",
        "\n",
        "$$ RMSE = \\sqrt \\frac {\\sum (y - y_{hat})^2}{N} $$\n",
        "\n",
        "This implies that RMSE is useful when large errors are undesired.\n",
        "\n",
        "- Mean-Absolute-Error**(MAE)**\n",
        "\n",
        "$$ MSE = \\frac {\\sum |y - y_{hat}|}{N} $$\n",
        "\n",
        "The MAE is more robust to outliers and does not penalize the errors as extremely as mse\n",
        "\n"
      ]
    },
    {
      "cell_type": "markdown",
      "metadata": {
        "id": "mgieAXI1LXyV"
      },
      "source": [
        "\n",
        "- **R²** or Coefficient of Determination.\n",
        "\n",
        "*Question :* which is the range of $R^2$? Why?\n",
        "\n",
        "- **Adjusted R²**\n",
        "\n",
        "As $R^2$ but penalize too variables"
      ]
    },
    {
      "cell_type": "markdown",
      "metadata": {
        "id": "4Dbv4b_PMUtS"
      },
      "source": [
        "## Question from your manager : Which features are the most relevant?\n"
      ]
    },
    {
      "cell_type": "code",
      "metadata": {
        "id": "6Q6_h9q7Moz_",
        "outputId": "58aa115e-fcd7-43c4-a981-ee2adc2664e9",
        "colab": {
          "base_uri": "https://localhost:8080/",
          "height": 584
        }
      },
      "source": [
        "importance = boston_model.coef_  ## What is .coef???\n",
        "\n",
        "# summarize feature importance\n",
        "for i,v in enumerate(importance):\n",
        "\tprint('Feature: %0d, Score: %.5f' % (i,v))\n",
        " \n",
        "# plot feature importance\n",
        "plt.bar([x for x in range(len(importance))], importance)\n",
        "plt.show()"
      ],
      "execution_count": null,
      "outputs": [
        {
          "output_type": "stream",
          "text": [
            "Feature: 0, Score: -0.55951\n",
            "Feature: 1, Score: -0.82292\n",
            "Feature: 2, Score: 4.24762\n",
            "Feature: 3, Score: 0.00843\n",
            "Feature: 4, Score: -0.09805\n"
          ],
          "name": "stdout"
        },
        {
          "output_type": "display_data",
          "data": {
            "image/png": "[encoded data removed]",
            "text/plain": [
              "<Figure size 842.4x595.44 with 1 Axes>"
            ]
          },
          "metadata": {
            "tags": []
          }
        }
      ]
    },
    {
      "cell_type": "markdown",
      "metadata": {
        "id": "7qlEIoS9TH1P"
      },
      "source": [
        "## Now.. Try to predict!"
      ]
    },
    {
      "cell_type": "code",
      "metadata": {
        "id": "YzFBtnFDuIL_"
      },
      "source": [],
      "execution_count": null,
      "outputs": []
    },
    {
      "cell_type": "code",
      "metadata": {
        "id": "CFg5MedvuIbe"
      },
      "source": [],
      "execution_count": null,
      "outputs": []
    },
    {
      "cell_type": "code",
      "metadata": {
        "id": "-vGmEytvuIVh"
      },
      "source": [],
      "execution_count": null,
      "outputs": []
    },
    {
      "cell_type": "code",
      "metadata": {
        "id": "DKJ8cswBuIHV"
      },
      "source": [],
      "execution_count": null,
      "outputs": []
    },
    {
      "cell_type": "code",
      "metadata": {
        "id": "BME6Wc1ouIE4"
      },
      "source": [],
      "execution_count": null,
      "outputs": []
    },
    {
      "cell_type": "code",
      "metadata": {
        "id": "NEka1KXAuH77"
      },
      "source": [],
      "execution_count": null,
      "outputs": []
    },
    {
      "cell_type": "markdown",
      "metadata": {
        "id": "WrgTfMknHq3p"
      },
      "source": [
        "# BREAK!!"
      ]
    },
    {
      "cell_type": "markdown",
      "metadata": {
        "id": "JMtj-P02OLJN"
      },
      "source": [
        "Do yourself on another dataset!\n",
        "\n",
        "**Need a suggest?**\n",
        "\n",
        "- Try with : **load_diabetes**\n",
        "- Try with : **Kaggle**  : www.kaggle.com\n",
        "\n",
        "OR . . . follow this tutorial\n",
        "\n",
        "\n"
      ]
    },
    {
      "cell_type": "markdown",
      "metadata": {
        "id": "rtvs3HM9OvcH"
      },
      "source": [
        "Do you want any good reference for learning in easy and good way?\n",
        "\n",
        "- https://machinelearningmastery.com/"
      ]
    },
    {
      "cell_type": "markdown",
      "metadata": {
        "id": "HuA7FJVUY-HU"
      },
      "source": [
        "# Or we can make it a bit more complex!"
      ]
    },
    {
      "cell_type": "markdown",
      "metadata": {
        "id": "-o-ouKoSG2wD"
      },
      "source": [
        "### Load Data"
      ]
    },
    {
      "cell_type": "code",
      "metadata": {
        "id": "-z0XWeZsG3lh"
      },
      "source": [
        "df_flights = pd.read_csv('https://raw.githubusercontent.com/ismayc/pnwflights14/master/data/flights.csv')"
      ],
      "execution_count": null,
      "outputs": []
    },
    {
      "cell_type": "code",
      "metadata": {
        "id": "btuM8HyDMo7-",
        "outputId": "46f1bffc-a0b6-4346-daf2-e4b7a78d861b",
        "colab": {
          "base_uri": "https://localhost:8080/",
          "height": 195
        }
      },
      "source": [
        "df_flights.head()"
      ],
      "execution_count": null,
      "outputs": [
        {
          "output_type": "execute_result",
          "data": {
            "text/html": [
              "<div>\n",
              "<style scoped>\n",
              "    .dataframe tbody tr th:only-of-type {\n",
              "        vertical-align: middle;\n",
              "    }\n",
              "\n",
              "    .dataframe tbody tr th {\n",
              "        vertical-align: top;\n",
              "    }\n",
              "\n",
              "    .dataframe thead th {\n",
              "        text-align: right;\n",
              "    }\n",
              "</style>\n",
              "<table border=\"1\" class=\"dataframe\">\n",
              "  <thead>\n",
              "    <tr style=\"text-align: right;\">\n",
              "      <th></th>\n",
              "      <th>year</th>\n",
              "      <th>month</th>\n",
              "      <th>day</th>\n",
              "      <th>dep_time</th>\n",
              "      <th>dep_delay</th>\n",
              "      <th>arr_time</th>\n",
              "      <th>arr_delay</th>\n",
              "      <th>carrier</th>\n",
              "      <th>tailnum</th>\n",
              "      <th>flight</th>\n",
              "      <th>origin</th>\n",
              "      <th>dest</th>\n",
              "      <th>air_time</th>\n",
              "      <th>distance</th>\n",
              "      <th>hour</th>\n",
              "      <th>minute</th>\n",
              "    </tr>\n",
              "  </thead>\n",
              "  <tbody>\n",
              "    <tr>\n",
              "      <th>0</th>\n",
              "      <td>2014</td>\n",
              "      <td>1</td>\n",
              "      <td>1</td>\n",
              "      <td>1.0</td>\n",
              "      <td>96.0</td>\n",
              "      <td>235.0</td>\n",
              "      <td>70.0</td>\n",
              "      <td>AS</td>\n",
              "      <td>N508AS</td>\n",
              "      <td>145</td>\n",
              "      <td>PDX</td>\n",
              "      <td>ANC</td>\n",
              "      <td>194.0</td>\n",
              "      <td>1542</td>\n",
              "      <td>0.0</td>\n",
              "      <td>1.0</td>\n",
              "    </tr>\n",
              "    <tr>\n",
              "      <th>1</th>\n",
              "      <td>2014</td>\n",
              "      <td>1</td>\n",
              "      <td>1</td>\n",
              "      <td>4.0</td>\n",
              "      <td>-6.0</td>\n",
              "      <td>738.0</td>\n",
              "      <td>-23.0</td>\n",
              "      <td>US</td>\n",
              "      <td>N195UW</td>\n",
              "      <td>1830</td>\n",
              "      <td>SEA</td>\n",
              "      <td>CLT</td>\n",
              "      <td>252.0</td>\n",
              "      <td>2279</td>\n",
              "      <td>0.0</td>\n",
              "      <td>4.0</td>\n",
              "    </tr>\n",
              "    <tr>\n",
              "      <th>2</th>\n",
              "      <td>2014</td>\n",
              "      <td>1</td>\n",
              "      <td>1</td>\n",
              "      <td>8.0</td>\n",
              "      <td>13.0</td>\n",
              "      <td>548.0</td>\n",
              "      <td>-4.0</td>\n",
              "      <td>UA</td>\n",
              "      <td>N37422</td>\n",
              "      <td>1609</td>\n",
              "      <td>PDX</td>\n",
              "      <td>IAH</td>\n",
              "      <td>201.0</td>\n",
              "      <td>1825</td>\n",
              "      <td>0.0</td>\n",
              "      <td>8.0</td>\n",
              "    </tr>\n",
              "    <tr>\n",
              "      <th>3</th>\n",
              "      <td>2014</td>\n",
              "      <td>1</td>\n",
              "      <td>1</td>\n",
              "      <td>28.0</td>\n",
              "      <td>-2.0</td>\n",
              "      <td>800.0</td>\n",
              "      <td>-23.0</td>\n",
              "      <td>US</td>\n",
              "      <td>N547UW</td>\n",
              "      <td>466</td>\n",
              "      <td>PDX</td>\n",
              "      <td>CLT</td>\n",
              "      <td>251.0</td>\n",
              "      <td>2282</td>\n",
              "      <td>0.0</td>\n",
              "      <td>28.0</td>\n",
              "    </tr>\n",
              "    <tr>\n",
              "      <th>4</th>\n",
              "      <td>2014</td>\n",
              "      <td>1</td>\n",
              "      <td>1</td>\n",
              "      <td>34.0</td>\n",
              "      <td>44.0</td>\n",
              "      <td>325.0</td>\n",
              "      <td>43.0</td>\n",
              "      <td>AS</td>\n",
              "      <td>N762AS</td>\n",
              "      <td>121</td>\n",
              "      <td>SEA</td>\n",
              "      <td>ANC</td>\n",
              "      <td>201.0</td>\n",
              "      <td>1448</td>\n",
              "      <td>0.0</td>\n",
              "      <td>34.0</td>\n",
              "    </tr>\n",
              "  </tbody>\n",
              "</table>\n",
              "</div>"
            ],
            "text/plain": [
              "   year  month  day  dep_time  dep_delay  ...  dest  air_time distance hour  minute\n",
              "0  2014      1    1       1.0       96.0  ...   ANC     194.0     1542  0.0     1.0\n",
              "1  2014      1    1       4.0       -6.0  ...   CLT     252.0     2279  0.0     4.0\n",
              "2  2014      1    1       8.0       13.0  ...   IAH     201.0     1825  0.0     8.0\n",
              "3  2014      1    1      28.0       -2.0  ...   CLT     251.0     2282  0.0    28.0\n",
              "4  2014      1    1      34.0       44.0  ...   ANC     201.0     1448  0.0    34.0\n",
              "\n",
              "[5 rows x 16 columns]"
            ]
          },
          "metadata": {
            "tags": []
          },
          "execution_count": 65
        }
      ]
    },
    {
      "cell_type": "markdown",
      "metadata": {
        "id": "L2p4QsUoNLOz"
      },
      "source": [
        "## 1.2  Step 2. Check the number of rows and columns and print column names"
      ]
    },
    {
      "cell_type": "code",
      "metadata": {
        "id": "jLLcYhYmNGyX",
        "outputId": "18c1c83f-deaf-461c-b817-da3360b923d7",
        "colab": {
          "base_uri": "https://localhost:8080/"
        }
      },
      "source": [],
      "execution_count": null,
      "outputs": [
        {
          "output_type": "execute_result",
          "data": {
            "text/plain": [
              "(162049, 16)"
            ]
          },
          "metadata": {
            "tags": []
          },
          "execution_count": 5
        }
      ]
    },
    {
      "cell_type": "code",
      "metadata": {
        "id": "SFrkOeEXNTcF",
        "outputId": "465744ed-c78e-4360-d0b4-6d3cc165fc7b",
        "colab": {
          "base_uri": "https://localhost:8080/"
        }
      },
      "source": [],
      "execution_count": null,
      "outputs": [
        {
          "output_type": "execute_result",
          "data": {
            "text/plain": [
              "Index(['year', 'month', 'day', 'dep_time', 'dep_delay', 'arr_time',\n",
              "       'arr_delay', 'carrier', 'tailnum', 'flight', 'origin', 'dest',\n",
              "       'air_time', 'distance', 'hour', 'minute'],\n",
              "      dtype='object')"
            ]
          },
          "metadata": {
            "tags": []
          },
          "execution_count": 6
        }
      ]
    },
    {
      "cell_type": "markdown",
      "metadata": {
        "id": "31zVt0duNal0"
      },
      "source": [
        "## 1.3  Step 3. Print last 5 rows of the dataset.\n"
      ]
    },
    {
      "cell_type": "code",
      "metadata": {
        "id": "fuNOxSoTNdE-",
        "outputId": "75bbd737-8cea-4f67-b5c8-a615d11fda1e",
        "colab": {
          "base_uri": "https://localhost:8080/",
          "height": 195
        }
      },
      "source": [],
      "execution_count": null,
      "outputs": [
        {
          "output_type": "execute_result",
          "data": {
            "text/html": [
              "<div>\n",
              "<style scoped>\n",
              "    .dataframe tbody tr th:only-of-type {\n",
              "        vertical-align: middle;\n",
              "    }\n",
              "\n",
              "    .dataframe tbody tr th {\n",
              "        vertical-align: top;\n",
              "    }\n",
              "\n",
              "    .dataframe thead th {\n",
              "        text-align: right;\n",
              "    }\n",
              "</style>\n",
              "<table border=\"1\" class=\"dataframe\">\n",
              "  <thead>\n",
              "    <tr style=\"text-align: right;\">\n",
              "      <th></th>\n",
              "      <th>year</th>\n",
              "      <th>month</th>\n",
              "      <th>day</th>\n",
              "      <th>dep_time</th>\n",
              "      <th>dep_delay</th>\n",
              "      <th>arr_time</th>\n",
              "      <th>arr_delay</th>\n",
              "      <th>carrier</th>\n",
              "      <th>tailnum</th>\n",
              "      <th>flight</th>\n",
              "      <th>origin</th>\n",
              "      <th>dest</th>\n",
              "      <th>air_time</th>\n",
              "      <th>distance</th>\n",
              "      <th>hour</th>\n",
              "      <th>minute</th>\n",
              "    </tr>\n",
              "  </thead>\n",
              "  <tbody>\n",
              "    <tr>\n",
              "      <th>162044</th>\n",
              "      <td>2014</td>\n",
              "      <td>9</td>\n",
              "      <td>30</td>\n",
              "      <td>2357.0</td>\n",
              "      <td>-2.0</td>\n",
              "      <td>545.0</td>\n",
              "      <td>-20.0</td>\n",
              "      <td>UA</td>\n",
              "      <td>N477UA</td>\n",
              "      <td>479</td>\n",
              "      <td>PDX</td>\n",
              "      <td>IAH</td>\n",
              "      <td>210.0</td>\n",
              "      <td>1825</td>\n",
              "      <td>23.0</td>\n",
              "      <td>57.0</td>\n",
              "    </tr>\n",
              "    <tr>\n",
              "      <th>162045</th>\n",
              "      <td>2014</td>\n",
              "      <td>9</td>\n",
              "      <td>30</td>\n",
              "      <td>2359.0</td>\n",
              "      <td>4.0</td>\n",
              "      <td>734.0</td>\n",
              "      <td>-1.0</td>\n",
              "      <td>DL</td>\n",
              "      <td>N137DL</td>\n",
              "      <td>1929</td>\n",
              "      <td>SEA</td>\n",
              "      <td>ATL</td>\n",
              "      <td>244.0</td>\n",
              "      <td>2182</td>\n",
              "      <td>23.0</td>\n",
              "      <td>59.0</td>\n",
              "    </tr>\n",
              "    <tr>\n",
              "      <th>162046</th>\n",
              "      <td>2014</td>\n",
              "      <td>9</td>\n",
              "      <td>30</td>\n",
              "      <td>NaN</td>\n",
              "      <td>NaN</td>\n",
              "      <td>NaN</td>\n",
              "      <td>NaN</td>\n",
              "      <td>AS</td>\n",
              "      <td>N530AS</td>\n",
              "      <td>470</td>\n",
              "      <td>SEA</td>\n",
              "      <td>SAN</td>\n",
              "      <td>NaN</td>\n",
              "      <td>1050</td>\n",
              "      <td>NaN</td>\n",
              "      <td>NaN</td>\n",
              "    </tr>\n",
              "    <tr>\n",
              "      <th>162047</th>\n",
              "      <td>2014</td>\n",
              "      <td>9</td>\n",
              "      <td>30</td>\n",
              "      <td>NaN</td>\n",
              "      <td>NaN</td>\n",
              "      <td>NaN</td>\n",
              "      <td>NaN</td>\n",
              "      <td>US</td>\n",
              "      <td>NaN</td>\n",
              "      <td>494</td>\n",
              "      <td>PDX</td>\n",
              "      <td>PHX</td>\n",
              "      <td>NaN</td>\n",
              "      <td>1009</td>\n",
              "      <td>NaN</td>\n",
              "      <td>NaN</td>\n",
              "    </tr>\n",
              "    <tr>\n",
              "      <th>162048</th>\n",
              "      <td>2014</td>\n",
              "      <td>9</td>\n",
              "      <td>30</td>\n",
              "      <td>NaN</td>\n",
              "      <td>NaN</td>\n",
              "      <td>NaN</td>\n",
              "      <td>NaN</td>\n",
              "      <td>WN</td>\n",
              "      <td>N790SW</td>\n",
              "      <td>427</td>\n",
              "      <td>SEA</td>\n",
              "      <td>SMF</td>\n",
              "      <td>NaN</td>\n",
              "      <td>605</td>\n",
              "      <td>NaN</td>\n",
              "      <td>NaN</td>\n",
              "    </tr>\n",
              "  </tbody>\n",
              "</table>\n",
              "</div>"
            ],
            "text/plain": [
              "        year  month  day  dep_time  ...  air_time  distance  hour minute\n",
              "162044  2014      9   30    2357.0  ...     210.0      1825  23.0   57.0\n",
              "162045  2014      9   30    2359.0  ...     244.0      2182  23.0   59.0\n",
              "162046  2014      9   30       NaN  ...       NaN      1050   NaN    NaN\n",
              "162047  2014      9   30       NaN  ...       NaN      1009   NaN    NaN\n",
              "162048  2014      9   30       NaN  ...       NaN       605   NaN    NaN\n",
              "\n",
              "[5 rows x 16 columns]"
            ]
          },
          "metadata": {
            "tags": []
          },
          "execution_count": 4
        }
      ]
    },
    {
      "cell_type": "markdown",
      "metadata": {
        "id": "xsp27cmONm6j"
      },
      "source": [
        "## 1.4  Step 4. Transpose the frame to see all columns at once\n",
        "\n",
        "    TIPS : google it : \"how to transpose pandas dataframe\""
      ]
    },
    {
      "cell_type": "code",
      "metadata": {
        "id": "eeh2G7jiNcg4",
        "outputId": "8442b1c0-5155-44fb-e1a9-563dcfd7ee9d",
        "colab": {
          "base_uri": "https://localhost:8080/",
          "height": 570
        }
      },
      "source": [],
      "execution_count": null,
      "outputs": [
        {
          "output_type": "execute_result",
          "data": {
            "text/html": [
              "<div>\n",
              "<style scoped>\n",
              "    .dataframe tbody tr th:only-of-type {\n",
              "        vertical-align: middle;\n",
              "    }\n",
              "\n",
              "    .dataframe tbody tr th {\n",
              "        vertical-align: top;\n",
              "    }\n",
              "\n",
              "    .dataframe thead th {\n",
              "        text-align: right;\n",
              "    }\n",
              "</style>\n",
              "<table border=\"1\" class=\"dataframe\">\n",
              "  <thead>\n",
              "    <tr style=\"text-align: right;\">\n",
              "      <th></th>\n",
              "      <th>0</th>\n",
              "      <th>1</th>\n",
              "      <th>2</th>\n",
              "      <th>3</th>\n",
              "      <th>4</th>\n",
              "      <th>5</th>\n",
              "      <th>6</th>\n",
              "      <th>7</th>\n",
              "      <th>8</th>\n",
              "      <th>9</th>\n",
              "      <th>10</th>\n",
              "      <th>11</th>\n",
              "      <th>12</th>\n",
              "      <th>13</th>\n",
              "      <th>14</th>\n",
              "      <th>15</th>\n",
              "      <th>16</th>\n",
              "      <th>17</th>\n",
              "      <th>18</th>\n",
              "      <th>19</th>\n",
              "      <th>20</th>\n",
              "      <th>21</th>\n",
              "      <th>22</th>\n",
              "      <th>23</th>\n",
              "      <th>24</th>\n",
              "      <th>25</th>\n",
              "      <th>26</th>\n",
              "      <th>27</th>\n",
              "      <th>28</th>\n",
              "      <th>29</th>\n",
              "      <th>30</th>\n",
              "      <th>31</th>\n",
              "      <th>32</th>\n",
              "      <th>33</th>\n",
              "      <th>34</th>\n",
              "      <th>35</th>\n",
              "      <th>36</th>\n",
              "      <th>37</th>\n",
              "      <th>38</th>\n",
              "      <th>39</th>\n",
              "      <th>...</th>\n",
              "      <th>162009</th>\n",
              "      <th>162010</th>\n",
              "      <th>162011</th>\n",
              "      <th>162012</th>\n",
              "      <th>162013</th>\n",
              "      <th>162014</th>\n",
              "      <th>162015</th>\n",
              "      <th>162016</th>\n",
              "      <th>162017</th>\n",
              "      <th>162018</th>\n",
              "      <th>162019</th>\n",
              "      <th>162020</th>\n",
              "      <th>162021</th>\n",
              "      <th>162022</th>\n",
              "      <th>162023</th>\n",
              "      <th>162024</th>\n",
              "      <th>162025</th>\n",
              "      <th>162026</th>\n",
              "      <th>162027</th>\n",
              "      <th>162028</th>\n",
              "      <th>162029</th>\n",
              "      <th>162030</th>\n",
              "      <th>162031</th>\n",
              "      <th>162032</th>\n",
              "      <th>162033</th>\n",
              "      <th>162034</th>\n",
              "      <th>162035</th>\n",
              "      <th>162036</th>\n",
              "      <th>162037</th>\n",
              "      <th>162038</th>\n",
              "      <th>162039</th>\n",
              "      <th>162040</th>\n",
              "      <th>162041</th>\n",
              "      <th>162042</th>\n",
              "      <th>162043</th>\n",
              "      <th>162044</th>\n",
              "      <th>162045</th>\n",
              "      <th>162046</th>\n",
              "      <th>162047</th>\n",
              "      <th>162048</th>\n",
              "    </tr>\n",
              "  </thead>\n",
              "  <tbody>\n",
              "    <tr>\n",
              "      <th>year</th>\n",
              "      <td>2014</td>\n",
              "      <td>2014</td>\n",
              "      <td>2014</td>\n",
              "      <td>2014</td>\n",
              "      <td>2014</td>\n",
              "      <td>2014</td>\n",
              "      <td>2014</td>\n",
              "      <td>2014</td>\n",
              "      <td>2014</td>\n",
              "      <td>2014</td>\n",
              "      <td>2014</td>\n",
              "      <td>2014</td>\n",
              "      <td>2014</td>\n",
              "      <td>2014</td>\n",
              "      <td>2014</td>\n",
              "      <td>2014</td>\n",
              "      <td>2014</td>\n",
              "      <td>2014</td>\n",
              "      <td>2014</td>\n",
              "      <td>2014</td>\n",
              "      <td>2014</td>\n",
              "      <td>2014</td>\n",
              "      <td>2014</td>\n",
              "      <td>2014</td>\n",
              "      <td>2014</td>\n",
              "      <td>2014</td>\n",
              "      <td>2014</td>\n",
              "      <td>2014</td>\n",
              "      <td>2014</td>\n",
              "      <td>2014</td>\n",
              "      <td>2014</td>\n",
              "      <td>2014</td>\n",
              "      <td>2014</td>\n",
              "      <td>2014</td>\n",
              "      <td>2014</td>\n",
              "      <td>2014</td>\n",
              "      <td>2014</td>\n",
              "      <td>2014</td>\n",
              "      <td>2014</td>\n",
              "      <td>2014</td>\n",
              "      <td>...</td>\n",
              "      <td>2014</td>\n",
              "      <td>2014</td>\n",
              "      <td>2014</td>\n",
              "      <td>2014</td>\n",
              "      <td>2014</td>\n",
              "      <td>2014</td>\n",
              "      <td>2014</td>\n",
              "      <td>2014</td>\n",
              "      <td>2014</td>\n",
              "      <td>2014</td>\n",
              "      <td>2014</td>\n",
              "      <td>2014</td>\n",
              "      <td>2014</td>\n",
              "      <td>2014</td>\n",
              "      <td>2014</td>\n",
              "      <td>2014</td>\n",
              "      <td>2014</td>\n",
              "      <td>2014</td>\n",
              "      <td>2014</td>\n",
              "      <td>2014</td>\n",
              "      <td>2014</td>\n",
              "      <td>2014</td>\n",
              "      <td>2014</td>\n",
              "      <td>2014</td>\n",
              "      <td>2014</td>\n",
              "      <td>2014</td>\n",
              "      <td>2014</td>\n",
              "      <td>2014</td>\n",
              "      <td>2014</td>\n",
              "      <td>2014</td>\n",
              "      <td>2014</td>\n",
              "      <td>2014</td>\n",
              "      <td>2014</td>\n",
              "      <td>2014</td>\n",
              "      <td>2014</td>\n",
              "      <td>2014</td>\n",
              "      <td>2014</td>\n",
              "      <td>2014</td>\n",
              "      <td>2014</td>\n",
              "      <td>2014</td>\n",
              "    </tr>\n",
              "    <tr>\n",
              "      <th>month</th>\n",
              "      <td>1</td>\n",
              "      <td>1</td>\n",
              "      <td>1</td>\n",
              "      <td>1</td>\n",
              "      <td>1</td>\n",
              "      <td>1</td>\n",
              "      <td>1</td>\n",
              "      <td>1</td>\n",
              "      <td>1</td>\n",
              "      <td>1</td>\n",
              "      <td>1</td>\n",
              "      <td>1</td>\n",
              "      <td>1</td>\n",
              "      <td>1</td>\n",
              "      <td>1</td>\n",
              "      <td>1</td>\n",
              "      <td>1</td>\n",
              "      <td>1</td>\n",
              "      <td>1</td>\n",
              "      <td>1</td>\n",
              "      <td>1</td>\n",
              "      <td>1</td>\n",
              "      <td>1</td>\n",
              "      <td>1</td>\n",
              "      <td>1</td>\n",
              "      <td>1</td>\n",
              "      <td>1</td>\n",
              "      <td>1</td>\n",
              "      <td>1</td>\n",
              "      <td>1</td>\n",
              "      <td>1</td>\n",
              "      <td>1</td>\n",
              "      <td>1</td>\n",
              "      <td>1</td>\n",
              "      <td>1</td>\n",
              "      <td>1</td>\n",
              "      <td>1</td>\n",
              "      <td>1</td>\n",
              "      <td>1</td>\n",
              "      <td>1</td>\n",
              "      <td>...</td>\n",
              "      <td>9</td>\n",
              "      <td>9</td>\n",
              "      <td>9</td>\n",
              "      <td>9</td>\n",
              "      <td>9</td>\n",
              "      <td>9</td>\n",
              "      <td>9</td>\n",
              "      <td>9</td>\n",
              "      <td>9</td>\n",
              "      <td>9</td>\n",
              "      <td>9</td>\n",
              "      <td>9</td>\n",
              "      <td>9</td>\n",
              "      <td>9</td>\n",
              "      <td>9</td>\n",
              "      <td>9</td>\n",
              "      <td>9</td>\n",
              "      <td>9</td>\n",
              "      <td>9</td>\n",
              "      <td>9</td>\n",
              "      <td>9</td>\n",
              "      <td>9</td>\n",
              "      <td>9</td>\n",
              "      <td>9</td>\n",
              "      <td>9</td>\n",
              "      <td>9</td>\n",
              "      <td>9</td>\n",
              "      <td>9</td>\n",
              "      <td>9</td>\n",
              "      <td>9</td>\n",
              "      <td>9</td>\n",
              "      <td>9</td>\n",
              "      <td>9</td>\n",
              "      <td>9</td>\n",
              "      <td>9</td>\n",
              "      <td>9</td>\n",
              "      <td>9</td>\n",
              "      <td>9</td>\n",
              "      <td>9</td>\n",
              "      <td>9</td>\n",
              "    </tr>\n",
              "    <tr>\n",
              "      <th>day</th>\n",
              "      <td>1</td>\n",
              "      <td>1</td>\n",
              "      <td>1</td>\n",
              "      <td>1</td>\n",
              "      <td>1</td>\n",
              "      <td>1</td>\n",
              "      <td>1</td>\n",
              "      <td>1</td>\n",
              "      <td>1</td>\n",
              "      <td>1</td>\n",
              "      <td>1</td>\n",
              "      <td>1</td>\n",
              "      <td>1</td>\n",
              "      <td>1</td>\n",
              "      <td>1</td>\n",
              "      <td>1</td>\n",
              "      <td>1</td>\n",
              "      <td>1</td>\n",
              "      <td>1</td>\n",
              "      <td>1</td>\n",
              "      <td>1</td>\n",
              "      <td>1</td>\n",
              "      <td>1</td>\n",
              "      <td>1</td>\n",
              "      <td>1</td>\n",
              "      <td>1</td>\n",
              "      <td>1</td>\n",
              "      <td>1</td>\n",
              "      <td>1</td>\n",
              "      <td>1</td>\n",
              "      <td>1</td>\n",
              "      <td>1</td>\n",
              "      <td>1</td>\n",
              "      <td>1</td>\n",
              "      <td>1</td>\n",
              "      <td>1</td>\n",
              "      <td>1</td>\n",
              "      <td>1</td>\n",
              "      <td>1</td>\n",
              "      <td>1</td>\n",
              "      <td>...</td>\n",
              "      <td>30</td>\n",
              "      <td>30</td>\n",
              "      <td>30</td>\n",
              "      <td>30</td>\n",
              "      <td>30</td>\n",
              "      <td>30</td>\n",
              "      <td>30</td>\n",
              "      <td>30</td>\n",
              "      <td>30</td>\n",
              "      <td>30</td>\n",
              "      <td>30</td>\n",
              "      <td>30</td>\n",
              "      <td>30</td>\n",
              "      <td>30</td>\n",
              "      <td>30</td>\n",
              "      <td>30</td>\n",
              "      <td>30</td>\n",
              "      <td>30</td>\n",
              "      <td>30</td>\n",
              "      <td>30</td>\n",
              "      <td>30</td>\n",
              "      <td>30</td>\n",
              "      <td>30</td>\n",
              "      <td>30</td>\n",
              "      <td>30</td>\n",
              "      <td>30</td>\n",
              "      <td>30</td>\n",
              "      <td>30</td>\n",
              "      <td>30</td>\n",
              "      <td>30</td>\n",
              "      <td>30</td>\n",
              "      <td>30</td>\n",
              "      <td>30</td>\n",
              "      <td>30</td>\n",
              "      <td>30</td>\n",
              "      <td>30</td>\n",
              "      <td>30</td>\n",
              "      <td>30</td>\n",
              "      <td>30</td>\n",
              "      <td>30</td>\n",
              "    </tr>\n",
              "    <tr>\n",
              "      <th>dep_time</th>\n",
              "      <td>1</td>\n",
              "      <td>4</td>\n",
              "      <td>8</td>\n",
              "      <td>28</td>\n",
              "      <td>34</td>\n",
              "      <td>37</td>\n",
              "      <td>346</td>\n",
              "      <td>526</td>\n",
              "      <td>527</td>\n",
              "      <td>536</td>\n",
              "      <td>541</td>\n",
              "      <td>549</td>\n",
              "      <td>550</td>\n",
              "      <td>557</td>\n",
              "      <td>557</td>\n",
              "      <td>558</td>\n",
              "      <td>559</td>\n",
              "      <td>600</td>\n",
              "      <td>600</td>\n",
              "      <td>602</td>\n",
              "      <td>602</td>\n",
              "      <td>603</td>\n",
              "      <td>603</td>\n",
              "      <td>606</td>\n",
              "      <td>606</td>\n",
              "      <td>614</td>\n",
              "      <td>617</td>\n",
              "      <td>618</td>\n",
              "      <td>619</td>\n",
              "      <td>620</td>\n",
              "      <td>622</td>\n",
              "      <td>623</td>\n",
              "      <td>624</td>\n",
              "      <td>629</td>\n",
              "      <td>630</td>\n",
              "      <td>632</td>\n",
              "      <td>637</td>\n",
              "      <td>637</td>\n",
              "      <td>638</td>\n",
              "      <td>638</td>\n",
              "      <td>...</td>\n",
              "      <td>2030</td>\n",
              "      <td>2034</td>\n",
              "      <td>2035</td>\n",
              "      <td>2044</td>\n",
              "      <td>2045</td>\n",
              "      <td>2050</td>\n",
              "      <td>2059</td>\n",
              "      <td>2102</td>\n",
              "      <td>2107</td>\n",
              "      <td>2114</td>\n",
              "      <td>2115</td>\n",
              "      <td>2119</td>\n",
              "      <td>2127</td>\n",
              "      <td>2130</td>\n",
              "      <td>2139</td>\n",
              "      <td>2157</td>\n",
              "      <td>2209</td>\n",
              "      <td>2225</td>\n",
              "      <td>2228</td>\n",
              "      <td>2239</td>\n",
              "      <td>2244</td>\n",
              "      <td>2245</td>\n",
              "      <td>2245</td>\n",
              "      <td>2248</td>\n",
              "      <td>2255</td>\n",
              "      <td>2257</td>\n",
              "      <td>2303</td>\n",
              "      <td>2317</td>\n",
              "      <td>2320</td>\n",
              "      <td>2325</td>\n",
              "      <td>2326</td>\n",
              "      <td>2336</td>\n",
              "      <td>2344</td>\n",
              "      <td>2347</td>\n",
              "      <td>2349</td>\n",
              "      <td>2357</td>\n",
              "      <td>2359</td>\n",
              "      <td>NaN</td>\n",
              "      <td>NaN</td>\n",
              "      <td>NaN</td>\n",
              "    </tr>\n",
              "    <tr>\n",
              "      <th>dep_delay</th>\n",
              "      <td>96</td>\n",
              "      <td>-6</td>\n",
              "      <td>13</td>\n",
              "      <td>-2</td>\n",
              "      <td>44</td>\n",
              "      <td>82</td>\n",
              "      <td>227</td>\n",
              "      <td>-4</td>\n",
              "      <td>7</td>\n",
              "      <td>1</td>\n",
              "      <td>1</td>\n",
              "      <td>24</td>\n",
              "      <td>0</td>\n",
              "      <td>-3</td>\n",
              "      <td>-3</td>\n",
              "      <td>-2</td>\n",
              "      <td>-1</td>\n",
              "      <td>0</td>\n",
              "      <td>-10</td>\n",
              "      <td>-3</td>\n",
              "      <td>-3</td>\n",
              "      <td>-2</td>\n",
              "      <td>-3</td>\n",
              "      <td>-4</td>\n",
              "      <td>6</td>\n",
              "      <td>-1</td>\n",
              "      <td>2</td>\n",
              "      <td>-2</td>\n",
              "      <td>-6</td>\n",
              "      <td>-2</td>\n",
              "      <td>2</td>\n",
              "      <td>13</td>\n",
              "      <td>-6</td>\n",
              "      <td>-9</td>\n",
              "      <td>-10</td>\n",
              "      <td>-3</td>\n",
              "      <td>-8</td>\n",
              "      <td>-3</td>\n",
              "      <td>-2</td>\n",
              "      <td>10</td>\n",
              "      <td>...</td>\n",
              "      <td>0</td>\n",
              "      <td>-6</td>\n",
              "      <td>-10</td>\n",
              "      <td>-6</td>\n",
              "      <td>0</td>\n",
              "      <td>-10</td>\n",
              "      <td>44</td>\n",
              "      <td>-3</td>\n",
              "      <td>-2</td>\n",
              "      <td>-11</td>\n",
              "      <td>0</td>\n",
              "      <td>-11</td>\n",
              "      <td>-3</td>\n",
              "      <td>-14</td>\n",
              "      <td>-1</td>\n",
              "      <td>-2</td>\n",
              "      <td>-1</td>\n",
              "      <td>-10</td>\n",
              "      <td>-2</td>\n",
              "      <td>-1</td>\n",
              "      <td>-6</td>\n",
              "      <td>0</td>\n",
              "      <td>-2</td>\n",
              "      <td>0</td>\n",
              "      <td>-5</td>\n",
              "      <td>-3</td>\n",
              "      <td>-7</td>\n",
              "      <td>-3</td>\n",
              "      <td>20</td>\n",
              "      <td>0</td>\n",
              "      <td>-4</td>\n",
              "      <td>124</td>\n",
              "      <td>-1</td>\n",
              "      <td>-3</td>\n",
              "      <td>-1</td>\n",
              "      <td>-2</td>\n",
              "      <td>4</td>\n",
              "      <td>NaN</td>\n",
              "      <td>NaN</td>\n",
              "      <td>NaN</td>\n",
              "    </tr>\n",
              "    <tr>\n",
              "      <th>arr_time</th>\n",
              "      <td>235</td>\n",
              "      <td>738</td>\n",
              "      <td>548</td>\n",
              "      <td>800</td>\n",
              "      <td>325</td>\n",
              "      <td>747</td>\n",
              "      <td>936</td>\n",
              "      <td>1148</td>\n",
              "      <td>917</td>\n",
              "      <td>1334</td>\n",
              "      <td>911</td>\n",
              "      <td>907</td>\n",
              "      <td>837</td>\n",
              "      <td>1134</td>\n",
              "      <td>825</td>\n",
              "      <td>801</td>\n",
              "      <td>916</td>\n",
              "      <td>1151</td>\n",
              "      <td>842</td>\n",
              "      <td>943</td>\n",
              "      <td>1204</td>\n",
              "      <td>755</td>\n",
              "      <td>1202</td>\n",
              "      <td>806</td>\n",
              "      <td>746</td>\n",
              "      <td>850</td>\n",
              "      <td>850</td>\n",
              "      <td>1135</td>\n",
              "      <td>822</td>\n",
              "      <td>905</td>\n",
              "      <td>1412</td>\n",
              "      <td>1218</td>\n",
              "      <td>1401</td>\n",
              "      <td>1014</td>\n",
              "      <td>834</td>\n",
              "      <td>1235</td>\n",
              "      <td>858</td>\n",
              "      <td>854</td>\n",
              "      <td>1003</td>\n",
              "      <td>1408</td>\n",
              "      <td>...</td>\n",
              "      <td>2249</td>\n",
              "      <td>2308</td>\n",
              "      <td>2238</td>\n",
              "      <td>2242</td>\n",
              "      <td>2345</td>\n",
              "      <td>2234</td>\n",
              "      <td>2303</td>\n",
              "      <td>2218</td>\n",
              "      <td>524</td>\n",
              "      <td>2301</td>\n",
              "      <td>2200</td>\n",
              "      <td>546</td>\n",
              "      <td>29</td>\n",
              "      <td>551</td>\n",
              "      <td>2228</td>\n",
              "      <td>616</td>\n",
              "      <td>607</td>\n",
              "      <td>124</td>\n",
              "      <td>2311</td>\n",
              "      <td>435</td>\n",
              "      <td>711</td>\n",
              "      <td>652</td>\n",
              "      <td>607</td>\n",
              "      <td>433</td>\n",
              "      <td>145</td>\n",
              "      <td>604</td>\n",
              "      <td>200</td>\n",
              "      <td>732</td>\n",
              "      <td>10</td>\n",
              "      <td>446</td>\n",
              "      <td>513</td>\n",
              "      <td>729</td>\n",
              "      <td>527</td>\n",
              "      <td>229</td>\n",
              "      <td>514</td>\n",
              "      <td>545</td>\n",
              "      <td>734</td>\n",
              "      <td>NaN</td>\n",
              "      <td>NaN</td>\n",
              "      <td>NaN</td>\n",
              "    </tr>\n",
              "    <tr>\n",
              "      <th>arr_delay</th>\n",
              "      <td>70</td>\n",
              "      <td>-23</td>\n",
              "      <td>-4</td>\n",
              "      <td>-23</td>\n",
              "      <td>43</td>\n",
              "      <td>88</td>\n",
              "      <td>219</td>\n",
              "      <td>15</td>\n",
              "      <td>24</td>\n",
              "      <td>-6</td>\n",
              "      <td>4</td>\n",
              "      <td>12</td>\n",
              "      <td>-12</td>\n",
              "      <td>-16</td>\n",
              "      <td>-25</td>\n",
              "      <td>-2</td>\n",
              "      <td>-9</td>\n",
              "      <td>-19</td>\n",
              "      <td>-8</td>\n",
              "      <td>5</td>\n",
              "      <td>7</td>\n",
              "      <td>-17</td>\n",
              "      <td>-2</td>\n",
              "      <td>-19</td>\n",
              "      <td>3</td>\n",
              "      <td>-2</td>\n",
              "      <td>-12</td>\n",
              "      <td>-30</td>\n",
              "      <td>-7</td>\n",
              "      <td>0</td>\n",
              "      <td>-19</td>\n",
              "      <td>-4</td>\n",
              "      <td>-6</td>\n",
              "      <td>-1</td>\n",
              "      <td>-14</td>\n",
              "      <td>5</td>\n",
              "      <td>-7</td>\n",
              "      <td>-6</td>\n",
              "      <td>-5</td>\n",
              "      <td>-4</td>\n",
              "      <td>...</td>\n",
              "      <td>-9</td>\n",
              "      <td>-6</td>\n",
              "      <td>-21</td>\n",
              "      <td>-16</td>\n",
              "      <td>11</td>\n",
              "      <td>-21</td>\n",
              "      <td>22</td>\n",
              "      <td>-12</td>\n",
              "      <td>9</td>\n",
              "      <td>-14</td>\n",
              "      <td>-7</td>\n",
              "      <td>8</td>\n",
              "      <td>18</td>\n",
              "      <td>0</td>\n",
              "      <td>-10</td>\n",
              "      <td>2</td>\n",
              "      <td>9</td>\n",
              "      <td>-3</td>\n",
              "      <td>-7</td>\n",
              "      <td>-25</td>\n",
              "      <td>12</td>\n",
              "      <td>27</td>\n",
              "      <td>-15</td>\n",
              "      <td>-5</td>\n",
              "      <td>7</td>\n",
              "      <td>-9</td>\n",
              "      <td>0</td>\n",
              "      <td>19</td>\n",
              "      <td>16</td>\n",
              "      <td>-19</td>\n",
              "      <td>-5</td>\n",
              "      <td>116</td>\n",
              "      <td>-5</td>\n",
              "      <td>-2</td>\n",
              "      <td>-19</td>\n",
              "      <td>-20</td>\n",
              "      <td>-1</td>\n",
              "      <td>NaN</td>\n",
              "      <td>NaN</td>\n",
              "      <td>NaN</td>\n",
              "    </tr>\n",
              "    <tr>\n",
              "      <th>carrier</th>\n",
              "      <td>AS</td>\n",
              "      <td>US</td>\n",
              "      <td>UA</td>\n",
              "      <td>US</td>\n",
              "      <td>AS</td>\n",
              "      <td>DL</td>\n",
              "      <td>UA</td>\n",
              "      <td>UA</td>\n",
              "      <td>UA</td>\n",
              "      <td>UA</td>\n",
              "      <td>UA</td>\n",
              "      <td>US</td>\n",
              "      <td>DL</td>\n",
              "      <td>AA</td>\n",
              "      <td>AS</td>\n",
              "      <td>AS</td>\n",
              "      <td>F9</td>\n",
              "      <td>AA</td>\n",
              "      <td>AS</td>\n",
              "      <td>F9</td>\n",
              "      <td>UA</td>\n",
              "      <td>AS</td>\n",
              "      <td>UA</td>\n",
              "      <td>AS</td>\n",
              "      <td>AS</td>\n",
              "      <td>AS</td>\n",
              "      <td>AS</td>\n",
              "      <td>AA</td>\n",
              "      <td>VX</td>\n",
              "      <td>OO</td>\n",
              "      <td>UA</td>\n",
              "      <td>UA</td>\n",
              "      <td>DL</td>\n",
              "      <td>UA</td>\n",
              "      <td>OO</td>\n",
              "      <td>WN</td>\n",
              "      <td>AS</td>\n",
              "      <td>AS</td>\n",
              "      <td>AS</td>\n",
              "      <td>UA</td>\n",
              "      <td>...</td>\n",
              "      <td>AS</td>\n",
              "      <td>AS</td>\n",
              "      <td>AS</td>\n",
              "      <td>AS</td>\n",
              "      <td>AS</td>\n",
              "      <td>AS</td>\n",
              "      <td>OO</td>\n",
              "      <td>WN</td>\n",
              "      <td>B6</td>\n",
              "      <td>AS</td>\n",
              "      <td>OO</td>\n",
              "      <td>B6</td>\n",
              "      <td>AS</td>\n",
              "      <td>UA</td>\n",
              "      <td>AS</td>\n",
              "      <td>DL</td>\n",
              "      <td>US</td>\n",
              "      <td>AS</td>\n",
              "      <td>AS</td>\n",
              "      <td>UA</td>\n",
              "      <td>B6</td>\n",
              "      <td>DL</td>\n",
              "      <td>DL</td>\n",
              "      <td>UA</td>\n",
              "      <td>AS</td>\n",
              "      <td>DL</td>\n",
              "      <td>AS</td>\n",
              "      <td>UA</td>\n",
              "      <td>AS</td>\n",
              "      <td>AA</td>\n",
              "      <td>UA</td>\n",
              "      <td>UA</td>\n",
              "      <td>UA</td>\n",
              "      <td>AS</td>\n",
              "      <td>AS</td>\n",
              "      <td>UA</td>\n",
              "      <td>DL</td>\n",
              "      <td>AS</td>\n",
              "      <td>US</td>\n",
              "      <td>WN</td>\n",
              "    </tr>\n",
              "    <tr>\n",
              "      <th>tailnum</th>\n",
              "      <td>N508AS</td>\n",
              "      <td>N195UW</td>\n",
              "      <td>N37422</td>\n",
              "      <td>N547UW</td>\n",
              "      <td>N762AS</td>\n",
              "      <td>N806DN</td>\n",
              "      <td>N14219</td>\n",
              "      <td>N813UA</td>\n",
              "      <td>N75433</td>\n",
              "      <td>N574UA</td>\n",
              "      <td>N36476</td>\n",
              "      <td>N548UW</td>\n",
              "      <td>N660DL</td>\n",
              "      <td>N3JLAA</td>\n",
              "      <td>N562AS</td>\n",
              "      <td>N402AS</td>\n",
              "      <td>N210FR</td>\n",
              "      <td>N3JFAA</td>\n",
              "      <td>N786AS</td>\n",
              "      <td>N201FR</td>\n",
              "      <td>N77295</td>\n",
              "      <td>N577AS</td>\n",
              "      <td>N37290</td>\n",
              "      <td>N525AS</td>\n",
              "      <td>N796AS</td>\n",
              "      <td>N607AS</td>\n",
              "      <td>N579AS</td>\n",
              "      <td>N4XMAA</td>\n",
              "      <td>N841VA</td>\n",
              "      <td>N804SK</td>\n",
              "      <td>N36472</td>\n",
              "      <td>N72405</td>\n",
              "      <td>N617DL</td>\n",
              "      <td>N566UA</td>\n",
              "      <td>N219AG</td>\n",
              "      <td>N8302F</td>\n",
              "      <td>N408AS</td>\n",
              "      <td>N588AS</td>\n",
              "      <td>N508AS</td>\n",
              "      <td>N526UA</td>\n",
              "      <td>...</td>\n",
              "      <td>N587AS</td>\n",
              "      <td>N622AS</td>\n",
              "      <td>N791AS</td>\n",
              "      <td>N590AS</td>\n",
              "      <td>N462AS</td>\n",
              "      <td>N469AS</td>\n",
              "      <td>N816SK</td>\n",
              "      <td>N7735A</td>\n",
              "      <td>N804JB</td>\n",
              "      <td>N527AS</td>\n",
              "      <td>N810SK</td>\n",
              "      <td>N526JB</td>\n",
              "      <td>N317AS</td>\n",
              "      <td>N462UA</td>\n",
              "      <td>N799AS</td>\n",
              "      <td>N655DL</td>\n",
              "      <td>N199UW</td>\n",
              "      <td>N461AS</td>\n",
              "      <td>N583AS</td>\n",
              "      <td>N37408</td>\n",
              "      <td>N523JB</td>\n",
              "      <td>N130DL</td>\n",
              "      <td>N6716C</td>\n",
              "      <td>N18223</td>\n",
              "      <td>N318AS</td>\n",
              "      <td>N374DA</td>\n",
              "      <td>N618AS</td>\n",
              "      <td>N27421</td>\n",
              "      <td>N713AS</td>\n",
              "      <td>N3JKAA</td>\n",
              "      <td>N38473</td>\n",
              "      <td>N38443</td>\n",
              "      <td>N33286</td>\n",
              "      <td>N763AS</td>\n",
              "      <td>N409AS</td>\n",
              "      <td>N477UA</td>\n",
              "      <td>N137DL</td>\n",
              "      <td>N530AS</td>\n",
              "      <td>NaN</td>\n",
              "      <td>N790SW</td>\n",
              "    </tr>\n",
              "    <tr>\n",
              "      <th>flight</th>\n",
              "      <td>145</td>\n",
              "      <td>1830</td>\n",
              "      <td>1609</td>\n",
              "      <td>466</td>\n",
              "      <td>121</td>\n",
              "      <td>1823</td>\n",
              "      <td>1481</td>\n",
              "      <td>229</td>\n",
              "      <td>1576</td>\n",
              "      <td>478</td>\n",
              "      <td>1569</td>\n",
              "      <td>649</td>\n",
              "      <td>1634</td>\n",
              "      <td>1094</td>\n",
              "      <td>81</td>\n",
              "      <td>200</td>\n",
              "      <td>796</td>\n",
              "      <td>2240</td>\n",
              "      <td>426</td>\n",
              "      <td>144</td>\n",
              "      <td>1573</td>\n",
              "      <td>344</td>\n",
              "      <td>1136</td>\n",
              "      <td>308</td>\n",
              "      <td>406</td>\n",
              "      <td>524</td>\n",
              "      <td>494</td>\n",
              "      <td>1650</td>\n",
              "      <td>751</td>\n",
              "      <td>4693</td>\n",
              "      <td>1021</td>\n",
              "      <td>1101</td>\n",
              "      <td>968</td>\n",
              "      <td>883</td>\n",
              "      <td>3456</td>\n",
              "      <td>3694</td>\n",
              "      <td>560</td>\n",
              "      <td>572</td>\n",
              "      <td>646</td>\n",
              "      <td>250</td>\n",
              "      <td>...</td>\n",
              "      <td>458</td>\n",
              "      <td>636</td>\n",
              "      <td>566</td>\n",
              "      <td>624</td>\n",
              "      <td>141</td>\n",
              "      <td>350</td>\n",
              "      <td>4789</td>\n",
              "      <td>4816</td>\n",
              "      <td>1206</td>\n",
              "      <td>384</td>\n",
              "      <td>4612</td>\n",
              "      <td>264</td>\n",
              "      <td>731</td>\n",
              "      <td>554</td>\n",
              "      <td>694</td>\n",
              "      <td>1542</td>\n",
              "      <td>624</td>\n",
              "      <td>143</td>\n",
              "      <td>412</td>\n",
              "      <td>1129</td>\n",
              "      <td>498</td>\n",
              "      <td>1629</td>\n",
              "      <td>2497</td>\n",
              "      <td>1167</td>\n",
              "      <td>119</td>\n",
              "      <td>761</td>\n",
              "      <td>127</td>\n",
              "      <td>1246</td>\n",
              "      <td>698</td>\n",
              "      <td>1230</td>\n",
              "      <td>1538</td>\n",
              "      <td>1695</td>\n",
              "      <td>1215</td>\n",
              "      <td>121</td>\n",
              "      <td>660</td>\n",
              "      <td>479</td>\n",
              "      <td>1929</td>\n",
              "      <td>470</td>\n",
              "      <td>494</td>\n",
              "      <td>427</td>\n",
              "    </tr>\n",
              "    <tr>\n",
              "      <th>origin</th>\n",
              "      <td>PDX</td>\n",
              "      <td>SEA</td>\n",
              "      <td>PDX</td>\n",
              "      <td>PDX</td>\n",
              "      <td>SEA</td>\n",
              "      <td>SEA</td>\n",
              "      <td>SEA</td>\n",
              "      <td>PDX</td>\n",
              "      <td>SEA</td>\n",
              "      <td>SEA</td>\n",
              "      <td>PDX</td>\n",
              "      <td>PDX</td>\n",
              "      <td>SEA</td>\n",
              "      <td>SEA</td>\n",
              "      <td>SEA</td>\n",
              "      <td>SEA</td>\n",
              "      <td>PDX</td>\n",
              "      <td>SEA</td>\n",
              "      <td>SEA</td>\n",
              "      <td>SEA</td>\n",
              "      <td>PDX</td>\n",
              "      <td>SEA</td>\n",
              "      <td>SEA</td>\n",
              "      <td>SEA</td>\n",
              "      <td>PDX</td>\n",
              "      <td>SEA</td>\n",
              "      <td>SEA</td>\n",
              "      <td>PDX</td>\n",
              "      <td>SEA</td>\n",
              "      <td>SEA</td>\n",
              "      <td>PDX</td>\n",
              "      <td>SEA</td>\n",
              "      <td>SEA</td>\n",
              "      <td>SEA</td>\n",
              "      <td>PDX</td>\n",
              "      <td>SEA</td>\n",
              "      <td>PDX</td>\n",
              "      <td>PDX</td>\n",
              "      <td>PDX</td>\n",
              "      <td>PDX</td>\n",
              "      <td>...</td>\n",
              "      <td>SEA</td>\n",
              "      <td>SEA</td>\n",
              "      <td>PDX</td>\n",
              "      <td>PDX</td>\n",
              "      <td>SEA</td>\n",
              "      <td>SEA</td>\n",
              "      <td>SEA</td>\n",
              "      <td>PDX</td>\n",
              "      <td>PDX</td>\n",
              "      <td>PDX</td>\n",
              "      <td>SEA</td>\n",
              "      <td>SEA</td>\n",
              "      <td>SEA</td>\n",
              "      <td>PDX</td>\n",
              "      <td>SEA</td>\n",
              "      <td>SEA</td>\n",
              "      <td>SEA</td>\n",
              "      <td>PDX</td>\n",
              "      <td>SEA</td>\n",
              "      <td>SEA</td>\n",
              "      <td>SEA</td>\n",
              "      <td>SEA</td>\n",
              "      <td>PDX</td>\n",
              "      <td>SEA</td>\n",
              "      <td>SEA</td>\n",
              "      <td>SEA</td>\n",
              "      <td>SEA</td>\n",
              "      <td>SEA</td>\n",
              "      <td>SEA</td>\n",
              "      <td>SEA</td>\n",
              "      <td>PDX</td>\n",
              "      <td>SEA</td>\n",
              "      <td>SEA</td>\n",
              "      <td>SEA</td>\n",
              "      <td>SEA</td>\n",
              "      <td>PDX</td>\n",
              "      <td>SEA</td>\n",
              "      <td>SEA</td>\n",
              "      <td>PDX</td>\n",
              "      <td>SEA</td>\n",
              "    </tr>\n",
              "    <tr>\n",
              "      <th>dest</th>\n",
              "      <td>ANC</td>\n",
              "      <td>CLT</td>\n",
              "      <td>IAH</td>\n",
              "      <td>CLT</td>\n",
              "      <td>ANC</td>\n",
              "      <td>DTW</td>\n",
              "      <td>ORD</td>\n",
              "      <td>IAH</td>\n",
              "      <td>DEN</td>\n",
              "      <td>EWR</td>\n",
              "      <td>DEN</td>\n",
              "      <td>PHX</td>\n",
              "      <td>SLC</td>\n",
              "      <td>DFW</td>\n",
              "      <td>ANC</td>\n",
              "      <td>SJC</td>\n",
              "      <td>DEN</td>\n",
              "      <td>ORD</td>\n",
              "      <td>LAX</td>\n",
              "      <td>DEN</td>\n",
              "      <td>ORD</td>\n",
              "      <td>OAK</td>\n",
              "      <td>ORD</td>\n",
              "      <td>SFO</td>\n",
              "      <td>SJC</td>\n",
              "      <td>SNA</td>\n",
              "      <td>SAN</td>\n",
              "      <td>DFW</td>\n",
              "      <td>SFO</td>\n",
              "      <td>LAX</td>\n",
              "      <td>EWR</td>\n",
              "      <td>IAH</td>\n",
              "      <td>ATL</td>\n",
              "      <td>DEN</td>\n",
              "      <td>BUR</td>\n",
              "      <td>MDW</td>\n",
              "      <td>LAX</td>\n",
              "      <td>SAN</td>\n",
              "      <td>PHX</td>\n",
              "      <td>IAD</td>\n",
              "      <td>...</td>\n",
              "      <td>LAX</td>\n",
              "      <td>PHX</td>\n",
              "      <td>LAX</td>\n",
              "      <td>LAS</td>\n",
              "      <td>ANC</td>\n",
              "      <td>OAK</td>\n",
              "      <td>LAS</td>\n",
              "      <td>SMF</td>\n",
              "      <td>JFK</td>\n",
              "      <td>SFO</td>\n",
              "      <td>PDX</td>\n",
              "      <td>JFK</td>\n",
              "      <td>ANC</td>\n",
              "      <td>EWR</td>\n",
              "      <td>GEG</td>\n",
              "      <td>JFK</td>\n",
              "      <td>CLT</td>\n",
              "      <td>ANC</td>\n",
              "      <td>PDX</td>\n",
              "      <td>IAH</td>\n",
              "      <td>BOS</td>\n",
              "      <td>ATL</td>\n",
              "      <td>ATL</td>\n",
              "      <td>ORD</td>\n",
              "      <td>ANC</td>\n",
              "      <td>DTW</td>\n",
              "      <td>FAI</td>\n",
              "      <td>IAD</td>\n",
              "      <td>GEG</td>\n",
              "      <td>DFW</td>\n",
              "      <td>ORD</td>\n",
              "      <td>EWR</td>\n",
              "      <td>ORD</td>\n",
              "      <td>ANC</td>\n",
              "      <td>DFW</td>\n",
              "      <td>IAH</td>\n",
              "      <td>ATL</td>\n",
              "      <td>SAN</td>\n",
              "      <td>PHX</td>\n",
              "      <td>SMF</td>\n",
              "    </tr>\n",
              "    <tr>\n",
              "      <th>air_time</th>\n",
              "      <td>194</td>\n",
              "      <td>252</td>\n",
              "      <td>201</td>\n",
              "      <td>251</td>\n",
              "      <td>201</td>\n",
              "      <td>224</td>\n",
              "      <td>202</td>\n",
              "      <td>217</td>\n",
              "      <td>136</td>\n",
              "      <td>268</td>\n",
              "      <td>130</td>\n",
              "      <td>122</td>\n",
              "      <td>82</td>\n",
              "      <td>184</td>\n",
              "      <td>188</td>\n",
              "      <td>100</td>\n",
              "      <td>125</td>\n",
              "      <td>206</td>\n",
              "      <td>125</td>\n",
              "      <td>129</td>\n",
              "      <td>203</td>\n",
              "      <td>94</td>\n",
              "      <td>203</td>\n",
              "      <td>98</td>\n",
              "      <td>87</td>\n",
              "      <td>135</td>\n",
              "      <td>131</td>\n",
              "      <td>184</td>\n",
              "      <td>101</td>\n",
              "      <td>125</td>\n",
              "      <td>270</td>\n",
              "      <td>213</td>\n",
              "      <td>235</td>\n",
              "      <td>132</td>\n",
              "      <td>105</td>\n",
              "      <td>204</td>\n",
              "      <td>108</td>\n",
              "      <td>120</td>\n",
              "      <td>125</td>\n",
              "      <td>253</td>\n",
              "      <td>...</td>\n",
              "      <td>119</td>\n",
              "      <td>137</td>\n",
              "      <td>107</td>\n",
              "      <td>102</td>\n",
              "      <td>222</td>\n",
              "      <td>87</td>\n",
              "      <td>104</td>\n",
              "      <td>61</td>\n",
              "      <td>300</td>\n",
              "      <td>73</td>\n",
              "      <td>30</td>\n",
              "      <td>301</td>\n",
              "      <td>226</td>\n",
              "      <td>298</td>\n",
              "      <td>36</td>\n",
              "      <td>300</td>\n",
              "      <td>280</td>\n",
              "      <td>226</td>\n",
              "      <td>31</td>\n",
              "      <td>212</td>\n",
              "      <td>304</td>\n",
              "      <td>247</td>\n",
              "      <td>246</td>\n",
              "      <td>209</td>\n",
              "      <td>209</td>\n",
              "      <td>230</td>\n",
              "      <td>215</td>\n",
              "      <td>293</td>\n",
              "      <td>36</td>\n",
              "      <td>187</td>\n",
              "      <td>209</td>\n",
              "      <td>277</td>\n",
              "      <td>203</td>\n",
              "      <td>209</td>\n",
              "      <td>188</td>\n",
              "      <td>210</td>\n",
              "      <td>244</td>\n",
              "      <td>NaN</td>\n",
              "      <td>NaN</td>\n",
              "      <td>NaN</td>\n",
              "    </tr>\n",
              "    <tr>\n",
              "      <th>distance</th>\n",
              "      <td>1542</td>\n",
              "      <td>2279</td>\n",
              "      <td>1825</td>\n",
              "      <td>2282</td>\n",
              "      <td>1448</td>\n",
              "      <td>1927</td>\n",
              "      <td>1721</td>\n",
              "      <td>1825</td>\n",
              "      <td>1024</td>\n",
              "      <td>2402</td>\n",
              "      <td>991</td>\n",
              "      <td>1009</td>\n",
              "      <td>689</td>\n",
              "      <td>1660</td>\n",
              "      <td>1448</td>\n",
              "      <td>697</td>\n",
              "      <td>991</td>\n",
              "      <td>1721</td>\n",
              "      <td>954</td>\n",
              "      <td>1024</td>\n",
              "      <td>1739</td>\n",
              "      <td>672</td>\n",
              "      <td>1721</td>\n",
              "      <td>679</td>\n",
              "      <td>569</td>\n",
              "      <td>978</td>\n",
              "      <td>1050</td>\n",
              "      <td>1616</td>\n",
              "      <td>679</td>\n",
              "      <td>954</td>\n",
              "      <td>2434</td>\n",
              "      <td>1874</td>\n",
              "      <td>2182</td>\n",
              "      <td>1024</td>\n",
              "      <td>817</td>\n",
              "      <td>1733</td>\n",
              "      <td>834</td>\n",
              "      <td>933</td>\n",
              "      <td>1009</td>\n",
              "      <td>2327</td>\n",
              "      <td>...</td>\n",
              "      <td>954</td>\n",
              "      <td>1107</td>\n",
              "      <td>834</td>\n",
              "      <td>763</td>\n",
              "      <td>1448</td>\n",
              "      <td>671</td>\n",
              "      <td>867</td>\n",
              "      <td>479</td>\n",
              "      <td>2454</td>\n",
              "      <td>550</td>\n",
              "      <td>129</td>\n",
              "      <td>2422</td>\n",
              "      <td>1448</td>\n",
              "      <td>2434</td>\n",
              "      <td>224</td>\n",
              "      <td>2422</td>\n",
              "      <td>2279</td>\n",
              "      <td>1542</td>\n",
              "      <td>129</td>\n",
              "      <td>1874</td>\n",
              "      <td>2496</td>\n",
              "      <td>2182</td>\n",
              "      <td>2172</td>\n",
              "      <td>1721</td>\n",
              "      <td>1448</td>\n",
              "      <td>1927</td>\n",
              "      <td>1533</td>\n",
              "      <td>2306</td>\n",
              "      <td>224</td>\n",
              "      <td>1660</td>\n",
              "      <td>1739</td>\n",
              "      <td>2402</td>\n",
              "      <td>1721</td>\n",
              "      <td>1448</td>\n",
              "      <td>1660</td>\n",
              "      <td>1825</td>\n",
              "      <td>2182</td>\n",
              "      <td>1050</td>\n",
              "      <td>1009</td>\n",
              "      <td>605</td>\n",
              "    </tr>\n",
              "    <tr>\n",
              "      <th>hour</th>\n",
              "      <td>0</td>\n",
              "      <td>0</td>\n",
              "      <td>0</td>\n",
              "      <td>0</td>\n",
              "      <td>0</td>\n",
              "      <td>0</td>\n",
              "      <td>3</td>\n",
              "      <td>5</td>\n",
              "      <td>5</td>\n",
              "      <td>5</td>\n",
              "      <td>5</td>\n",
              "      <td>5</td>\n",
              "      <td>5</td>\n",
              "      <td>5</td>\n",
              "      <td>5</td>\n",
              "      <td>5</td>\n",
              "      <td>5</td>\n",
              "      <td>6</td>\n",
              "      <td>6</td>\n",
              "      <td>6</td>\n",
              "      <td>6</td>\n",
              "      <td>6</td>\n",
              "      <td>6</td>\n",
              "      <td>6</td>\n",
              "      <td>6</td>\n",
              "      <td>6</td>\n",
              "      <td>6</td>\n",
              "      <td>6</td>\n",
              "      <td>6</td>\n",
              "      <td>6</td>\n",
              "      <td>6</td>\n",
              "      <td>6</td>\n",
              "      <td>6</td>\n",
              "      <td>6</td>\n",
              "      <td>6</td>\n",
              "      <td>6</td>\n",
              "      <td>6</td>\n",
              "      <td>6</td>\n",
              "      <td>6</td>\n",
              "      <td>6</td>\n",
              "      <td>...</td>\n",
              "      <td>20</td>\n",
              "      <td>20</td>\n",
              "      <td>20</td>\n",
              "      <td>20</td>\n",
              "      <td>20</td>\n",
              "      <td>20</td>\n",
              "      <td>20</td>\n",
              "      <td>21</td>\n",
              "      <td>21</td>\n",
              "      <td>21</td>\n",
              "      <td>21</td>\n",
              "      <td>21</td>\n",
              "      <td>21</td>\n",
              "      <td>21</td>\n",
              "      <td>21</td>\n",
              "      <td>21</td>\n",
              "      <td>22</td>\n",
              "      <td>22</td>\n",
              "      <td>22</td>\n",
              "      <td>22</td>\n",
              "      <td>22</td>\n",
              "      <td>22</td>\n",
              "      <td>22</td>\n",
              "      <td>22</td>\n",
              "      <td>22</td>\n",
              "      <td>22</td>\n",
              "      <td>23</td>\n",
              "      <td>23</td>\n",
              "      <td>23</td>\n",
              "      <td>23</td>\n",
              "      <td>23</td>\n",
              "      <td>23</td>\n",
              "      <td>23</td>\n",
              "      <td>23</td>\n",
              "      <td>23</td>\n",
              "      <td>23</td>\n",
              "      <td>23</td>\n",
              "      <td>NaN</td>\n",
              "      <td>NaN</td>\n",
              "      <td>NaN</td>\n",
              "    </tr>\n",
              "    <tr>\n",
              "      <th>minute</th>\n",
              "      <td>1</td>\n",
              "      <td>4</td>\n",
              "      <td>8</td>\n",
              "      <td>28</td>\n",
              "      <td>34</td>\n",
              "      <td>37</td>\n",
              "      <td>46</td>\n",
              "      <td>26</td>\n",
              "      <td>27</td>\n",
              "      <td>36</td>\n",
              "      <td>41</td>\n",
              "      <td>49</td>\n",
              "      <td>50</td>\n",
              "      <td>57</td>\n",
              "      <td>57</td>\n",
              "      <td>58</td>\n",
              "      <td>59</td>\n",
              "      <td>0</td>\n",
              "      <td>0</td>\n",
              "      <td>2</td>\n",
              "      <td>2</td>\n",
              "      <td>3</td>\n",
              "      <td>3</td>\n",
              "      <td>6</td>\n",
              "      <td>6</td>\n",
              "      <td>14</td>\n",
              "      <td>17</td>\n",
              "      <td>18</td>\n",
              "      <td>19</td>\n",
              "      <td>20</td>\n",
              "      <td>22</td>\n",
              "      <td>23</td>\n",
              "      <td>24</td>\n",
              "      <td>29</td>\n",
              "      <td>30</td>\n",
              "      <td>32</td>\n",
              "      <td>37</td>\n",
              "      <td>37</td>\n",
              "      <td>38</td>\n",
              "      <td>38</td>\n",
              "      <td>...</td>\n",
              "      <td>30</td>\n",
              "      <td>34</td>\n",
              "      <td>35</td>\n",
              "      <td>44</td>\n",
              "      <td>45</td>\n",
              "      <td>50</td>\n",
              "      <td>59</td>\n",
              "      <td>2</td>\n",
              "      <td>7</td>\n",
              "      <td>14</td>\n",
              "      <td>15</td>\n",
              "      <td>19</td>\n",
              "      <td>27</td>\n",
              "      <td>30</td>\n",
              "      <td>39</td>\n",
              "      <td>57</td>\n",
              "      <td>9</td>\n",
              "      <td>25</td>\n",
              "      <td>28</td>\n",
              "      <td>39</td>\n",
              "      <td>44</td>\n",
              "      <td>45</td>\n",
              "      <td>45</td>\n",
              "      <td>48</td>\n",
              "      <td>55</td>\n",
              "      <td>57</td>\n",
              "      <td>3</td>\n",
              "      <td>17</td>\n",
              "      <td>20</td>\n",
              "      <td>25</td>\n",
              "      <td>26</td>\n",
              "      <td>36</td>\n",
              "      <td>44</td>\n",
              "      <td>47</td>\n",
              "      <td>49</td>\n",
              "      <td>57</td>\n",
              "      <td>59</td>\n",
              "      <td>NaN</td>\n",
              "      <td>NaN</td>\n",
              "      <td>NaN</td>\n",
              "    </tr>\n",
              "  </tbody>\n",
              "</table>\n",
              "<p>16 rows × 162049 columns</p>\n",
              "</div>"
            ],
            "text/plain": [
              "           0       1       2       3       ...  162045  162046 162047  162048\n",
              "year         2014    2014    2014    2014  ...    2014    2014   2014    2014\n",
              "month           1       1       1       1  ...       9       9      9       9\n",
              "day             1       1       1       1  ...      30      30     30      30\n",
              "dep_time        1       4       8      28  ...    2359     NaN    NaN     NaN\n",
              "dep_delay      96      -6      13      -2  ...       4     NaN    NaN     NaN\n",
              "arr_time      235     738     548     800  ...     734     NaN    NaN     NaN\n",
              "arr_delay      70     -23      -4     -23  ...      -1     NaN    NaN     NaN\n",
              "carrier        AS      US      UA      US  ...      DL      AS     US      WN\n",
              "tailnum    N508AS  N195UW  N37422  N547UW  ...  N137DL  N530AS    NaN  N790SW\n",
              "flight        145    1830    1609     466  ...    1929     470    494     427\n",
              "origin        PDX     SEA     PDX     PDX  ...     SEA     SEA    PDX     SEA\n",
              "dest          ANC     CLT     IAH     CLT  ...     ATL     SAN    PHX     SMF\n",
              "air_time      194     252     201     251  ...     244     NaN    NaN     NaN\n",
              "distance     1542    2279    1825    2282  ...    2182    1050   1009     605\n",
              "hour            0       0       0       0  ...      23     NaN    NaN     NaN\n",
              "minute          1       4       8      28  ...      59     NaN    NaN     NaN\n",
              "\n",
              "[16 rows x 162049 columns]"
            ]
          },
          "metadata": {
            "tags": []
          },
          "execution_count": 5
        }
      ]
    },
    {
      "cell_type": "markdown",
      "metadata": {
        "id": "3-b8Gnd5NwOK"
      },
      "source": [
        "## 1.5  Step 5. Examine data types of all features and total dataframe size in memory"
      ]
    },
    {
      "cell_type": "code",
      "metadata": {
        "id": "evVGPvnmG_TA",
        "outputId": "b3a8be59-3e25-4cbc-a9f7-d3e28030a6ce",
        "colab": {
          "base_uri": "https://localhost:8080/"
        }
      },
      "source": [],
      "execution_count": null,
      "outputs": [
        {
          "output_type": "stream",
          "text": [
            "<class 'pandas.core.frame.DataFrame'>\n",
            "RangeIndex: 162049 entries, 0 to 162048\n",
            "Data columns (total 16 columns):\n",
            " #   Column     Non-Null Count   Dtype  \n",
            "---  ------     --------------   -----  \n",
            " 0   year       162049 non-null  int64  \n",
            " 1   month      162049 non-null  int64  \n",
            " 2   day        162049 non-null  int64  \n",
            " 3   dep_time   161192 non-null  float64\n",
            " 4   dep_delay  161192 non-null  float64\n",
            " 5   arr_time   161061 non-null  float64\n",
            " 6   arr_delay  160748 non-null  float64\n",
            " 7   carrier    162049 non-null  object \n",
            " 8   tailnum    161801 non-null  object \n",
            " 9   flight     162049 non-null  int64  \n",
            " 10  origin     162049 non-null  object \n",
            " 11  dest       162049 non-null  object \n",
            " 12  air_time   160748 non-null  float64\n",
            " 13  distance   162049 non-null  int64  \n",
            " 14  hour       161192 non-null  float64\n",
            " 15  minute     161192 non-null  float64\n",
            "dtypes: float64(7), int64(5), object(4)\n",
            "memory usage: 19.8+ MB\n"
          ],
          "name": "stdout"
        }
      ]
    },
    {
      "cell_type": "markdown",
      "metadata": {
        "id": "tqVCrXhkN3BD"
      },
      "source": [
        "## 1.6  Step 6. Get basic statistics of each column"
      ]
    },
    {
      "cell_type": "code",
      "metadata": {
        "id": "Jvl7lwTNN2Yl",
        "outputId": "ae601672-6fa6-43dd-8498-d158bd04a72c",
        "colab": {
          "base_uri": "https://localhost:8080/",
          "height": 402
        }
      },
      "source": [],
      "execution_count": null,
      "outputs": [
        {
          "output_type": "execute_result",
          "data": {
            "text/html": [
              "<div>\n",
              "<style scoped>\n",
              "    .dataframe tbody tr th:only-of-type {\n",
              "        vertical-align: middle;\n",
              "    }\n",
              "\n",
              "    .dataframe tbody tr th {\n",
              "        vertical-align: top;\n",
              "    }\n",
              "\n",
              "    .dataframe thead th {\n",
              "        text-align: right;\n",
              "    }\n",
              "</style>\n",
              "<table border=\"1\" class=\"dataframe\">\n",
              "  <thead>\n",
              "    <tr style=\"text-align: right;\">\n",
              "      <th></th>\n",
              "      <th>count</th>\n",
              "      <th>mean</th>\n",
              "      <th>std</th>\n",
              "      <th>min</th>\n",
              "      <th>25%</th>\n",
              "      <th>50%</th>\n",
              "      <th>75%</th>\n",
              "      <th>max</th>\n",
              "    </tr>\n",
              "  </thead>\n",
              "  <tbody>\n",
              "    <tr>\n",
              "      <th>year</th>\n",
              "      <td>162049.0</td>\n",
              "      <td>2014.000000</td>\n",
              "      <td>0.000000</td>\n",
              "      <td>2014.0</td>\n",
              "      <td>2014.0</td>\n",
              "      <td>2014.0</td>\n",
              "      <td>2014.0</td>\n",
              "      <td>2014.0</td>\n",
              "    </tr>\n",
              "    <tr>\n",
              "      <th>month</th>\n",
              "      <td>162049.0</td>\n",
              "      <td>6.605027</td>\n",
              "      <td>3.324399</td>\n",
              "      <td>1.0</td>\n",
              "      <td>4.0</td>\n",
              "      <td>7.0</td>\n",
              "      <td>9.0</td>\n",
              "      <td>12.0</td>\n",
              "    </tr>\n",
              "    <tr>\n",
              "      <th>day</th>\n",
              "      <td>162049.0</td>\n",
              "      <td>15.749890</td>\n",
              "      <td>8.789417</td>\n",
              "      <td>1.0</td>\n",
              "      <td>8.0</td>\n",
              "      <td>16.0</td>\n",
              "      <td>23.0</td>\n",
              "      <td>31.0</td>\n",
              "    </tr>\n",
              "    <tr>\n",
              "      <th>dep_time</th>\n",
              "      <td>161192.0</td>\n",
              "      <td>1278.283755</td>\n",
              "      <td>522.583793</td>\n",
              "      <td>1.0</td>\n",
              "      <td>831.0</td>\n",
              "      <td>1217.0</td>\n",
              "      <td>1721.0</td>\n",
              "      <td>2400.0</td>\n",
              "    </tr>\n",
              "    <tr>\n",
              "      <th>dep_delay</th>\n",
              "      <td>161192.0</td>\n",
              "      <td>6.133859</td>\n",
              "      <td>29.112035</td>\n",
              "      <td>-37.0</td>\n",
              "      <td>-5.0</td>\n",
              "      <td>-2.0</td>\n",
              "      <td>5.0</td>\n",
              "      <td>1553.0</td>\n",
              "    </tr>\n",
              "    <tr>\n",
              "      <th>arr_time</th>\n",
              "      <td>161061.0</td>\n",
              "      <td>1482.501282</td>\n",
              "      <td>523.958781</td>\n",
              "      <td>1.0</td>\n",
              "      <td>1127.0</td>\n",
              "      <td>1517.0</td>\n",
              "      <td>1918.0</td>\n",
              "      <td>2400.0</td>\n",
              "    </tr>\n",
              "    <tr>\n",
              "      <th>arr_delay</th>\n",
              "      <td>160748.0</td>\n",
              "      <td>2.240868</td>\n",
              "      <td>31.191037</td>\n",
              "      <td>-67.0</td>\n",
              "      <td>-12.0</td>\n",
              "      <td>-4.0</td>\n",
              "      <td>7.0</td>\n",
              "      <td>1539.0</td>\n",
              "    </tr>\n",
              "    <tr>\n",
              "      <th>flight</th>\n",
              "      <td>162049.0</td>\n",
              "      <td>1357.356725</td>\n",
              "      <td>1495.271031</td>\n",
              "      <td>2.0</td>\n",
              "      <td>408.0</td>\n",
              "      <td>694.0</td>\n",
              "      <td>1726.0</td>\n",
              "      <td>6527.0</td>\n",
              "    </tr>\n",
              "    <tr>\n",
              "      <th>air_time</th>\n",
              "      <td>160748.0</td>\n",
              "      <td>152.588511</td>\n",
              "      <td>72.547469</td>\n",
              "      <td>18.0</td>\n",
              "      <td>103.0</td>\n",
              "      <td>129.0</td>\n",
              "      <td>199.0</td>\n",
              "      <td>422.0</td>\n",
              "    </tr>\n",
              "    <tr>\n",
              "      <th>distance</th>\n",
              "      <td>162049.0</td>\n",
              "      <td>1204.514634</td>\n",
              "      <td>653.150062</td>\n",
              "      <td>93.0</td>\n",
              "      <td>689.0</td>\n",
              "      <td>991.0</td>\n",
              "      <td>1660.0</td>\n",
              "      <td>2724.0</td>\n",
              "    </tr>\n",
              "    <tr>\n",
              "      <th>hour</th>\n",
              "      <td>161192.0</td>\n",
              "      <td>12.479515</td>\n",
              "      <td>5.232476</td>\n",
              "      <td>0.0</td>\n",
              "      <td>8.0</td>\n",
              "      <td>12.0</td>\n",
              "      <td>17.0</td>\n",
              "      <td>24.0</td>\n",
              "    </tr>\n",
              "    <tr>\n",
              "      <th>minute</th>\n",
              "      <td>161192.0</td>\n",
              "      <td>30.332244</td>\n",
              "      <td>18.061569</td>\n",
              "      <td>0.0</td>\n",
              "      <td>14.0</td>\n",
              "      <td>30.0</td>\n",
              "      <td>47.0</td>\n",
              "      <td>59.0</td>\n",
              "    </tr>\n",
              "  </tbody>\n",
              "</table>\n",
              "</div>"
            ],
            "text/plain": [
              "              count         mean          std  ...     50%     75%     max\n",
              "year       162049.0  2014.000000     0.000000  ...  2014.0  2014.0  2014.0\n",
              "month      162049.0     6.605027     3.324399  ...     7.0     9.0    12.0\n",
              "day        162049.0    15.749890     8.789417  ...    16.0    23.0    31.0\n",
              "dep_time   161192.0  1278.283755   522.583793  ...  1217.0  1721.0  2400.0\n",
              "dep_delay  161192.0     6.133859    29.112035  ...    -2.0     5.0  1553.0\n",
              "arr_time   161061.0  1482.501282   523.958781  ...  1517.0  1918.0  2400.0\n",
              "arr_delay  160748.0     2.240868    31.191037  ...    -4.0     7.0  1539.0\n",
              "flight     162049.0  1357.356725  1495.271031  ...   694.0  1726.0  6527.0\n",
              "air_time   160748.0   152.588511    72.547469  ...   129.0   199.0   422.0\n",
              "distance   162049.0  1204.514634   653.150062  ...   991.0  1660.0  2724.0\n",
              "hour       161192.0    12.479515     5.232476  ...    12.0    17.0    24.0\n",
              "minute     161192.0    30.332244    18.061569  ...    30.0    47.0    59.0\n",
              "\n",
              "[12 rows x 8 columns]"
            ]
          },
          "metadata": {
            "tags": []
          },
          "execution_count": 15
        }
      ]
    },
    {
      "cell_type": "markdown",
      "metadata": {
        "id": "h0Ht0h4PODsX"
      },
      "source": [
        "## 1.7  Step 7. Count **unique** Carriers and plot their relative share of flights\n",
        "\n",
        "    TIPS : pandas.Series.plot()"
      ]
    },
    {
      "cell_type": "code",
      "metadata": {
        "id": "YV-URZCPFunw",
        "outputId": "595e208b-5ec0-4f55-932c-3652cbde56ef",
        "colab": {
          "base_uri": "https://localhost:8080/",
          "height": 304
        }
      },
      "source": [],
      "execution_count": null,
      "outputs": [
        {
          "output_type": "execute_result",
          "data": {
            "text/plain": [
              "<matplotlib.axes._subplots.AxesSubplot at 0x7f3fd9875518>"
            ]
          },
          "metadata": {
            "tags": []
          },
          "execution_count": 32
        },
        {
          "output_type": "display_data",
          "data": {
            "image/png": "[encoded data removed]",
            "text/plain": [
              "<Figure size 432x288 with 1 Axes>"
            ]
          },
          "metadata": {
            "tags": [],
            "needs_background": "light"
          }
        }
      ]
    },
    {
      "cell_type": "markdown",
      "metadata": {
        "id": "IlT6_KYbOsRK"
      },
      "source": [
        "## 1.8  Step 8. Find the top-5 flight codes, that have the largest total distance travelled in year 2014\n",
        "\n",
        "\n",
        "    Tips : use .groupby and sum. remember to sort! "
      ]
    },
    {
      "cell_type": "code",
      "metadata": {
        "id": "fGxeURXXOscM",
        "outputId": "e0171f79-51e9-4f68-fcf4-633ac35e33eb",
        "colab": {
          "base_uri": "https://localhost:8080/"
        }
      },
      "source": [],
      "execution_count": null,
      "outputs": [
        {
          "output_type": "execute_result",
          "data": {
            "text/plain": [
              "flight\n",
              "498     1123353\n",
              "598     1080871\n",
              "843      985609\n",
              "851      977972\n",
              "2237     977674\n",
              "Name: distance, dtype: int64"
            ]
          },
          "metadata": {
            "tags": []
          },
          "execution_count": 66
        }
      ]
    },
    {
      "cell_type": "markdown",
      "metadata": {
        "id": "orBXoRWtGekm"
      },
      "source": [
        "## 1.9  Step 9 Making a histogram of flight frequency by date\n",
        "\n",
        "    Tips : You have to develop a new column.... datetime! use pd.datetime function. Set the new column as index \n"
      ]
    },
    {
      "cell_type": "code",
      "metadata": {
        "id": "rGQCOga8pjz8",
        "outputId": "879f775d-d314-4623-dd81-47cbd54b36fb",
        "colab": {
          "base_uri": "https://localhost:8080/",
          "height": 225
        }
      },
      "source": [],
      "execution_count": null,
      "outputs": [
        {
          "output_type": "execute_result",
          "data": {
            "text/html": [
              "<div>\n",
              "<style scoped>\n",
              "    .dataframe tbody tr th:only-of-type {\n",
              "        vertical-align: middle;\n",
              "    }\n",
              "\n",
              "    .dataframe tbody tr th {\n",
              "        vertical-align: top;\n",
              "    }\n",
              "\n",
              "    .dataframe thead th {\n",
              "        text-align: right;\n",
              "    }\n",
              "</style>\n",
              "<table border=\"1\" class=\"dataframe\">\n",
              "  <thead>\n",
              "    <tr style=\"text-align: right;\">\n",
              "      <th></th>\n",
              "      <th>year</th>\n",
              "      <th>month</th>\n",
              "      <th>day</th>\n",
              "      <th>dep_time</th>\n",
              "      <th>dep_delay</th>\n",
              "      <th>arr_time</th>\n",
              "      <th>arr_delay</th>\n",
              "      <th>carrier</th>\n",
              "      <th>tailnum</th>\n",
              "      <th>flight</th>\n",
              "      <th>origin</th>\n",
              "      <th>dest</th>\n",
              "      <th>air_time</th>\n",
              "      <th>distance</th>\n",
              "      <th>hour</th>\n",
              "      <th>minute</th>\n",
              "    </tr>\n",
              "    <tr>\n",
              "      <th>Date</th>\n",
              "      <th></th>\n",
              "      <th></th>\n",
              "      <th></th>\n",
              "      <th></th>\n",
              "      <th></th>\n",
              "      <th></th>\n",
              "      <th></th>\n",
              "      <th></th>\n",
              "      <th></th>\n",
              "      <th></th>\n",
              "      <th></th>\n",
              "      <th></th>\n",
              "      <th></th>\n",
              "      <th></th>\n",
              "      <th></th>\n",
              "      <th></th>\n",
              "    </tr>\n",
              "  </thead>\n",
              "  <tbody>\n",
              "    <tr>\n",
              "      <th>2014-01-01 00:01:00</th>\n",
              "      <td>2014</td>\n",
              "      <td>1</td>\n",
              "      <td>1</td>\n",
              "      <td>1.0</td>\n",
              "      <td>96.0</td>\n",
              "      <td>235.0</td>\n",
              "      <td>70.0</td>\n",
              "      <td>AS</td>\n",
              "      <td>N508AS</td>\n",
              "      <td>145</td>\n",
              "      <td>PDX</td>\n",
              "      <td>ANC</td>\n",
              "      <td>194.0</td>\n",
              "      <td>1542</td>\n",
              "      <td>0.0</td>\n",
              "      <td>1.0</td>\n",
              "    </tr>\n",
              "    <tr>\n",
              "      <th>2014-01-01 00:04:00</th>\n",
              "      <td>2014</td>\n",
              "      <td>1</td>\n",
              "      <td>1</td>\n",
              "      <td>4.0</td>\n",
              "      <td>-6.0</td>\n",
              "      <td>738.0</td>\n",
              "      <td>-23.0</td>\n",
              "      <td>US</td>\n",
              "      <td>N195UW</td>\n",
              "      <td>1830</td>\n",
              "      <td>SEA</td>\n",
              "      <td>CLT</td>\n",
              "      <td>252.0</td>\n",
              "      <td>2279</td>\n",
              "      <td>0.0</td>\n",
              "      <td>4.0</td>\n",
              "    </tr>\n",
              "    <tr>\n",
              "      <th>2014-01-01 00:08:00</th>\n",
              "      <td>2014</td>\n",
              "      <td>1</td>\n",
              "      <td>1</td>\n",
              "      <td>8.0</td>\n",
              "      <td>13.0</td>\n",
              "      <td>548.0</td>\n",
              "      <td>-4.0</td>\n",
              "      <td>UA</td>\n",
              "      <td>N37422</td>\n",
              "      <td>1609</td>\n",
              "      <td>PDX</td>\n",
              "      <td>IAH</td>\n",
              "      <td>201.0</td>\n",
              "      <td>1825</td>\n",
              "      <td>0.0</td>\n",
              "      <td>8.0</td>\n",
              "    </tr>\n",
              "    <tr>\n",
              "      <th>2014-01-01 00:28:00</th>\n",
              "      <td>2014</td>\n",
              "      <td>1</td>\n",
              "      <td>1</td>\n",
              "      <td>28.0</td>\n",
              "      <td>-2.0</td>\n",
              "      <td>800.0</td>\n",
              "      <td>-23.0</td>\n",
              "      <td>US</td>\n",
              "      <td>N547UW</td>\n",
              "      <td>466</td>\n",
              "      <td>PDX</td>\n",
              "      <td>CLT</td>\n",
              "      <td>251.0</td>\n",
              "      <td>2282</td>\n",
              "      <td>0.0</td>\n",
              "      <td>28.0</td>\n",
              "    </tr>\n",
              "    <tr>\n",
              "      <th>2014-01-01 00:34:00</th>\n",
              "      <td>2014</td>\n",
              "      <td>1</td>\n",
              "      <td>1</td>\n",
              "      <td>34.0</td>\n",
              "      <td>44.0</td>\n",
              "      <td>325.0</td>\n",
              "      <td>43.0</td>\n",
              "      <td>AS</td>\n",
              "      <td>N762AS</td>\n",
              "      <td>121</td>\n",
              "      <td>SEA</td>\n",
              "      <td>ANC</td>\n",
              "      <td>201.0</td>\n",
              "      <td>1448</td>\n",
              "      <td>0.0</td>\n",
              "      <td>34.0</td>\n",
              "    </tr>\n",
              "  </tbody>\n",
              "</table>\n",
              "</div>"
            ],
            "text/plain": [
              "                     year  month  day  ...  distance  hour  minute\n",
              "Date                                   ...                        \n",
              "2014-01-01 00:01:00  2014      1    1  ...      1542   0.0     1.0\n",
              "2014-01-01 00:04:00  2014      1    1  ...      2279   0.0     4.0\n",
              "2014-01-01 00:08:00  2014      1    1  ...      1825   0.0     8.0\n",
              "2014-01-01 00:28:00  2014      1    1  ...      2282   0.0    28.0\n",
              "2014-01-01 00:34:00  2014      1    1  ...      1448   0.0    34.0\n",
              "\n",
              "[5 rows x 16 columns]"
            ]
          },
          "metadata": {
            "tags": []
          },
          "execution_count": 79
        }
      ]
    },
    {
      "cell_type": "code",
      "metadata": {
        "id": "FZmcUpiQp4Uf",
        "outputId": "88aeec9e-455d-48ee-c9ca-f76989338cb5",
        "colab": {
          "base_uri": "https://localhost:8080/",
          "height": 388
        }
      },
      "source": [],
      "execution_count": null,
      "outputs": [
        {
          "output_type": "display_data",
          "data": {
            "image/png": "[encoded data removed]",
            "text/plain": [
              "<Figure size 1440x432 with 1 Axes>"
            ]
          },
          "metadata": {
            "tags": [],
            "needs_background": "light"
          }
        }
      ]
    },
    {
      "cell_type": "code",
      "metadata": {
        "id": "KD12ToQ1Zk0S"
      },
      "source": [],
      "execution_count": null,
      "outputs": []
    },
    {
      "cell_type": "markdown",
      "metadata": {
        "id": "4zQOn26UPJgp"
      },
      "source": [
        "## 1.9_bis  Step 9_bis Number of flights by days of month and day of the week\n",
        "\n",
        "    Tips : use pd.crosstab\n"
      ]
    },
    {
      "cell_type": "code",
      "metadata": {
        "id": "ovCtDSaurD3b"
      },
      "source": [],
      "execution_count": null,
      "outputs": []
    },
    {
      "cell_type": "code",
      "metadata": {
        "id": "lgM-Wyi_rQdd",
        "outputId": "79e48358-28aa-4128-aec0-f2e47f529cc9",
        "colab": {
          "base_uri": "https://localhost:8080/",
          "height": 432
        }
      },
      "source": [],
      "execution_count": null,
      "outputs": [
        {
          "output_type": "execute_result",
          "data": {
            "text/html": [
              "<div>\n",
              "<style scoped>\n",
              "    .dataframe tbody tr th:only-of-type {\n",
              "        vertical-align: middle;\n",
              "    }\n",
              "\n",
              "    .dataframe tbody tr th {\n",
              "        vertical-align: top;\n",
              "    }\n",
              "\n",
              "    .dataframe thead th {\n",
              "        text-align: right;\n",
              "    }\n",
              "</style>\n",
              "<table border=\"1\" class=\"dataframe\">\n",
              "  <thead>\n",
              "    <tr style=\"text-align: right;\">\n",
              "      <th>DayOfWeek</th>\n",
              "      <th>0.0</th>\n",
              "      <th>1.0</th>\n",
              "      <th>2.0</th>\n",
              "      <th>3.0</th>\n",
              "      <th>4.0</th>\n",
              "      <th>5.0</th>\n",
              "      <th>6.0</th>\n",
              "    </tr>\n",
              "    <tr>\n",
              "      <th>month</th>\n",
              "      <th></th>\n",
              "      <th></th>\n",
              "      <th></th>\n",
              "      <th></th>\n",
              "      <th></th>\n",
              "      <th></th>\n",
              "      <th></th>\n",
              "    </tr>\n",
              "  </thead>\n",
              "  <tbody>\n",
              "    <tr>\n",
              "      <th>1</th>\n",
              "      <td>1596</td>\n",
              "      <td>1457</td>\n",
              "      <td>1926</td>\n",
              "      <td>2041</td>\n",
              "      <td>2030</td>\n",
              "      <td>1374</td>\n",
              "      <td>1521</td>\n",
              "    </tr>\n",
              "    <tr>\n",
              "      <th>2</th>\n",
              "      <td>1616</td>\n",
              "      <td>1522</td>\n",
              "      <td>1558</td>\n",
              "      <td>1611</td>\n",
              "      <td>1623</td>\n",
              "      <td>1312</td>\n",
              "      <td>1480</td>\n",
              "    </tr>\n",
              "    <tr>\n",
              "      <th>3</th>\n",
              "      <td>2148</td>\n",
              "      <td>1650</td>\n",
              "      <td>1691</td>\n",
              "      <td>1733</td>\n",
              "      <td>1726</td>\n",
              "      <td>1835</td>\n",
              "      <td>2077</td>\n",
              "    </tr>\n",
              "    <tr>\n",
              "      <th>4</th>\n",
              "      <td>1794</td>\n",
              "      <td>2145</td>\n",
              "      <td>2207</td>\n",
              "      <td>1809</td>\n",
              "      <td>1808</td>\n",
              "      <td>1503</td>\n",
              "      <td>1747</td>\n",
              "    </tr>\n",
              "    <tr>\n",
              "      <th>5</th>\n",
              "      <td>1869</td>\n",
              "      <td>1819</td>\n",
              "      <td>1859</td>\n",
              "      <td>2350</td>\n",
              "      <td>2366</td>\n",
              "      <td>1982</td>\n",
              "      <td>1726</td>\n",
              "    </tr>\n",
              "    <tr>\n",
              "      <th>6</th>\n",
              "      <td>2535</td>\n",
              "      <td>2001</td>\n",
              "      <td>2018</td>\n",
              "      <td>2031</td>\n",
              "      <td>2039</td>\n",
              "      <td>1831</td>\n",
              "      <td>2460</td>\n",
              "    </tr>\n",
              "    <tr>\n",
              "      <th>7</th>\n",
              "      <td>2082</td>\n",
              "      <td>2548</td>\n",
              "      <td>2589</td>\n",
              "      <td>2629</td>\n",
              "      <td>1986</td>\n",
              "      <td>1883</td>\n",
              "      <td>2037</td>\n",
              "    </tr>\n",
              "    <tr>\n",
              "      <th>8</th>\n",
              "      <td>2127</td>\n",
              "      <td>2074</td>\n",
              "      <td>2093</td>\n",
              "      <td>2140</td>\n",
              "      <td>2672</td>\n",
              "      <td>2366</td>\n",
              "      <td>2527</td>\n",
              "    </tr>\n",
              "    <tr>\n",
              "      <th>9</th>\n",
              "      <td>2359</td>\n",
              "      <td>2237</td>\n",
              "      <td>1819</td>\n",
              "      <td>1854</td>\n",
              "      <td>1847</td>\n",
              "      <td>1528</td>\n",
              "      <td>1816</td>\n",
              "    </tr>\n",
              "    <tr>\n",
              "      <th>10</th>\n",
              "      <td>1800</td>\n",
              "      <td>1702</td>\n",
              "      <td>2188</td>\n",
              "      <td>2236</td>\n",
              "      <td>2211</td>\n",
              "      <td>1471</td>\n",
              "      <td>1738</td>\n",
              "    </tr>\n",
              "    <tr>\n",
              "      <th>11</th>\n",
              "      <td>1720</td>\n",
              "      <td>1663</td>\n",
              "      <td>1721</td>\n",
              "      <td>1628</td>\n",
              "      <td>1683</td>\n",
              "      <td>1850</td>\n",
              "      <td>2110</td>\n",
              "    </tr>\n",
              "    <tr>\n",
              "      <th>12</th>\n",
              "      <td>2182</td>\n",
              "      <td>2088</td>\n",
              "      <td>1993</td>\n",
              "      <td>1641</td>\n",
              "      <td>1746</td>\n",
              "      <td>1519</td>\n",
              "      <td>1663</td>\n",
              "    </tr>\n",
              "  </tbody>\n",
              "</table>\n",
              "</div>"
            ],
            "text/plain": [
              "DayOfWeek   0.0   1.0   2.0   3.0   4.0   5.0   6.0\n",
              "month                                              \n",
              "1          1596  1457  1926  2041  2030  1374  1521\n",
              "2          1616  1522  1558  1611  1623  1312  1480\n",
              "3          2148  1650  1691  1733  1726  1835  2077\n",
              "4          1794  2145  2207  1809  1808  1503  1747\n",
              "5          1869  1819  1859  2350  2366  1982  1726\n",
              "6          2535  2001  2018  2031  2039  1831  2460\n",
              "7          2082  2548  2589  2629  1986  1883  2037\n",
              "8          2127  2074  2093  2140  2672  2366  2527\n",
              "9          2359  2237  1819  1854  1847  1528  1816\n",
              "10         1800  1702  2188  2236  2211  1471  1738\n",
              "11         1720  1663  1721  1628  1683  1850  2110\n",
              "12         2182  2088  1993  1641  1746  1519  1663"
            ]
          },
          "metadata": {
            "tags": []
          },
          "execution_count": 51
        }
      ]
    },
    {
      "cell_type": "markdown",
      "metadata": {
        "id": "_hMayINZQyVL"
      },
      "source": [
        "## 1.10  Step 10. Plot flight distance day of the week + month histogram\n",
        "\n",
        "    Question : can we extract any relevant information?\n"
      ]
    },
    {
      "cell_type": "code",
      "metadata": {
        "id": "Uf4uqV8MQyfw",
        "outputId": "62d3b592-eb24-4c1a-ac26-7d045f84ff6b",
        "colab": {
          "base_uri": "https://localhost:8080/",
          "height": 286
        }
      },
      "source": [],
      "execution_count": null,
      "outputs": [
        {
          "output_type": "execute_result",
          "data": {
            "text/plain": [
              "<matplotlib.axes._subplots.AxesSubplot at 0x7f3fce399e80>"
            ]
          },
          "metadata": {
            "tags": []
          },
          "execution_count": 52
        },
        {
          "output_type": "display_data",
          "data": {
            "image/png": "[encoded data removed]",
            "text/plain": [
              "<Figure size 432x288 with 1 Axes>"
            ]
          },
          "metadata": {
            "tags": [],
            "needs_background": "light"
          }
        }
      ]
    },
    {
      "cell_type": "code",
      "metadata": {
        "id": "OOfSjRzJTJg6",
        "outputId": "7e733f18-e0ce-4309-eff1-59c50dd56e9d",
        "colab": {
          "base_uri": "https://localhost:8080/",
          "height": 282
        }
      },
      "source": [],
      "execution_count": null,
      "outputs": [
        {
          "output_type": "execute_result",
          "data": {
            "text/plain": [
              "<matplotlib.axes._subplots.AxesSubplot at 0x7f3fce2cbe48>"
            ]
          },
          "metadata": {
            "tags": []
          },
          "execution_count": 53
        },
        {
          "output_type": "display_data",
          "data": {
            "image/png": "[encoded data removed]",
            "text/plain": [
              "<Figure size 432x288 with 1 Axes>"
            ]
          },
          "metadata": {
            "tags": [],
            "needs_background": "light"
          }
        }
      ]
    },
    {
      "cell_type": "markdown",
      "metadata": {
        "id": "X-yNKUjZTQbb"
      },
      "source": [
        "## 1.14  Step 14. Which route is the most frequent, in terms of the number of flights?"
      ]
    },
    {
      "cell_type": "code",
      "metadata": {
        "id": "_aWeimoXRvrr",
        "outputId": "6a15aa01-0e71-4ab5-a04c-d6239560e2bf",
        "colab": {
          "base_uri": "https://localhost:8080/"
        }
      },
      "source": [],
      "execution_count": null,
      "outputs": [
        {
          "output_type": "execute_result",
          "data": {
            "text/plain": [
              "origin  dest\n",
              "SEA     SFO     7630\n",
              "Name: dest, dtype: int64"
            ]
          },
          "metadata": {
            "tags": []
          },
          "execution_count": 73
        }
      ]
    },
    {
      "cell_type": "markdown",
      "metadata": {
        "id": "aHMOj-Y1V2ac"
      },
      "source": [
        "## 1.15  Step 15. Find top-5 delayed routes (count how many times they were delayed on departure) \n",
        "\n",
        "*From all flights on these 5 routes, count all flights with weather conditions *contributing to a delay."
      ]
    },
    {
      "cell_type": "code",
      "metadata": {
        "id": "VaC8nvdwRvu8",
        "outputId": "08d53e97-37c8-4ccf-d168-d04047fecc91",
        "colab": {
          "base_uri": "https://localhost:8080/"
        }
      },
      "source": [],
      "execution_count": null,
      "outputs": [
        {
          "output_type": "execute_result",
          "data": {
            "text/plain": [
              "origin  dest\n",
              "SEA     SFO     3206\n",
              "        ANC     2501\n",
              "        DEN     2387\n",
              "        LAX     2317\n",
              "PDX     SFO     1972\n",
              "Name: dep_delay, dtype: int64"
            ]
          },
          "metadata": {
            "tags": []
          },
          "execution_count": 74
        }
      ]
    },
    {
      "cell_type": "markdown",
      "metadata": {
        "id": "SE_DtRdfWJSh"
      },
      "source": [
        "## 1.16  Step 16 Examine the hourly distribution of departure times (use also plots if needed)\n",
        "\n",
        "*For that, create a new series from DepTime, removing missing values*\n",
        "\n",
        "    Choose all correct statements:\n",
        "\n",
        "    - Flights are normally distributed within time interval [0-23] (Search for: Normal distribution, bell curve).\n",
        "    - Flights are uniformly distributed within time interval [0-23].\n",
        "    - In the period from 0 am to 4 am there are considerably less flights than from 7 pm to 8 pm.\n",
        "\n",
        "\n",
        "    TIPS : this is a bit complex : use apply function + value_counts"
      ]
    },
    {
      "cell_type": "code",
      "metadata": {
        "id": "11CSMdfqRv4d",
        "outputId": "80393076-55f3-4552-c37b-641795dfb442",
        "colab": {
          "base_uri": "https://localhost:8080/"
        }
      },
      "source": [],
      "execution_count": null,
      "outputs": [
        {
          "output_type": "execute_result",
          "data": {
            "text/plain": [
              "6.0     0.091208\n",
              "11.0    0.075450\n",
              "7.0     0.073608\n",
              "10.0    0.073217\n",
              "8.0     0.065444\n",
              "13.0    0.064991\n",
              "12.0    0.056033\n",
              "18.0    0.055282\n",
              "14.0    0.053173\n",
              "9.0     0.049314\n",
              "15.0    0.047602\n",
              "19.0    0.044891\n",
              "5.0     0.042142\n",
              "20.0    0.039084\n",
              "16.0    0.038420\n",
              "17.0    0.038141\n",
              "22.0    0.029629\n",
              "21.0    0.027638\n",
              "23.0    0.024852\n",
              "0.0     0.008474\n",
              "1.0     0.001036\n",
              "2.0     0.000180\n",
              "24.0    0.000118\n",
              "3.0     0.000062\n",
              "4.0     0.000012\n",
              "Name: dep_time, dtype: float64"
            ]
          },
          "metadata": {
            "tags": []
          },
          "execution_count": 81
        }
      ]
    },
    {
      "cell_type": "code",
      "metadata": {
        "id": "zE1XGoY_Rv2N",
        "outputId": "ec0b9b60-9456-45ca-e717-f24f6428467f",
        "colab": {
          "base_uri": "https://localhost:8080/",
          "height": 269
        }
      },
      "source": [],
      "execution_count": null,
      "outputs": [
        {
          "output_type": "display_data",
          "data": {
            "image/png": "[encoded data removed]",
            "text/plain": [
              "<Figure size 432x288 with 1 Axes>"
            ]
          },
          "metadata": {
            "tags": [],
            "needs_background": "light"
          }
        }
      ]
    },
    {
      "cell_type": "markdown",
      "metadata": {
        "id": "fsV2pjpgGZqT"
      },
      "source": [
        "## 1.17  Step 17 Examine the Nan Values x columns\n",
        "\n",
        "    TIPS : check documentation! https://pandas.pydata.org/pandas-docs/stable/user_guide/missing_data.html"
      ]
    },
    {
      "cell_type": "code",
      "metadata": {
        "id": "tCczvQ8eF-gd",
        "outputId": "ffc516bc-90b7-46b5-e60c-df6722328b38",
        "colab": {
          "base_uri": "https://localhost:8080/"
        }
      },
      "source": [],
      "execution_count": null,
      "outputs": [
        {
          "output_type": "stream",
          "text": [
            "year            0\n",
            "month           0\n",
            "day             0\n",
            "dep_time      857\n",
            "dep_delay     857\n",
            "arr_time      988\n",
            "arr_delay    1301\n",
            "carrier         0\n",
            "tailnum       248\n",
            "flight          0\n",
            "origin          0\n",
            "dest            0\n",
            "air_time     1301\n",
            "distance        0\n",
            "hour          857\n",
            "minute        857\n",
            "DayOfWeek     857\n",
            "dtype: int64\n"
          ],
          "name": "stdout"
        }
      ]
    },
    {
      "cell_type": "markdown",
      "metadata": {
        "id": "l51kOhrbD2WG"
      },
      "source": [
        "# How visualize categorical variables in a proper way?\n",
        "\n",
        "That's why it's always a good idea to investigate your raw dataset thoroughly and then think about cleaning it.\n",
        "\n",
        "One of the most common ways to analyze the relationship between a categorical feature and a continuous feature is to plot a boxplot"
      ]
    },
    {
      "cell_type": "code",
      "metadata": {
        "id": "Scq3aOf4DtAv",
        "outputId": "a6cbc170-8f64-4c1e-8065-a0b4a044714e",
        "colab": {
          "base_uri": "https://localhost:8080/",
          "height": 445
        }
      },
      "source": [],
      "execution_count": null,
      "outputs": [
        {
          "output_type": "execute_result",
          "data": {
            "text/plain": [
              "<matplotlib.axes._subplots.AxesSubplot at 0x7f3fce277630>"
            ]
          },
          "metadata": {
            "tags": []
          },
          "execution_count": 57
        },
        {
          "output_type": "display_data",
          "data": {
            "image/png": "[encoded data removed]",
            "text/plain": [
              "<Figure size 360x432 with 1 Axes>"
            ]
          },
          "metadata": {
            "tags": [],
            "needs_background": "light"
          }
        }
      ]
    },
    {
      "cell_type": "markdown",
      "metadata": {
        "id": "SyQoZ8Is7XHb"
      },
      "source": [
        "# Encoding Categorical Data!\n",
        "\n",
        "- Replacing values\n",
        "- Label Encoding\n",
        "- One-Hot encoding\n",
        "- Binary encoding\n"
      ]
    },
    {
      "cell_type": "markdown",
      "metadata": {
        "id": "MRz88Af6ImAL"
      },
      "source": [
        "### Label Encoding for origin/departure\n",
        "\n",
        "\n",
        "Another approach is to encode categorical values with a technique called \"label encoding\", which allows you to convert each value in a column to a number. Numerical labels are always between 0 and n_categories-1."
      ]
    },
    {
      "cell_type": "code",
      "metadata": {
        "id": "rAzCYL2iHbUH"
      },
      "source": [],
      "execution_count": null,
      "outputs": []
    },
    {
      "cell_type": "code",
      "metadata": {
        "id": "yHw8hOO8IRmi",
        "outputId": "b691a065-fac2-48ca-db7a-ad2e5a533079",
        "colab": {
          "base_uri": "https://localhost:8080/",
          "height": 225
        }
      },
      "source": [],
      "execution_count": null,
      "outputs": [
        {
          "output_type": "execute_result",
          "data": {
            "text/html": [
              "<div>\n",
              "<style scoped>\n",
              "    .dataframe tbody tr th:only-of-type {\n",
              "        vertical-align: middle;\n",
              "    }\n",
              "\n",
              "    .dataframe tbody tr th {\n",
              "        vertical-align: top;\n",
              "    }\n",
              "\n",
              "    .dataframe thead th {\n",
              "        text-align: right;\n",
              "    }\n",
              "</style>\n",
              "<table border=\"1\" class=\"dataframe\">\n",
              "  <thead>\n",
              "    <tr style=\"text-align: right;\">\n",
              "      <th></th>\n",
              "      <th>year</th>\n",
              "      <th>month</th>\n",
              "      <th>day</th>\n",
              "      <th>dep_time</th>\n",
              "      <th>dep_delay</th>\n",
              "      <th>arr_time</th>\n",
              "      <th>arr_delay</th>\n",
              "      <th>carrier</th>\n",
              "      <th>tailnum</th>\n",
              "      <th>flight</th>\n",
              "      <th>origin</th>\n",
              "      <th>dest</th>\n",
              "      <th>air_time</th>\n",
              "      <th>distance</th>\n",
              "      <th>hour</th>\n",
              "      <th>minute</th>\n",
              "      <th>DayOfWeek</th>\n",
              "    </tr>\n",
              "    <tr>\n",
              "      <th>Date</th>\n",
              "      <th></th>\n",
              "      <th></th>\n",
              "      <th></th>\n",
              "      <th></th>\n",
              "      <th></th>\n",
              "      <th></th>\n",
              "      <th></th>\n",
              "      <th></th>\n",
              "      <th></th>\n",
              "      <th></th>\n",
              "      <th></th>\n",
              "      <th></th>\n",
              "      <th></th>\n",
              "      <th></th>\n",
              "      <th></th>\n",
              "      <th></th>\n",
              "      <th></th>\n",
              "    </tr>\n",
              "  </thead>\n",
              "  <tbody>\n",
              "    <tr>\n",
              "      <th>2014-01-01 00:01:00</th>\n",
              "      <td>2014</td>\n",
              "      <td>1</td>\n",
              "      <td>1</td>\n",
              "      <td>1.0</td>\n",
              "      <td>96.0</td>\n",
              "      <td>235.0</td>\n",
              "      <td>70.0</td>\n",
              "      <td>AS</td>\n",
              "      <td>N508AS</td>\n",
              "      <td>145</td>\n",
              "      <td>53</td>\n",
              "      <td>2</td>\n",
              "      <td>194.0</td>\n",
              "      <td>1542</td>\n",
              "      <td>0.0</td>\n",
              "      <td>1.0</td>\n",
              "      <td>2.0</td>\n",
              "    </tr>\n",
              "    <tr>\n",
              "      <th>2014-01-01 00:04:00</th>\n",
              "      <td>2014</td>\n",
              "      <td>1</td>\n",
              "      <td>1</td>\n",
              "      <td>4.0</td>\n",
              "      <td>-6.0</td>\n",
              "      <td>738.0</td>\n",
              "      <td>-23.0</td>\n",
              "      <td>US</td>\n",
              "      <td>N195UW</td>\n",
              "      <td>1830</td>\n",
              "      <td>62</td>\n",
              "      <td>13</td>\n",
              "      <td>252.0</td>\n",
              "      <td>2279</td>\n",
              "      <td>0.0</td>\n",
              "      <td>4.0</td>\n",
              "      <td>2.0</td>\n",
              "    </tr>\n",
              "    <tr>\n",
              "      <th>2014-01-01 00:08:00</th>\n",
              "      <td>2014</td>\n",
              "      <td>1</td>\n",
              "      <td>1</td>\n",
              "      <td>8.0</td>\n",
              "      <td>13.0</td>\n",
              "      <td>548.0</td>\n",
              "      <td>-4.0</td>\n",
              "      <td>UA</td>\n",
              "      <td>N37422</td>\n",
              "      <td>1609</td>\n",
              "      <td>53</td>\n",
              "      <td>30</td>\n",
              "      <td>201.0</td>\n",
              "      <td>1825</td>\n",
              "      <td>0.0</td>\n",
              "      <td>8.0</td>\n",
              "      <td>2.0</td>\n",
              "    </tr>\n",
              "    <tr>\n",
              "      <th>2014-01-01 00:28:00</th>\n",
              "      <td>2014</td>\n",
              "      <td>1</td>\n",
              "      <td>1</td>\n",
              "      <td>28.0</td>\n",
              "      <td>-2.0</td>\n",
              "      <td>800.0</td>\n",
              "      <td>-23.0</td>\n",
              "      <td>US</td>\n",
              "      <td>N547UW</td>\n",
              "      <td>466</td>\n",
              "      <td>53</td>\n",
              "      <td>13</td>\n",
              "      <td>251.0</td>\n",
              "      <td>2282</td>\n",
              "      <td>0.0</td>\n",
              "      <td>28.0</td>\n",
              "      <td>2.0</td>\n",
              "    </tr>\n",
              "    <tr>\n",
              "      <th>2014-01-01 00:34:00</th>\n",
              "      <td>2014</td>\n",
              "      <td>1</td>\n",
              "      <td>1</td>\n",
              "      <td>34.0</td>\n",
              "      <td>44.0</td>\n",
              "      <td>325.0</td>\n",
              "      <td>43.0</td>\n",
              "      <td>AS</td>\n",
              "      <td>N762AS</td>\n",
              "      <td>121</td>\n",
              "      <td>62</td>\n",
              "      <td>2</td>\n",
              "      <td>201.0</td>\n",
              "      <td>1448</td>\n",
              "      <td>0.0</td>\n",
              "      <td>34.0</td>\n",
              "      <td>2.0</td>\n",
              "    </tr>\n",
              "  </tbody>\n",
              "</table>\n",
              "</div>"
            ],
            "text/plain": [
              "                     year  month  day  ...  hour  minute  DayOfWeek\n",
              "Date                                   ...                         \n",
              "2014-01-01 00:01:00  2014      1    1  ...   0.0     1.0        2.0\n",
              "2014-01-01 00:04:00  2014      1    1  ...   0.0     4.0        2.0\n",
              "2014-01-01 00:08:00  2014      1    1  ...   0.0     8.0        2.0\n",
              "2014-01-01 00:28:00  2014      1    1  ...   0.0    28.0        2.0\n",
              "2014-01-01 00:34:00  2014      1    1  ...   0.0    34.0        2.0\n",
              "\n",
              "[5 rows x 17 columns]"
            ]
          },
          "metadata": {
            "tags": []
          },
          "execution_count": 59
        }
      ]
    },
    {
      "cell_type": "code",
      "metadata": {
        "id": "AkpVqNdISa_6"
      },
      "source": [],
      "execution_count": null,
      "outputs": []
    },
    {
      "cell_type": "markdown",
      "metadata": {
        "id": "hzgJXQlEIu2C"
      },
      "source": [
        "### One-Hot Encoding for carrier\n",
        "\n",
        "The basic strategy is to convert each category value into a new column and assign a 1 or 0 (True/False) value to the column"
      ]
    },
    {
      "cell_type": "code",
      "metadata": {
        "id": "m8p4nGiMHLFM",
        "outputId": "3c56ef46-e762-45eb-bc5c-ded4e7055a19",
        "colab": {
          "base_uri": "https://localhost:8080/",
          "height": 413
        }
      },
      "source": [],
      "execution_count": null,
      "outputs": [
        {
          "output_type": "execute_result",
          "data": {
            "text/html": [
              "<div>\n",
              "<style scoped>\n",
              "    .dataframe tbody tr th:only-of-type {\n",
              "        vertical-align: middle;\n",
              "    }\n",
              "\n",
              "    .dataframe tbody tr th {\n",
              "        vertical-align: top;\n",
              "    }\n",
              "\n",
              "    .dataframe thead th {\n",
              "        text-align: right;\n",
              "    }\n",
              "</style>\n",
              "<table border=\"1\" class=\"dataframe\">\n",
              "  <thead>\n",
              "    <tr style=\"text-align: right;\">\n",
              "      <th></th>\n",
              "      <th>year</th>\n",
              "      <th>month</th>\n",
              "      <th>day</th>\n",
              "      <th>dep_time</th>\n",
              "      <th>dep_delay</th>\n",
              "      <th>arr_time</th>\n",
              "      <th>arr_delay</th>\n",
              "      <th>tailnum</th>\n",
              "      <th>flight</th>\n",
              "      <th>origin</th>\n",
              "      <th>dest</th>\n",
              "      <th>air_time</th>\n",
              "      <th>distance</th>\n",
              "      <th>hour</th>\n",
              "      <th>minute</th>\n",
              "      <th>DayOfWeek</th>\n",
              "      <th>carrier_1</th>\n",
              "      <th>carrier_2</th>\n",
              "      <th>carrier_3</th>\n",
              "      <th>carrier_4</th>\n",
              "      <th>carrier_5</th>\n",
              "      <th>carrier_6</th>\n",
              "      <th>carrier_7</th>\n",
              "      <th>carrier_8</th>\n",
              "      <th>carrier_9</th>\n",
              "      <th>carrier_10</th>\n",
              "      <th>carrier_11</th>\n",
              "    </tr>\n",
              "    <tr>\n",
              "      <th>Date</th>\n",
              "      <th></th>\n",
              "      <th></th>\n",
              "      <th></th>\n",
              "      <th></th>\n",
              "      <th></th>\n",
              "      <th></th>\n",
              "      <th></th>\n",
              "      <th></th>\n",
              "      <th></th>\n",
              "      <th></th>\n",
              "      <th></th>\n",
              "      <th></th>\n",
              "      <th></th>\n",
              "      <th></th>\n",
              "      <th></th>\n",
              "      <th></th>\n",
              "      <th></th>\n",
              "      <th></th>\n",
              "      <th></th>\n",
              "      <th></th>\n",
              "      <th></th>\n",
              "      <th></th>\n",
              "      <th></th>\n",
              "      <th></th>\n",
              "      <th></th>\n",
              "      <th></th>\n",
              "      <th></th>\n",
              "    </tr>\n",
              "  </thead>\n",
              "  <tbody>\n",
              "    <tr>\n",
              "      <th>2014-01-01 00:01:00</th>\n",
              "      <td>2014</td>\n",
              "      <td>1</td>\n",
              "      <td>1</td>\n",
              "      <td>1.0</td>\n",
              "      <td>96.0</td>\n",
              "      <td>235.0</td>\n",
              "      <td>70.0</td>\n",
              "      <td>N508AS</td>\n",
              "      <td>145</td>\n",
              "      <td>53</td>\n",
              "      <td>2</td>\n",
              "      <td>194.0</td>\n",
              "      <td>1542</td>\n",
              "      <td>0.0</td>\n",
              "      <td>1.0</td>\n",
              "      <td>2.0</td>\n",
              "      <td>0</td>\n",
              "      <td>1</td>\n",
              "      <td>0</td>\n",
              "      <td>0</td>\n",
              "      <td>0</td>\n",
              "      <td>0</td>\n",
              "      <td>0</td>\n",
              "      <td>0</td>\n",
              "      <td>0</td>\n",
              "      <td>0</td>\n",
              "      <td>0</td>\n",
              "    </tr>\n",
              "    <tr>\n",
              "      <th>2014-01-01 00:04:00</th>\n",
              "      <td>2014</td>\n",
              "      <td>1</td>\n",
              "      <td>1</td>\n",
              "      <td>4.0</td>\n",
              "      <td>-6.0</td>\n",
              "      <td>738.0</td>\n",
              "      <td>-23.0</td>\n",
              "      <td>N195UW</td>\n",
              "      <td>1830</td>\n",
              "      <td>62</td>\n",
              "      <td>13</td>\n",
              "      <td>252.0</td>\n",
              "      <td>2279</td>\n",
              "      <td>0.0</td>\n",
              "      <td>4.0</td>\n",
              "      <td>2.0</td>\n",
              "      <td>0</td>\n",
              "      <td>0</td>\n",
              "      <td>0</td>\n",
              "      <td>0</td>\n",
              "      <td>0</td>\n",
              "      <td>0</td>\n",
              "      <td>0</td>\n",
              "      <td>0</td>\n",
              "      <td>1</td>\n",
              "      <td>0</td>\n",
              "      <td>0</td>\n",
              "    </tr>\n",
              "    <tr>\n",
              "      <th>2014-01-01 00:08:00</th>\n",
              "      <td>2014</td>\n",
              "      <td>1</td>\n",
              "      <td>1</td>\n",
              "      <td>8.0</td>\n",
              "      <td>13.0</td>\n",
              "      <td>548.0</td>\n",
              "      <td>-4.0</td>\n",
              "      <td>N37422</td>\n",
              "      <td>1609</td>\n",
              "      <td>53</td>\n",
              "      <td>30</td>\n",
              "      <td>201.0</td>\n",
              "      <td>1825</td>\n",
              "      <td>0.0</td>\n",
              "      <td>8.0</td>\n",
              "      <td>2.0</td>\n",
              "      <td>0</td>\n",
              "      <td>0</td>\n",
              "      <td>0</td>\n",
              "      <td>0</td>\n",
              "      <td>0</td>\n",
              "      <td>0</td>\n",
              "      <td>0</td>\n",
              "      <td>1</td>\n",
              "      <td>0</td>\n",
              "      <td>0</td>\n",
              "      <td>0</td>\n",
              "    </tr>\n",
              "    <tr>\n",
              "      <th>2014-01-01 00:28:00</th>\n",
              "      <td>2014</td>\n",
              "      <td>1</td>\n",
              "      <td>1</td>\n",
              "      <td>28.0</td>\n",
              "      <td>-2.0</td>\n",
              "      <td>800.0</td>\n",
              "      <td>-23.0</td>\n",
              "      <td>N547UW</td>\n",
              "      <td>466</td>\n",
              "      <td>53</td>\n",
              "      <td>13</td>\n",
              "      <td>251.0</td>\n",
              "      <td>2282</td>\n",
              "      <td>0.0</td>\n",
              "      <td>28.0</td>\n",
              "      <td>2.0</td>\n",
              "      <td>0</td>\n",
              "      <td>0</td>\n",
              "      <td>0</td>\n",
              "      <td>0</td>\n",
              "      <td>0</td>\n",
              "      <td>0</td>\n",
              "      <td>0</td>\n",
              "      <td>0</td>\n",
              "      <td>1</td>\n",
              "      <td>0</td>\n",
              "      <td>0</td>\n",
              "    </tr>\n",
              "    <tr>\n",
              "      <th>2014-01-01 00:34:00</th>\n",
              "      <td>2014</td>\n",
              "      <td>1</td>\n",
              "      <td>1</td>\n",
              "      <td>34.0</td>\n",
              "      <td>44.0</td>\n",
              "      <td>325.0</td>\n",
              "      <td>43.0</td>\n",
              "      <td>N762AS</td>\n",
              "      <td>121</td>\n",
              "      <td>62</td>\n",
              "      <td>2</td>\n",
              "      <td>201.0</td>\n",
              "      <td>1448</td>\n",
              "      <td>0.0</td>\n",
              "      <td>34.0</td>\n",
              "      <td>2.0</td>\n",
              "      <td>0</td>\n",
              "      <td>1</td>\n",
              "      <td>0</td>\n",
              "      <td>0</td>\n",
              "      <td>0</td>\n",
              "      <td>0</td>\n",
              "      <td>0</td>\n",
              "      <td>0</td>\n",
              "      <td>0</td>\n",
              "      <td>0</td>\n",
              "      <td>0</td>\n",
              "    </tr>\n",
              "  </tbody>\n",
              "</table>\n",
              "</div>"
            ],
            "text/plain": [
              "                     year  month  day  ...  carrier_9  carrier_10  carrier_11\n",
              "Date                                   ...                                   \n",
              "2014-01-01 00:01:00  2014      1    1  ...          0           0           0\n",
              "2014-01-01 00:04:00  2014      1    1  ...          1           0           0\n",
              "2014-01-01 00:08:00  2014      1    1  ...          0           0           0\n",
              "2014-01-01 00:28:00  2014      1    1  ...          1           0           0\n",
              "2014-01-01 00:34:00  2014      1    1  ...          0           0           0\n",
              "\n",
              "[5 rows x 27 columns]"
            ]
          },
          "metadata": {
            "tags": []
          },
          "execution_count": 62
        }
      ]
    },
    {
      "cell_type": "markdown",
      "metadata": {
        "id": "V1LC4jnoJ2xb"
      },
      "source": [
        "### Clean unuseful variables"
      ]
    },
    {
      "cell_type": "code",
      "metadata": {
        "id": "xc81VnIcJ1Yq",
        "outputId": "5631f9a2-9b94-4594-a8ee-1204dc574dc6",
        "colab": {
          "base_uri": "https://localhost:8080/",
          "height": 413
        }
      },
      "source": [],
      "execution_count": null,
      "outputs": [
        {
          "output_type": "execute_result",
          "data": {
            "text/html": [
              "<div>\n",
              "<style scoped>\n",
              "    .dataframe tbody tr th:only-of-type {\n",
              "        vertical-align: middle;\n",
              "    }\n",
              "\n",
              "    .dataframe tbody tr th {\n",
              "        vertical-align: top;\n",
              "    }\n",
              "\n",
              "    .dataframe thead th {\n",
              "        text-align: right;\n",
              "    }\n",
              "</style>\n",
              "<table border=\"1\" class=\"dataframe\">\n",
              "  <thead>\n",
              "    <tr style=\"text-align: right;\">\n",
              "      <th></th>\n",
              "      <th>month</th>\n",
              "      <th>dep_time</th>\n",
              "      <th>dep_delay</th>\n",
              "      <th>arr_time</th>\n",
              "      <th>arr_delay</th>\n",
              "      <th>origin</th>\n",
              "      <th>dest</th>\n",
              "      <th>distance</th>\n",
              "      <th>DayOfWeek</th>\n",
              "      <th>carrier_1</th>\n",
              "      <th>carrier_2</th>\n",
              "      <th>carrier_3</th>\n",
              "      <th>carrier_4</th>\n",
              "      <th>carrier_5</th>\n",
              "      <th>carrier_6</th>\n",
              "      <th>carrier_7</th>\n",
              "      <th>carrier_8</th>\n",
              "      <th>carrier_9</th>\n",
              "      <th>carrier_10</th>\n",
              "      <th>carrier_11</th>\n",
              "    </tr>\n",
              "    <tr>\n",
              "      <th>Date</th>\n",
              "      <th></th>\n",
              "      <th></th>\n",
              "      <th></th>\n",
              "      <th></th>\n",
              "      <th></th>\n",
              "      <th></th>\n",
              "      <th></th>\n",
              "      <th></th>\n",
              "      <th></th>\n",
              "      <th></th>\n",
              "      <th></th>\n",
              "      <th></th>\n",
              "      <th></th>\n",
              "      <th></th>\n",
              "      <th></th>\n",
              "      <th></th>\n",
              "      <th></th>\n",
              "      <th></th>\n",
              "      <th></th>\n",
              "      <th></th>\n",
              "    </tr>\n",
              "  </thead>\n",
              "  <tbody>\n",
              "    <tr>\n",
              "      <th>2014-01-01 00:01:00</th>\n",
              "      <td>1</td>\n",
              "      <td>1.0</td>\n",
              "      <td>96.0</td>\n",
              "      <td>235.0</td>\n",
              "      <td>70.0</td>\n",
              "      <td>53</td>\n",
              "      <td>2</td>\n",
              "      <td>1542</td>\n",
              "      <td>2.0</td>\n",
              "      <td>0</td>\n",
              "      <td>1</td>\n",
              "      <td>0</td>\n",
              "      <td>0</td>\n",
              "      <td>0</td>\n",
              "      <td>0</td>\n",
              "      <td>0</td>\n",
              "      <td>0</td>\n",
              "      <td>0</td>\n",
              "      <td>0</td>\n",
              "      <td>0</td>\n",
              "    </tr>\n",
              "    <tr>\n",
              "      <th>2014-01-01 00:04:00</th>\n",
              "      <td>1</td>\n",
              "      <td>4.0</td>\n",
              "      <td>-6.0</td>\n",
              "      <td>738.0</td>\n",
              "      <td>-23.0</td>\n",
              "      <td>62</td>\n",
              "      <td>13</td>\n",
              "      <td>2279</td>\n",
              "      <td>2.0</td>\n",
              "      <td>0</td>\n",
              "      <td>0</td>\n",
              "      <td>0</td>\n",
              "      <td>0</td>\n",
              "      <td>0</td>\n",
              "      <td>0</td>\n",
              "      <td>0</td>\n",
              "      <td>0</td>\n",
              "      <td>1</td>\n",
              "      <td>0</td>\n",
              "      <td>0</td>\n",
              "    </tr>\n",
              "    <tr>\n",
              "      <th>2014-01-01 00:08:00</th>\n",
              "      <td>1</td>\n",
              "      <td>8.0</td>\n",
              "      <td>13.0</td>\n",
              "      <td>548.0</td>\n",
              "      <td>-4.0</td>\n",
              "      <td>53</td>\n",
              "      <td>30</td>\n",
              "      <td>1825</td>\n",
              "      <td>2.0</td>\n",
              "      <td>0</td>\n",
              "      <td>0</td>\n",
              "      <td>0</td>\n",
              "      <td>0</td>\n",
              "      <td>0</td>\n",
              "      <td>0</td>\n",
              "      <td>0</td>\n",
              "      <td>1</td>\n",
              "      <td>0</td>\n",
              "      <td>0</td>\n",
              "      <td>0</td>\n",
              "    </tr>\n",
              "    <tr>\n",
              "      <th>2014-01-01 00:28:00</th>\n",
              "      <td>1</td>\n",
              "      <td>28.0</td>\n",
              "      <td>-2.0</td>\n",
              "      <td>800.0</td>\n",
              "      <td>-23.0</td>\n",
              "      <td>53</td>\n",
              "      <td>13</td>\n",
              "      <td>2282</td>\n",
              "      <td>2.0</td>\n",
              "      <td>0</td>\n",
              "      <td>0</td>\n",
              "      <td>0</td>\n",
              "      <td>0</td>\n",
              "      <td>0</td>\n",
              "      <td>0</td>\n",
              "      <td>0</td>\n",
              "      <td>0</td>\n",
              "      <td>1</td>\n",
              "      <td>0</td>\n",
              "      <td>0</td>\n",
              "    </tr>\n",
              "    <tr>\n",
              "      <th>2014-01-01 00:34:00</th>\n",
              "      <td>1</td>\n",
              "      <td>34.0</td>\n",
              "      <td>44.0</td>\n",
              "      <td>325.0</td>\n",
              "      <td>43.0</td>\n",
              "      <td>62</td>\n",
              "      <td>2</td>\n",
              "      <td>1448</td>\n",
              "      <td>2.0</td>\n",
              "      <td>0</td>\n",
              "      <td>1</td>\n",
              "      <td>0</td>\n",
              "      <td>0</td>\n",
              "      <td>0</td>\n",
              "      <td>0</td>\n",
              "      <td>0</td>\n",
              "      <td>0</td>\n",
              "      <td>0</td>\n",
              "      <td>0</td>\n",
              "      <td>0</td>\n",
              "    </tr>\n",
              "  </tbody>\n",
              "</table>\n",
              "</div>"
            ],
            "text/plain": [
              "                     month  dep_time  ...  carrier_10  carrier_11\n",
              "Date                                  ...                        \n",
              "2014-01-01 00:01:00      1       1.0  ...           0           0\n",
              "2014-01-01 00:04:00      1       4.0  ...           0           0\n",
              "2014-01-01 00:08:00      1       8.0  ...           0           0\n",
              "2014-01-01 00:28:00      1      28.0  ...           0           0\n",
              "2014-01-01 00:34:00      1      34.0  ...           0           0\n",
              "\n",
              "[5 rows x 20 columns]"
            ]
          },
          "metadata": {
            "tags": []
          },
          "execution_count": 63
        }
      ]
    },
    {
      "cell_type": "code",
      "metadata": {
        "id": "VEOi-RIcQljq",
        "outputId": "d2527813-3344-42fc-a0d1-833f258b2d84",
        "colab": {
          "base_uri": "https://localhost:8080/"
        }
      },
      "source": [],
      "execution_count": null,
      "outputs": [
        {
          "output_type": "stream",
          "text": [
            "Before : year         0.000000\n",
            "month        0.000000\n",
            "day          0.000000\n",
            "dep_time     0.528852\n",
            "dep_delay    0.528852\n",
            "arr_time     0.609692\n",
            "arr_delay    0.802844\n",
            "carrier      0.000000\n",
            "tailnum      0.153040\n",
            "flight       0.000000\n",
            "origin       0.000000\n",
            "dest         0.000000\n",
            "air_time     0.802844\n",
            "distance     0.000000\n",
            "hour         0.528852\n",
            "minute       0.528852\n",
            "DayOfWeek    0.528852\n",
            "dtype: float64\n",
            "After : year         0.000000\n",
            "month        0.000000\n",
            "day          0.000000\n",
            "dep_time     0.528852\n",
            "dep_delay    0.000000\n",
            "arr_time     0.609692\n",
            "arr_delay    0.000000\n",
            "carrier      0.000000\n",
            "tailnum      0.153040\n",
            "flight       0.000000\n",
            "origin       0.000000\n",
            "dest         0.000000\n",
            "air_time     0.802844\n",
            "distance     0.000000\n",
            "hour         0.528852\n",
            "minute       0.528852\n",
            "DayOfWeek    0.528852\n",
            "dtype: float64\n"
          ],
          "name": "stdout"
        }
      ]
    },
    {
      "cell_type": "code",
      "metadata": {
        "id": "yvZ5S5yTSwt7",
        "outputId": "03fb8a17-9d2f-4d6b-e0cf-db5b54b2c638",
        "colab": {
          "base_uri": "https://localhost:8080/"
        }
      },
      "source": [],
      "execution_count": null,
      "outputs": [
        {
          "output_type": "stream",
          "text": [
            "After : year         0.0\n",
            "month        0.0\n",
            "day          0.0\n",
            "dep_time     0.0\n",
            "dep_delay    0.0\n",
            "arr_time     0.0\n",
            "arr_delay    0.0\n",
            "carrier      0.0\n",
            "tailnum      0.0\n",
            "flight       0.0\n",
            "origin       0.0\n",
            "dest         0.0\n",
            "air_time     0.0\n",
            "distance     0.0\n",
            "hour         0.0\n",
            "minute       0.0\n",
            "DayOfWeek    0.0\n",
            "dtype: float64\n",
            "(160748, 17)\n"
          ],
          "name": "stdout"
        }
      ]
    },
    {
      "cell_type": "markdown",
      "metadata": {
        "id": "veBbPcgJKrqI"
      },
      "source": [
        "## Data Splitting"
      ]
    },
    {
      "cell_type": "code",
      "metadata": {
        "id": "ceXBlu0YKt8R",
        "outputId": "a5b037aa-6949-4246-fe9b-291830b40c65",
        "colab": {
          "base_uri": "https://localhost:8080/"
        }
      },
      "source": [],
      "execution_count": null,
      "outputs": [
        {
          "output_type": "stream",
          "text": [
            "(112523, 15) (48225, 15) (112523,) (48225,)\n"
          ],
          "name": "stdout"
        }
      ]
    },
    {
      "cell_type": "code",
      "metadata": {
        "id": "TA1KoFbI3FXd",
        "outputId": "b15d3dfc-23cb-4efb-adff-ae8a53b2b94e",
        "colab": {
          "base_uri": "https://localhost:8080/",
          "height": 225
        }
      },
      "source": [
        "X_train.head()"
      ],
      "execution_count": null,
      "outputs": [
        {
          "output_type": "execute_result",
          "data": {
            "text/html": [
              "<div>\n",
              "<style scoped>\n",
              "    .dataframe tbody tr th:only-of-type {\n",
              "        vertical-align: middle;\n",
              "    }\n",
              "\n",
              "    .dataframe tbody tr th {\n",
              "        vertical-align: top;\n",
              "    }\n",
              "\n",
              "    .dataframe thead th {\n",
              "        text-align: right;\n",
              "    }\n",
              "</style>\n",
              "<table border=\"1\" class=\"dataframe\">\n",
              "  <thead>\n",
              "    <tr style=\"text-align: right;\">\n",
              "      <th></th>\n",
              "      <th>year</th>\n",
              "      <th>month</th>\n",
              "      <th>day</th>\n",
              "      <th>dep_time</th>\n",
              "      <th>dep_delay</th>\n",
              "      <th>arr_time</th>\n",
              "      <th>carrier</th>\n",
              "      <th>flight</th>\n",
              "      <th>origin</th>\n",
              "      <th>dest</th>\n",
              "      <th>air_time</th>\n",
              "      <th>distance</th>\n",
              "      <th>hour</th>\n",
              "      <th>minute</th>\n",
              "      <th>DayOfWeek</th>\n",
              "    </tr>\n",
              "    <tr>\n",
              "      <th>Date</th>\n",
              "      <th></th>\n",
              "      <th></th>\n",
              "      <th></th>\n",
              "      <th></th>\n",
              "      <th></th>\n",
              "      <th></th>\n",
              "      <th></th>\n",
              "      <th></th>\n",
              "      <th></th>\n",
              "      <th></th>\n",
              "      <th></th>\n",
              "      <th></th>\n",
              "      <th></th>\n",
              "      <th></th>\n",
              "      <th></th>\n",
              "    </tr>\n",
              "  </thead>\n",
              "  <tbody>\n",
              "    <tr>\n",
              "      <th>2014-05-20 05:12:00</th>\n",
              "      <td>2014</td>\n",
              "      <td>5</td>\n",
              "      <td>20</td>\n",
              "      <td>5.0</td>\n",
              "      <td>-3.0</td>\n",
              "      <td>709.0</td>\n",
              "      <td>8</td>\n",
              "      <td>1424</td>\n",
              "      <td>62</td>\n",
              "      <td>63</td>\n",
              "      <td>99.0</td>\n",
              "      <td>679</td>\n",
              "      <td>5.0</td>\n",
              "      <td>12.0</td>\n",
              "      <td>1.0</td>\n",
              "    </tr>\n",
              "    <tr>\n",
              "      <th>2014-06-17 10:32:00</th>\n",
              "      <td>2014</td>\n",
              "      <td>6</td>\n",
              "      <td>17</td>\n",
              "      <td>10.0</td>\n",
              "      <td>-3.0</td>\n",
              "      <td>1410.0</td>\n",
              "      <td>2</td>\n",
              "      <td>672</td>\n",
              "      <td>62</td>\n",
              "      <td>17</td>\n",
              "      <td>132.0</td>\n",
              "      <td>1024</td>\n",
              "      <td>10.0</td>\n",
              "      <td>32.0</td>\n",
              "      <td>1.0</td>\n",
              "    </tr>\n",
              "    <tr>\n",
              "      <th>2014-09-03 07:08:00</th>\n",
              "      <td>2014</td>\n",
              "      <td>9</td>\n",
              "      <td>3</td>\n",
              "      <td>7.0</td>\n",
              "      <td>8.0</td>\n",
              "      <td>1353.0</td>\n",
              "      <td>4</td>\n",
              "      <td>822</td>\n",
              "      <td>62</td>\n",
              "      <td>19</td>\n",
              "      <td>206.0</td>\n",
              "      <td>1927</td>\n",
              "      <td>7.0</td>\n",
              "      <td>8.0</td>\n",
              "      <td>2.0</td>\n",
              "    </tr>\n",
              "    <tr>\n",
              "      <th>2014-05-15 20:48:00</th>\n",
              "      <td>2014</td>\n",
              "      <td>5</td>\n",
              "      <td>15</td>\n",
              "      <td>20.0</td>\n",
              "      <td>-2.0</td>\n",
              "      <td>2307.0</td>\n",
              "      <td>2</td>\n",
              "      <td>598</td>\n",
              "      <td>53</td>\n",
              "      <td>59</td>\n",
              "      <td>121.0</td>\n",
              "      <td>933</td>\n",
              "      <td>20.0</td>\n",
              "      <td>48.0</td>\n",
              "      <td>3.0</td>\n",
              "    </tr>\n",
              "    <tr>\n",
              "      <th>2014-09-22 17:52:00</th>\n",
              "      <td>2014</td>\n",
              "      <td>9</td>\n",
              "      <td>22</td>\n",
              "      <td>17.0</td>\n",
              "      <td>-8.0</td>\n",
              "      <td>2001.0</td>\n",
              "      <td>7</td>\n",
              "      <td>3462</td>\n",
              "      <td>53</td>\n",
              "      <td>51</td>\n",
              "      <td>118.0</td>\n",
              "      <td>838</td>\n",
              "      <td>17.0</td>\n",
              "      <td>52.0</td>\n",
              "      <td>0.0</td>\n",
              "    </tr>\n",
              "  </tbody>\n",
              "</table>\n",
              "</div>"
            ],
            "text/plain": [
              "                     year  month  day  ...  hour  minute  DayOfWeek\n",
              "Date                                   ...                         \n",
              "2014-05-20 05:12:00  2014      5   20  ...   5.0    12.0        1.0\n",
              "2014-06-17 10:32:00  2014      6   17  ...  10.0    32.0        1.0\n",
              "2014-09-03 07:08:00  2014      9    3  ...   7.0     8.0        2.0\n",
              "2014-05-15 20:48:00  2014      5   15  ...  20.0    48.0        3.0\n",
              "2014-09-22 17:52:00  2014      9   22  ...  17.0    52.0        0.0\n",
              "\n",
              "[5 rows x 15 columns]"
            ]
          },
          "metadata": {
            "tags": []
          },
          "execution_count": 94
        }
      ]
    },
    {
      "cell_type": "markdown",
      "metadata": {
        "id": "5QBvRUwNL0sD"
      },
      "source": [
        "### Scaler"
      ]
    },
    {
      "cell_type": "code",
      "metadata": {
        "id": "PMD0d0hSL1X4"
      },
      "source": [],
      "execution_count": null,
      "outputs": []
    },
    {
      "cell_type": "markdown",
      "metadata": {
        "id": "NE5WVmnrMQcX"
      },
      "source": [
        "### Linear Model"
      ]
    },
    {
      "cell_type": "code",
      "metadata": {
        "id": "DKqliIUfMYwi",
        "outputId": "2f6f4243-f2c9-48d2-e8b4-bda187ee860e",
        "colab": {
          "base_uri": "https://localhost:8080/"
        }
      },
      "source": [],
      "execution_count": null,
      "outputs": [
        {
          "output_type": "execute_result",
          "data": {
            "text/plain": [
              "LinearRegression(copy_X=True, fit_intercept=True, n_jobs=None, normalize=False)"
            ]
          },
          "metadata": {
            "tags": []
          },
          "execution_count": 96
        }
      ]
    },
    {
      "cell_type": "markdown",
      "metadata": {
        "id": "exGFLxL8VE5R"
      },
      "source": [
        "## Evaluate"
      ]
    },
    {
      "cell_type": "code",
      "metadata": {
        "id": "KTCeE8MAVFtL",
        "outputId": "fd23a569-adcb-476e-8c08-c4d95b700890",
        "colab": {
          "base_uri": "https://localhost:8080/"
        }
      },
      "source": [],
      "execution_count": null,
      "outputs": [
        {
          "output_type": "stream",
          "text": [
            "R^2: 0.8972706015695907\n"
          ],
          "name": "stdout"
        }
      ]
    },
    {
      "cell_type": "code",
      "metadata": {
        "id": "vdFW3qzFU9vz",
        "outputId": "2ada38ae-d6ac-4aba-e21a-398e36729b23",
        "colab": {
          "base_uri": "https://localhost:8080/",
          "height": 586
        }
      },
      "source": [],
      "execution_count": null,
      "outputs": [
        {
          "output_type": "stream",
          "text": [
            "Feature: 0, Score: 0.00000\n",
            "Feature: 1, Score: 0.26723\n",
            "Feature: 2, Score: 0.07810\n",
            "Feature: 3, Score: -0.34366\n",
            "Feature: 4, Score: 29.17443\n",
            "Feature: 5, Score: 0.46276\n",
            "Feature: 6, Score: -0.95395\n",
            "Feature: 7, Score: 0.63556\n",
            "Feature: 8, Score: 0.09037\n",
            "Feature: 9, Score: -0.24869\n",
            "Feature: 10, Score: 37.01145\n",
            "Feature: 11, Score: -38.26259\n",
            "Feature: 12, Score: -0.34366\n",
            "Feature: 13, Score: -0.05654\n",
            "Feature: 14, Score: -0.05149\n"
          ],
          "name": "stdout"
        },
        {
          "output_type": "display_data",
          "data": {
            "image/png": "[encoded data removed]",
            "text/plain": [
              "<Figure size 432x288 with 1 Axes>"
            ]
          },
          "metadata": {
            "tags": [],
            "needs_background": "light"
          }
        },
        {
          "output_type": "stream",
          "text": [
            "Index(['year', 'month', 'day', 'dep_time', 'dep_delay', 'arr_time', 'carrier',\n",
            "       'flight', 'origin', 'dest', 'air_time', 'distance', 'hour', 'minute',\n",
            "       'DayOfWeek'],\n",
            "      dtype='object')\n"
          ],
          "name": "stdout"
        }
      ]
    },
    {
      "cell_type": "markdown",
      "metadata": {
        "id": "8p3aAu2lPOtl"
      },
      "source": [
        "## Do you want a smarter way? Pipelining!\n",
        "\n"
      ]
    },
    {
      "cell_type": "code",
      "metadata": {
        "id": "FI_djnxw4ct2"
      },
      "source": [
        "from sklearn.compose import ColumnTransformer\n",
        "\n",
        "numeric_features = df_flights.columns.values.tolist()\n",
        "numeric_transformer = Pipeline(steps=[('scaler', StandardScaler())])\n",
        "\n",
        "\n",
        "preprocessor = ColumnTransformer(\n",
        "    transformers=[\n",
        "                  ('num', numeric_transformer, numeric_features)])\n",
        "\n",
        "\n",
        "lin = LinearRegression()\n",
        "\n",
        "linear_reg = Pipeline([('preprocessor', preprocessor), \n",
        "                ('lin',lin)])"
      ],
      "execution_count": null,
      "outputs": []
    }
  ]
}